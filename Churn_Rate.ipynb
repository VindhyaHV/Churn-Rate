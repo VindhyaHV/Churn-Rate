{
  "nbformat": 4,
  "nbformat_minor": 0,
  "metadata": {
    "colab": {
      "name": "Churn Rate.ipynb",
      "provenance": [],
      "collapsed_sections": [
        "XRFB6Be5ewlB",
        "F09X6jGHAY0Y",
        "GgcL7h6oUrnm",
        "Dn2Xo93_UwOK",
        "lpI4WyOzVm2S",
        "8SDDDhFTWNai",
        "jwKrZaUJWoP-",
        "pdZW6eUZYdm9",
        "s88c60x8bi5M",
        "8wrtXhueV9AR",
        "CTe3netJUDUE",
        "HVjta-fkUk9-",
        "X_P7zjQcWV9S"
      ]
    },
    "kernelspec": {
      "name": "python3",
      "display_name": "Python 3"
    },
    "language_info": {
      "name": "python"
    }
  },
  "cells": [
    {
      "cell_type": "code",
      "execution_count": null,
      "metadata": {
        "id": "ht7x9ldyeMV2"
      },
      "outputs": [],
      "source": [
        "import numpy as np\n",
        "import pandas as pd\n",
        "import matplotlib.pyplot as plt\n",
        "import seaborn as sns"
      ]
    },
    {
      "cell_type": "markdown",
      "source": [
        "###EDA"
      ],
      "metadata": {
        "id": "XRFB6Be5ewlB"
      }
    },
    {
      "cell_type": "code",
      "source": [
        "train = pd.read_csv('train_PDjVQMB.csv')\n",
        "test = pd.read_csv('test_lTY72QC.csv')"
      ],
      "metadata": {
        "id": "WZxn3uvjeTmK"
      },
      "execution_count": null,
      "outputs": []
    },
    {
      "cell_type": "code",
      "source": [
        "test_id = test.iloc[:,0]\n",
        "train = train.iloc[:,1:]\n",
        "test = test.iloc[:,1:]"
      ],
      "metadata": {
        "id": "NLm1-OLfeqCK"
      },
      "execution_count": null,
      "outputs": []
    },
    {
      "cell_type": "code",
      "source": [
        ""
      ],
      "metadata": {
        "id": "WSRp1DjpK2zI"
      },
      "execution_count": null,
      "outputs": []
    },
    {
      "cell_type": "code",
      "source": [
        "train.head()"
      ],
      "metadata": {
        "colab": {
          "base_uri": "https://localhost:8080/"
        },
        "id": "r4Io24rZevNo",
        "outputId": "9daf53ad-bfcc-4e21-a6ff-f4e5462c7979"
      },
      "execution_count": null,
      "outputs": [
        {
          "output_type": "execute_result",
          "data": {
            "text/html": [
              "\n",
              "  <div id=\"df-2dbaf863-91b3-48ad-a7ec-11d017f3776b\">\n",
              "    <div class=\"colab-df-container\">\n",
              "      <div>\n",
              "<style scoped>\n",
              "    .dataframe tbody tr th:only-of-type {\n",
              "        vertical-align: middle;\n",
              "    }\n",
              "\n",
              "    .dataframe tbody tr th {\n",
              "        vertical-align: top;\n",
              "    }\n",
              "\n",
              "    .dataframe thead th {\n",
              "        text-align: right;\n",
              "    }\n",
              "</style>\n",
              "<table border=\"1\" class=\"dataframe\">\n",
              "  <thead>\n",
              "    <tr style=\"text-align: right;\">\n",
              "      <th></th>\n",
              "      <th>Age</th>\n",
              "      <th>Gender</th>\n",
              "      <th>Income</th>\n",
              "      <th>Balance</th>\n",
              "      <th>Vintage</th>\n",
              "      <th>Transaction_Status</th>\n",
              "      <th>Product_Holdings</th>\n",
              "      <th>Credit_Card</th>\n",
              "      <th>Credit_Category</th>\n",
              "      <th>Is_Churn</th>\n",
              "    </tr>\n",
              "  </thead>\n",
              "  <tbody>\n",
              "    <tr>\n",
              "      <th>0</th>\n",
              "      <td>36</td>\n",
              "      <td>Female</td>\n",
              "      <td>5L - 10L</td>\n",
              "      <td>563266.44</td>\n",
              "      <td>4</td>\n",
              "      <td>0</td>\n",
              "      <td>1</td>\n",
              "      <td>0</td>\n",
              "      <td>Average</td>\n",
              "      <td>1</td>\n",
              "    </tr>\n",
              "    <tr>\n",
              "      <th>1</th>\n",
              "      <td>53</td>\n",
              "      <td>Female</td>\n",
              "      <td>Less than 5L</td>\n",
              "      <td>875572.11</td>\n",
              "      <td>2</td>\n",
              "      <td>1</td>\n",
              "      <td>1</td>\n",
              "      <td>1</td>\n",
              "      <td>Poor</td>\n",
              "      <td>0</td>\n",
              "    </tr>\n",
              "    <tr>\n",
              "      <th>2</th>\n",
              "      <td>35</td>\n",
              "      <td>Female</td>\n",
              "      <td>More than 15L</td>\n",
              "      <td>701607.06</td>\n",
              "      <td>2</td>\n",
              "      <td>1</td>\n",
              "      <td>2</td>\n",
              "      <td>0</td>\n",
              "      <td>Poor</td>\n",
              "      <td>0</td>\n",
              "    </tr>\n",
              "    <tr>\n",
              "      <th>3</th>\n",
              "      <td>43</td>\n",
              "      <td>Female</td>\n",
              "      <td>More than 15L</td>\n",
              "      <td>1393922.16</td>\n",
              "      <td>0</td>\n",
              "      <td>1</td>\n",
              "      <td>2</td>\n",
              "      <td>1</td>\n",
              "      <td>Poor</td>\n",
              "      <td>1</td>\n",
              "    </tr>\n",
              "    <tr>\n",
              "      <th>4</th>\n",
              "      <td>39</td>\n",
              "      <td>Female</td>\n",
              "      <td>More than 15L</td>\n",
              "      <td>893146.23</td>\n",
              "      <td>1</td>\n",
              "      <td>1</td>\n",
              "      <td>1</td>\n",
              "      <td>1</td>\n",
              "      <td>Good</td>\n",
              "      <td>1</td>\n",
              "    </tr>\n",
              "  </tbody>\n",
              "</table>\n",
              "</div>\n",
              "      <button class=\"colab-df-convert\" onclick=\"convertToInteractive('df-2dbaf863-91b3-48ad-a7ec-11d017f3776b')\"\n",
              "              title=\"Convert this dataframe to an interactive table.\"\n",
              "              style=\"display:none;\">\n",
              "        \n",
              "  <svg xmlns=\"http://www.w3.org/2000/svg\" height=\"24px\"viewBox=\"0 0 24 24\"\n",
              "       width=\"24px\">\n",
              "    <path d=\"M0 0h24v24H0V0z\" fill=\"none\"/>\n",
              "    <path d=\"M18.56 5.44l.94 2.06.94-2.06 2.06-.94-2.06-.94-.94-2.06-.94 2.06-2.06.94zm-11 1L8.5 8.5l.94-2.06 2.06-.94-2.06-.94L8.5 2.5l-.94 2.06-2.06.94zm10 10l.94 2.06.94-2.06 2.06-.94-2.06-.94-.94-2.06-.94 2.06-2.06.94z\"/><path d=\"M17.41 7.96l-1.37-1.37c-.4-.4-.92-.59-1.43-.59-.52 0-1.04.2-1.43.59L10.3 9.45l-7.72 7.72c-.78.78-.78 2.05 0 2.83L4 21.41c.39.39.9.59 1.41.59.51 0 1.02-.2 1.41-.59l7.78-7.78 2.81-2.81c.8-.78.8-2.07 0-2.86zM5.41 20L4 18.59l7.72-7.72 1.47 1.35L5.41 20z\"/>\n",
              "  </svg>\n",
              "      </button>\n",
              "      \n",
              "  <style>\n",
              "    .colab-df-container {\n",
              "      display:flex;\n",
              "      flex-wrap:wrap;\n",
              "      gap: 12px;\n",
              "    }\n",
              "\n",
              "    .colab-df-convert {\n",
              "      background-color: #E8F0FE;\n",
              "      border: none;\n",
              "      border-radius: 50%;\n",
              "      cursor: pointer;\n",
              "      display: none;\n",
              "      fill: #1967D2;\n",
              "      height: 32px;\n",
              "      padding: 0 0 0 0;\n",
              "      width: 32px;\n",
              "    }\n",
              "\n",
              "    .colab-df-convert:hover {\n",
              "      background-color: #E2EBFA;\n",
              "      box-shadow: 0px 1px 2px rgba(60, 64, 67, 0.3), 0px 1px 3px 1px rgba(60, 64, 67, 0.15);\n",
              "      fill: #174EA6;\n",
              "    }\n",
              "\n",
              "    [theme=dark] .colab-df-convert {\n",
              "      background-color: #3B4455;\n",
              "      fill: #D2E3FC;\n",
              "    }\n",
              "\n",
              "    [theme=dark] .colab-df-convert:hover {\n",
              "      background-color: #434B5C;\n",
              "      box-shadow: 0px 1px 3px 1px rgba(0, 0, 0, 0.15);\n",
              "      filter: drop-shadow(0px 1px 2px rgba(0, 0, 0, 0.3));\n",
              "      fill: #FFFFFF;\n",
              "    }\n",
              "  </style>\n",
              "\n",
              "      <script>\n",
              "        const buttonEl =\n",
              "          document.querySelector('#df-2dbaf863-91b3-48ad-a7ec-11d017f3776b button.colab-df-convert');\n",
              "        buttonEl.style.display =\n",
              "          google.colab.kernel.accessAllowed ? 'block' : 'none';\n",
              "\n",
              "        async function convertToInteractive(key) {\n",
              "          const element = document.querySelector('#df-2dbaf863-91b3-48ad-a7ec-11d017f3776b');\n",
              "          const dataTable =\n",
              "            await google.colab.kernel.invokeFunction('convertToInteractive',\n",
              "                                                     [key], {});\n",
              "          if (!dataTable) return;\n",
              "\n",
              "          const docLinkHtml = 'Like what you see? Visit the ' +\n",
              "            '<a target=\"_blank\" href=https://colab.research.google.com/notebooks/data_table.ipynb>data table notebook</a>'\n",
              "            + ' to learn more about interactive tables.';\n",
              "          element.innerHTML = '';\n",
              "          dataTable['output_type'] = 'display_data';\n",
              "          await google.colab.output.renderOutput(dataTable, element);\n",
              "          const docLink = document.createElement('div');\n",
              "          docLink.innerHTML = docLinkHtml;\n",
              "          element.appendChild(docLink);\n",
              "        }\n",
              "      </script>\n",
              "    </div>\n",
              "  </div>\n",
              "  "
            ],
            "text/plain": [
              "   Age  Gender         Income     Balance  Vintage  Transaction_Status  \\\n",
              "0   36  Female       5L - 10L   563266.44        4                   0   \n",
              "1   53  Female   Less than 5L   875572.11        2                   1   \n",
              "2   35  Female  More than 15L   701607.06        2                   1   \n",
              "3   43  Female  More than 15L  1393922.16        0                   1   \n",
              "4   39  Female  More than 15L   893146.23        1                   1   \n",
              "\n",
              "  Product_Holdings  Credit_Card Credit_Category  Is_Churn  \n",
              "0                1            0         Average         1  \n",
              "1                1            1            Poor         0  \n",
              "2                2            0            Poor         0  \n",
              "3                2            1            Poor         1  \n",
              "4                1            1            Good         1  "
            ]
          },
          "metadata": {},
          "execution_count": 15
        }
      ]
    },
    {
      "cell_type": "code",
      "source": [
        "print('Shape of train data',train.shape)\n",
        "print('Shape of test data',test.shape)"
      ],
      "metadata": {
        "colab": {
          "base_uri": "https://localhost:8080/"
        },
        "id": "oGi0jsNKe3NO",
        "outputId": "530ff4b4-e743-4992-fe9d-9b8d367257bf"
      },
      "execution_count": null,
      "outputs": [
        {
          "output_type": "stream",
          "name": "stdout",
          "text": [
            "Shape of train data (6650, 10)\n",
            "Shape of test data (2851, 9)\n"
          ]
        }
      ]
    },
    {
      "cell_type": "code",
      "source": [
        "print(train.isna().sum())\n",
        "print('*'*100)\n",
        "print(test.isna().sum())"
      ],
      "metadata": {
        "colab": {
          "base_uri": "https://localhost:8080/"
        },
        "id": "SMXrvLhtfBr3",
        "outputId": "14555b83-bb78-4310-c9a8-1923640fd1c8"
      },
      "execution_count": null,
      "outputs": [
        {
          "output_type": "stream",
          "name": "stdout",
          "text": [
            "Age                   0\n",
            "Gender                0\n",
            "Income                0\n",
            "Balance               0\n",
            "Vintage               0\n",
            "Transaction_Status    0\n",
            "Product_Holdings      0\n",
            "Credit_Card           0\n",
            "Credit_Category       0\n",
            "Is_Churn              0\n",
            "dtype: int64\n",
            "****************************************************************************************************\n",
            "Age                   0\n",
            "Gender                0\n",
            "Income                0\n",
            "Balance               0\n",
            "Vintage               0\n",
            "Transaction_Status    0\n",
            "Product_Holdings      0\n",
            "Credit_Card           0\n",
            "Credit_Category       0\n",
            "dtype: int64\n"
          ]
        }
      ]
    },
    {
      "cell_type": "markdown",
      "source": [
        "There are no missing data in train and test "
      ],
      "metadata": {
        "id": "YsxUE9NVfS-2"
      }
    },
    {
      "cell_type": "markdown",
      "source": [
        "Age"
      ],
      "metadata": {
        "id": "AYbb-v5jxW9I"
      }
    },
    {
      "cell_type": "code",
      "source": [
        "count = np.sort(train['Age'].value_counts())\n",
        "age = list(train['Age'].value_counts().index)"
      ],
      "metadata": {
        "id": "Ks0s0szfxWn8"
      },
      "execution_count": null,
      "outputs": []
    },
    {
      "cell_type": "code",
      "source": [
        "plt.bar(age,count)"
      ],
      "metadata": {
        "colab": {
          "base_uri": "https://localhost:8080/"
        },
        "id": "eD2nhPR10eRJ",
        "outputId": "d75e9bc5-c840-4b9c-c6fd-fe69e9cd701c"
      },
      "execution_count": null,
      "outputs": [
        {
          "output_type": "execute_result",
          "data": {
            "text/plain": [
              "<BarContainer object of 52 artists>"
            ]
          },
          "metadata": {},
          "execution_count": 19
        },
        {
          "output_type": "display_data",
          "data": {
            "image/png": "[encoded data removed]",
            "text/plain": [
              "<Figure size 432x288 with 1 Axes>"
            ]
          },
          "metadata": {
            "needs_background": "light"
          }
        }
      ]
    },
    {
      "cell_type": "markdown",
      "source": [
        "We can see that people in the range 30-40 are less in number , where as Customers of age around 20-21 are more in number"
      ],
      "metadata": {
        "id": "Ev7IxcdE0hv9"
      }
    },
    {
      "cell_type": "code",
      "source": [
        "print(train['Age'].max())\n",
        "print(train['Age'].min())\n",
        "print(train['Age'].mean())"
      ],
      "metadata": {
        "colab": {
          "base_uri": "https://localhost:8080/"
        },
        "id": "yUAb-xE07Bws",
        "outputId": "3a689945-4075-4927-83ad-5a37dcae9ea6"
      },
      "execution_count": null,
      "outputs": [
        {
          "output_type": "stream",
          "name": "stdout",
          "text": [
            "72\n",
            "21\n",
            "41.130225563909775\n"
          ]
        }
      ]
    },
    {
      "cell_type": "markdown",
      "source": [
        "1. max age = 72 \n",
        "2. min age = 21 \n",
        "3. average people age = 41.13"
      ],
      "metadata": {
        "id": "nUCdQHc87Sbn"
      }
    },
    {
      "cell_type": "code",
      "source": [
        "sns.FacetGrid(train,hue = 'Is_Churn',height = 7).map(sns.histplot,'Age').add_legend()"
      ],
      "metadata": {
        "colab": {
          "base_uri": "https://localhost:8080/"
        },
        "id": "xBQb7R0A7ajp",
        "outputId": "4f9b74b3-0a9a-4517-b572-53bb05e972e8"
      },
      "execution_count": null,
      "outputs": [
        {
          "output_type": "execute_result",
          "data": {
            "text/plain": [
              "<seaborn.axisgrid.FacetGrid at 0x7f2e35c0c7d0>"
            ]
          },
          "metadata": {},
          "execution_count": 21
        },
        {
          "output_type": "display_data",
          "data": {
            "image/png": "[encoded data removed]",
            "text/plain": [
              "<Figure size 555.125x504 with 1 Axes>"
            ]
          },
          "metadata": {
            "needs_background": "light"
          }
        }
      ]
    },
    {
      "cell_type": "markdown",
      "source": [
        "Customers of age range 35 - 45 are more likely to have churn = 1"
      ],
      "metadata": {
        "id": "Rzzr7Sh17w8t"
      }
    },
    {
      "cell_type": "code",
      "source": [
        "sns.FacetGrid(train,hue = 'Gender',height = 7).map(sns.histplot,'Age').add_legend()"
      ],
      "metadata": {
        "colab": {
          "base_uri": "https://localhost:8080/"
        },
        "id": "ZW-iiuV6741X",
        "outputId": "87105932-396c-47c7-b28e-a54a3676bd88"
      },
      "execution_count": null,
      "outputs": [
        {
          "output_type": "execute_result",
          "data": {
            "text/plain": [
              "<seaborn.axisgrid.FacetGrid at 0x7f2e32e278d0>"
            ]
          },
          "metadata": {},
          "execution_count": 22
        },
        {
          "output_type": "display_data",
          "data": {
            "image/png": "[encoded data removed]",
            "text/plain": [
              "<Figure size 576.125x504 with 1 Axes>"
            ]
          },
          "metadata": {
            "needs_background": "light"
          }
        }
      ]
    },
    {
      "cell_type": "markdown",
      "source": [
        "Male Customers are more likely to have churn = 1"
      ],
      "metadata": {
        "id": "S_FLUaYo8IGG"
      }
    },
    {
      "cell_type": "code",
      "source": [
        "sns.FacetGrid(train[:][train['Gender']=='Male'],hue = 'Gender',height = 5).map(sns.histplot,'Age').add_legend()\n",
        "sns.FacetGrid(train[:][train['Gender']=='Female'],hue = 'Gender',height = 5).map(sns.histplot,'Age').add_legend()"
      ],
      "metadata": {
        "colab": {
          "base_uri": "https://localhost:8080/"
        },
        "id": "jkWFPS6p8Ntx",
        "outputId": "ac705e83-67fa-4f7e-dc98-b90facdf1d4b"
      },
      "execution_count": null,
      "outputs": [
        {
          "output_type": "execute_result",
          "data": {
            "text/plain": [
              "<seaborn.axisgrid.FacetGrid at 0x7f2e32c19650>"
            ]
          },
          "metadata": {},
          "execution_count": 23
        },
        {
          "output_type": "display_data",
          "data": {
            "image/png": "[encoded data removed]",
            "text/plain": [
              "<Figure size 419.75x360 with 1 Axes>"
            ]
          },
          "metadata": {
            "needs_background": "light"
          }
        },
        {
          "output_type": "display_data",
          "data": {
            "image/png": "[encoded data removed]",
            "text/plain": [
              "<Figure size 432.125x360 with 1 Axes>"
            ]
          },
          "metadata": {
            "needs_background": "light"
          }
        }
      ]
    },
    {
      "cell_type": "markdown",
      "source": [
        "1. Both male and female customers of middle age are more in number"
      ],
      "metadata": {
        "id": "poXraasX83Q5"
      }
    },
    {
      "cell_type": "code",
      "source": [
        "sns.FacetGrid(train[:][train['Gender']=='Male'],hue = 'Gender',height = 5).map(sns.histplot,'Balance').add_legend()\n",
        "sns.FacetGrid(train[:][train['Gender']=='Female'],hue = 'Gender',height = 5).map(sns.histplot,'Balance').add_legend()"
      ],
      "metadata": {
        "colab": {
          "base_uri": "https://localhost:8080/"
        },
        "id": "JU40ClWf-AXF",
        "outputId": "afbea8a8-ff9d-446b-9c6e-21394cddcd80"
      },
      "execution_count": null,
      "outputs": [
        {
          "output_type": "execute_result",
          "data": {
            "text/plain": [
              "<seaborn.axisgrid.FacetGrid at 0x7f2e32eea0d0>"
            ]
          },
          "metadata": {},
          "execution_count": 24
        },
        {
          "output_type": "display_data",
          "data": {
            "image/png": "[encoded data removed]",
            "text/plain": [
              "<Figure size 419.75x360 with 1 Axes>"
            ]
          },
          "metadata": {
            "needs_background": "light"
          }
        },
        {
          "output_type": "display_data",
          "data": {
            "image/png": "[encoded data removed]",
            "text/plain": [
              "<Figure size 432.125x360 with 1 Axes>"
            ]
          },
          "metadata": {
            "needs_background": "light"
          }
        }
      ]
    },
    {
      "cell_type": "markdown",
      "source": [
        "1. We can see that people with low balance are more in number and less customers with high balance"
      ],
      "metadata": {
        "id": "s5_JxqHZ-GNN"
      }
    },
    {
      "cell_type": "code",
      "source": [
        "sns.FacetGrid(train,hue = 'Gender',height = 5).map(sns.histplot,'Credit_Card').add_legend()\n",
        "#sns.FacetGrid(train[:][train['Gender']=='Female'],hue = 'Gender',height = 5).map(sns.histplot,'Credit_Card').add_legend()"
      ],
      "metadata": {
        "colab": {
          "base_uri": "https://localhost:8080/"
        },
        "id": "ZzEnMBWP_DTk",
        "outputId": "d98d1d1b-7966-462b-a422-e710eb40befe"
      },
      "execution_count": null,
      "outputs": [
        {
          "output_type": "execute_result",
          "data": {
            "text/plain": [
              "<seaborn.axisgrid.FacetGrid at 0x7f2e552d5fd0>"
            ]
          },
          "metadata": {},
          "execution_count": 25
        },
        {
          "output_type": "display_data",
          "data": {
            "image/png": "[encoded data removed]",
            "text/plain": [
              "<Figure size 432.125x360 with 1 Axes>"
            ]
          },
          "metadata": {
            "needs_background": "light"
          }
        }
      ]
    },
    {
      "cell_type": "code",
      "source": [
        "sns.FacetGrid(train,hue = 'Credit_Card',height = 5).map(sns.histplot,'Age').add_legend()"
      ],
      "metadata": {
        "colab": {
          "base_uri": "https://localhost:8080/"
        },
        "id": "2z54QKChABbe",
        "outputId": "ee5cc923-8192-4ac6-b819-7439f26c6a31"
      },
      "execution_count": null,
      "outputs": [
        {
          "output_type": "execute_result",
          "data": {
            "text/plain": [
              "<seaborn.axisgrid.FacetGrid at 0x7f2e32e2bd10>"
            ]
          },
          "metadata": {},
          "execution_count": 26
        },
        {
          "output_type": "display_data",
          "data": {
            "image/png": "[encoded data removed]",
            "text/plain": [
              "<Figure size 426.375x360 with 1 Axes>"
            ]
          },
          "metadata": {
            "needs_background": "light"
          }
        }
      ]
    },
    {
      "cell_type": "markdown",
      "source": [
        "People of age range 30-50 are more likely to have Credit_card"
      ],
      "metadata": {
        "id": "8gNGCUMvAMFP"
      }
    },
    {
      "cell_type": "markdown",
      "source": [
        "Male Customers with credit card are more in number"
      ],
      "metadata": {
        "id": "Zmbebfro_4xX"
      }
    },
    {
      "cell_type": "markdown",
      "source": [
        ""
      ],
      "metadata": {
        "id": "YGnJT8IK8reK"
      }
    },
    {
      "cell_type": "markdown",
      "source": [
        "Income"
      ],
      "metadata": {
        "id": "kRt9QUgUgPVJ"
      }
    },
    {
      "cell_type": "code",
      "source": [
        "print(train['Income'].value_counts())"
      ],
      "metadata": {
        "colab": {
          "base_uri": "https://localhost:8080/"
        },
        "id": "OPYOMYtTfR3n",
        "outputId": "ce3acbef-969d-4ed2-cd6c-ef2da4c55f64"
      },
      "execution_count": null,
      "outputs": [
        {
          "output_type": "stream",
          "name": "stdout",
          "text": [
            "10L - 15L        1885\n",
            "5L - 10L         1847\n",
            "Less than 5L     1573\n",
            "More than 15L    1345\n",
            "Name: Income, dtype: int64\n"
          ]
        }
      ]
    },
    {
      "cell_type": "code",
      "source": [
        "plt.bar(train['Income'].value_counts().index,train['Income'].value_counts())"
      ],
      "metadata": {
        "colab": {
          "base_uri": "https://localhost:8080/"
        },
        "id": "6Le1o9nEgRYR",
        "outputId": "7c7abd93-2d70-4a88-e0da-c7e3300f630f"
      },
      "execution_count": null,
      "outputs": [
        {
          "output_type": "execute_result",
          "data": {
            "text/plain": [
              "<BarContainer object of 4 artists>"
            ]
          },
          "metadata": {},
          "execution_count": 28
        },
        {
          "output_type": "display_data",
          "data": {
            "image/png": "[encoded data removed]",
            "text/plain": [
              "<Figure size 432x288 with 1 Axes>"
            ]
          },
          "metadata": {
            "needs_background": "light"
          }
        }
      ]
    },
    {
      "cell_type": "markdown",
      "source": [
        "income range 10L-15L has more number of ids \n",
        "where as more than 15L are less in number"
      ],
      "metadata": {
        "id": "taNMAaiRgp32"
      }
    },
    {
      "cell_type": "code",
      "source": [
        "sns.FacetGrid(train,hue = 'Is_Churn',height = 7).map(sns.histplot,'Income').add_legend()"
      ],
      "metadata": {
        "colab": {
          "base_uri": "https://localhost:8080/"
        },
        "id": "VfBgrky9g3li",
        "outputId": "4253ccc8-87da-416f-c6b5-3459262e891b"
      },
      "execution_count": null,
      "outputs": [
        {
          "output_type": "execute_result",
          "data": {
            "text/plain": [
              "<seaborn.axisgrid.FacetGrid at 0x7f2e328da310>"
            ]
          },
          "metadata": {},
          "execution_count": 29
        },
        {
          "output_type": "display_data",
          "data": {
            "image/png": "[encoded data removed]",
            "text/plain": [
              "<Figure size 555.125x504 with 1 Axes>"
            ]
          },
          "metadata": {
            "needs_background": "light"
          }
        }
      ]
    },
    {
      "cell_type": "markdown",
      "source": [
        "We can see that 10L-15L has more of Churn rate"
      ],
      "metadata": {
        "id": "lxLC49DBh7vm"
      }
    },
    {
      "cell_type": "markdown",
      "source": [
        "Balance"
      ],
      "metadata": {
        "id": "YUlCnaQxiFrj"
      }
    },
    {
      "cell_type": "code",
      "source": [
        "train['Balance']"
      ],
      "metadata": {
        "colab": {
          "base_uri": "https://localhost:8080/"
        },
        "id": "LjJoYrbGiHOb",
        "outputId": "cba00ea8-ac29-4b86-a58c-97056cc1937c"
      },
      "execution_count": null,
      "outputs": [
        {
          "output_type": "execute_result",
          "data": {
            "text/plain": [
              "0        563266.44\n",
              "1        875572.11\n",
              "2        701607.06\n",
              "3       1393922.16\n",
              "4        893146.23\n",
              "           ...    \n",
              "6645    1354526.19\n",
              "6646     596286.54\n",
              "6647     979298.19\n",
              "6648     395233.65\n",
              "6649     826947.27\n",
              "Name: Balance, Length: 6650, dtype: float64"
            ]
          },
          "metadata": {},
          "execution_count": 30
        }
      ]
    },
    {
      "cell_type": "markdown",
      "source": [
        "PDF , CDF of Balance"
      ],
      "metadata": {
        "id": "egAVXRlEi-SH"
      }
    },
    {
      "cell_type": "code",
      "source": [
        "counts,bin_edges = np.histogram(train['Balance'],bins=10,density=True)\n",
        "pdf = counts/np.sum(counts)\n",
        "print(pdf)\n",
        "cdf = np.cumsum(pdf)\n",
        "print(cdf)\n",
        "plt.plot(bin_edges[1:],pdf)\n",
        "plt.plot(bin_edges[1:],cdf)\n",
        "plt.title('PDF,CDF of Balance')\n",
        "plt.xlabel('Balance')\n",
        "plt.ylabel('PDF,CDF')\n",
        "plt.show()"
      ],
      "metadata": {
        "colab": {
          "base_uri": "https://localhost:8080/"
        },
        "id": "iOthTha_iJyI",
        "outputId": "dce86b2c-27a0-4818-9497-61566329a4b0"
      },
      "execution_count": null,
      "outputs": [
        {
          "output_type": "stream",
          "name": "stdout",
          "text": [
            "[0.17308271 0.13172932 0.16796992 0.1712782  0.14165414 0.09849624\n",
            " 0.06255639 0.03218045 0.01218045 0.00887218]\n",
            "[0.17308271 0.30481203 0.47278195 0.64406015 0.78571429 0.88421053\n",
            " 0.94676692 0.97894737 0.99112782 1.        ]\n"
          ]
        },
        {
          "output_type": "display_data",
          "data": {
            "image/png": "[encoded data removed]",
            "text/plain": [
              "<Figure size 432x288 with 1 Axes>"
            ]
          },
          "metadata": {
            "needs_background": "light"
          }
        }
      ]
    },
    {
      "cell_type": "markdown",
      "source": [
        "We can see that most of the people are having balance in the range 0.5e6 - 1e6"
      ],
      "metadata": {
        "id": "Ng-NiEeGlOsJ"
      }
    },
    {
      "cell_type": "code",
      "source": [
        "print('Minimum Balance',train['Balance'].min())\n",
        "print('Maximum Balance',train['Balance'].max())\n",
        "print('Mean Balance',train['Balance'].mean())\n",
        "plt.title('Percentile Balance')\n",
        "plt.plot(np.percentile(train['Balance'],np.arange(0,100,10)))"
      ],
      "metadata": {
        "colab": {
          "base_uri": "https://localhost:8080/"
        },
        "id": "DzEjwt6Hldn9",
        "outputId": "14049a92-a996-43a5-bfc2-1e763040bcef"
      },
      "execution_count": null,
      "outputs": [
        {
          "output_type": "stream",
          "name": "stdout",
          "text": [
            "Minimum Balance 63.0\n",
            "Maximum Balance 2436615.81\n",
            "Mean Balance 804595.354984962\n"
          ]
        },
        {
          "output_type": "execute_result",
          "data": {
            "text/plain": [
              "[<matplotlib.lines.Line2D at 0x7f2e3272cb10>]"
            ]
          },
          "metadata": {},
          "execution_count": 32
        },
        {
          "output_type": "display_data",
          "data": {
            "image/png": "[encoded data removed]",
            "text/plain": [
              "<Figure size 432x288 with 1 Axes>"
            ]
          },
          "metadata": {
            "needs_background": "light"
          }
        }
      ]
    },
    {
      "cell_type": "markdown",
      "source": [
        ""
      ],
      "metadata": {
        "id": "u5igZm4Sg046"
      }
    },
    {
      "cell_type": "code",
      "source": [
        "print(train['Balance'].value_counts())"
      ],
      "metadata": {
        "colab": {
          "base_uri": "https://localhost:8080/"
        },
        "id": "Q5kN8Lc6fXKd",
        "outputId": "6b7e01c2-b0b2-4817-b957-4e70b69dda4f"
      },
      "execution_count": null,
      "outputs": [
        {
          "output_type": "stream",
          "name": "stdout",
          "text": [
            "117549.00     2\n",
            "76122.00      2\n",
            "131121.00     2\n",
            "102123.00     2\n",
            "138825.00     2\n",
            "             ..\n",
            "289348.92     1\n",
            "1031298.48    1\n",
            "242901.27     1\n",
            "719339.85     1\n",
            "826947.27     1\n",
            "Name: Balance, Length: 6643, dtype: int64\n"
          ]
        }
      ]
    },
    {
      "cell_type": "markdown",
      "source": [
        "Vintage"
      ],
      "metadata": {
        "id": "lZdMtITJncKa"
      }
    },
    {
      "cell_type": "code",
      "source": [
        "print(train['Vintage'].value_counts())"
      ],
      "metadata": {
        "colab": {
          "base_uri": "https://localhost:8080/"
        },
        "id": "alxMMHfTgHzY",
        "outputId": "47be49a7-fbed-4ee8-f7bd-193ddb1064fd"
      },
      "execution_count": null,
      "outputs": [
        {
          "output_type": "stream",
          "name": "stdout",
          "text": [
            "3    1405\n",
            "1    1354\n",
            "2    1328\n",
            "4    1296\n",
            "0     956\n",
            "5     311\n",
            "Name: Vintage, dtype: int64\n"
          ]
        }
      ]
    },
    {
      "cell_type": "markdown",
      "source": [
        "We can see that very few people are having bank account from 5 years , Majority are having account from 3 years"
      ],
      "metadata": {
        "id": "BCHiwgpynJIs"
      }
    },
    {
      "cell_type": "markdown",
      "source": [
        "FacetGrid : Vintage"
      ],
      "metadata": {
        "id": "cia-RsPOnyMO"
      }
    },
    {
      "cell_type": "code",
      "source": [
        "sns.FacetGrid(train,hue = 'Is_Churn',size = 7).map(sns.histplot,'Vintage').add_legend()"
      ],
      "metadata": {
        "colab": {
          "base_uri": "https://localhost:8080/"
        },
        "id": "P_s92gisneAT",
        "outputId": "b4014f1d-e065-408d-ffdf-8bde71537e57"
      },
      "execution_count": null,
      "outputs": [
        {
          "output_type": "stream",
          "name": "stderr",
          "text": [
            "/usr/local/lib/python3.7/dist-packages/seaborn/axisgrid.py:337: UserWarning: The `size` parameter has been renamed to `height`; please update your code.\n",
            "  warnings.warn(msg, UserWarning)\n"
          ]
        },
        {
          "output_type": "execute_result",
          "data": {
            "text/plain": [
              "<seaborn.axisgrid.FacetGrid at 0x7f2e326f4a50>"
            ]
          },
          "metadata": {},
          "execution_count": 35
        },
        {
          "output_type": "display_data",
          "data": {
            "image/png": "[encoded data removed]",
            "text/plain": [
              "<Figure size 555.125x504 with 1 Axes>"
            ]
          },
          "metadata": {
            "needs_background": "light"
          }
        }
      ]
    },
    {
      "cell_type": "markdown",
      "source": [
        "We can see that people with Vintage 1 and 3 are having highest Churn rate, 5 has low churn rate"
      ],
      "metadata": {
        "id": "JmDhekbjn4P7"
      }
    },
    {
      "cell_type": "markdown",
      "source": [
        "Grouping Vintage Based on Mean Churn "
      ],
      "metadata": {
        "id": "0WgkRuyYoLgp"
      }
    },
    {
      "cell_type": "code",
      "source": [
        "train[['Vintage','Is_Churn']].groupby(by = 'Vintage').mean()"
      ],
      "metadata": {
        "colab": {
          "base_uri": "https://localhost:8080/"
        },
        "id": "1rkPGmuyoJ50",
        "outputId": "63d10437-9a5b-49aa-b878-f275423d2a8e"
      },
      "execution_count": null,
      "outputs": [
        {
          "output_type": "execute_result",
          "data": {
            "text/html": [
              "\n",
              "  <div id=\"df-3eb69486-b68c-4841-af54-7ac7e742c1ff\">\n",
              "    <div class=\"colab-df-container\">\n",
              "      <div>\n",
              "<style scoped>\n",
              "    .dataframe tbody tr th:only-of-type {\n",
              "        vertical-align: middle;\n",
              "    }\n",
              "\n",
              "    .dataframe tbody tr th {\n",
              "        vertical-align: top;\n",
              "    }\n",
              "\n",
              "    .dataframe thead th {\n",
              "        text-align: right;\n",
              "    }\n",
              "</style>\n",
              "<table border=\"1\" class=\"dataframe\">\n",
              "  <thead>\n",
              "    <tr style=\"text-align: right;\">\n",
              "      <th></th>\n",
              "      <th>Is_Churn</th>\n",
              "    </tr>\n",
              "    <tr>\n",
              "      <th>Vintage</th>\n",
              "      <th></th>\n",
              "    </tr>\n",
              "  </thead>\n",
              "  <tbody>\n",
              "    <tr>\n",
              "      <th>0</th>\n",
              "      <td>0.210251</td>\n",
              "    </tr>\n",
              "    <tr>\n",
              "      <th>1</th>\n",
              "      <td>0.242245</td>\n",
              "    </tr>\n",
              "    <tr>\n",
              "      <th>2</th>\n",
              "      <td>0.207831</td>\n",
              "    </tr>\n",
              "    <tr>\n",
              "      <th>3</th>\n",
              "      <td>0.241281</td>\n",
              "    </tr>\n",
              "    <tr>\n",
              "      <th>4</th>\n",
              "      <td>0.247685</td>\n",
              "    </tr>\n",
              "    <tr>\n",
              "      <th>5</th>\n",
              "      <td>0.231511</td>\n",
              "    </tr>\n",
              "  </tbody>\n",
              "</table>\n",
              "</div>\n",
              "      <button class=\"colab-df-convert\" onclick=\"convertToInteractive('df-3eb69486-b68c-4841-af54-7ac7e742c1ff')\"\n",
              "              title=\"Convert this dataframe to an interactive table.\"\n",
              "              style=\"display:none;\">\n",
              "        \n",
              "  <svg xmlns=\"http://www.w3.org/2000/svg\" height=\"24px\"viewBox=\"0 0 24 24\"\n",
              "       width=\"24px\">\n",
              "    <path d=\"M0 0h24v24H0V0z\" fill=\"none\"/>\n",
              "    <path d=\"M18.56 5.44l.94 2.06.94-2.06 2.06-.94-2.06-.94-.94-2.06-.94 2.06-2.06.94zm-11 1L8.5 8.5l.94-2.06 2.06-.94-2.06-.94L8.5 2.5l-.94 2.06-2.06.94zm10 10l.94 2.06.94-2.06 2.06-.94-2.06-.94-.94-2.06-.94 2.06-2.06.94z\"/><path d=\"M17.41 7.96l-1.37-1.37c-.4-.4-.92-.59-1.43-.59-.52 0-1.04.2-1.43.59L10.3 9.45l-7.72 7.72c-.78.78-.78 2.05 0 2.83L4 21.41c.39.39.9.59 1.41.59.51 0 1.02-.2 1.41-.59l7.78-7.78 2.81-2.81c.8-.78.8-2.07 0-2.86zM5.41 20L4 18.59l7.72-7.72 1.47 1.35L5.41 20z\"/>\n",
              "  </svg>\n",
              "      </button>\n",
              "      \n",
              "  <style>\n",
              "    .colab-df-container {\n",
              "      display:flex;\n",
              "      flex-wrap:wrap;\n",
              "      gap: 12px;\n",
              "    }\n",
              "\n",
              "    .colab-df-convert {\n",
              "      background-color: #E8F0FE;\n",
              "      border: none;\n",
              "      border-radius: 50%;\n",
              "      cursor: pointer;\n",
              "      display: none;\n",
              "      fill: #1967D2;\n",
              "      height: 32px;\n",
              "      padding: 0 0 0 0;\n",
              "      width: 32px;\n",
              "    }\n",
              "\n",
              "    .colab-df-convert:hover {\n",
              "      background-color: #E2EBFA;\n",
              "      box-shadow: 0px 1px 2px rgba(60, 64, 67, 0.3), 0px 1px 3px 1px rgba(60, 64, 67, 0.15);\n",
              "      fill: #174EA6;\n",
              "    }\n",
              "\n",
              "    [theme=dark] .colab-df-convert {\n",
              "      background-color: #3B4455;\n",
              "      fill: #D2E3FC;\n",
              "    }\n",
              "\n",
              "    [theme=dark] .colab-df-convert:hover {\n",
              "      background-color: #434B5C;\n",
              "      box-shadow: 0px 1px 3px 1px rgba(0, 0, 0, 0.15);\n",
              "      filter: drop-shadow(0px 1px 2px rgba(0, 0, 0, 0.3));\n",
              "      fill: #FFFFFF;\n",
              "    }\n",
              "  </style>\n",
              "\n",
              "      <script>\n",
              "        const buttonEl =\n",
              "          document.querySelector('#df-3eb69486-b68c-4841-af54-7ac7e742c1ff button.colab-df-convert');\n",
              "        buttonEl.style.display =\n",
              "          google.colab.kernel.accessAllowed ? 'block' : 'none';\n",
              "\n",
              "        async function convertToInteractive(key) {\n",
              "          const element = document.querySelector('#df-3eb69486-b68c-4841-af54-7ac7e742c1ff');\n",
              "          const dataTable =\n",
              "            await google.colab.kernel.invokeFunction('convertToInteractive',\n",
              "                                                     [key], {});\n",
              "          if (!dataTable) return;\n",
              "\n",
              "          const docLinkHtml = 'Like what you see? Visit the ' +\n",
              "            '<a target=\"_blank\" href=https://colab.research.google.com/notebooks/data_table.ipynb>data table notebook</a>'\n",
              "            + ' to learn more about interactive tables.';\n",
              "          element.innerHTML = '';\n",
              "          dataTable['output_type'] = 'display_data';\n",
              "          await google.colab.output.renderOutput(dataTable, element);\n",
              "          const docLink = document.createElement('div');\n",
              "          docLink.innerHTML = docLinkHtml;\n",
              "          element.appendChild(docLink);\n",
              "        }\n",
              "      </script>\n",
              "    </div>\n",
              "  </div>\n",
              "  "
            ],
            "text/plain": [
              "         Is_Churn\n",
              "Vintage          \n",
              "0        0.210251\n",
              "1        0.242245\n",
              "2        0.207831\n",
              "3        0.241281\n",
              "4        0.247685\n",
              "5        0.231511"
            ]
          },
          "metadata": {},
          "execution_count": 36
        }
      ]
    },
    {
      "cell_type": "markdown",
      "source": [
        "We can Concluded from above graph that Vintage 4 has highest 0:1 ratio , i e percentage of Churn is more in 4"
      ],
      "metadata": {
        "id": "EDxPwhiqolBe"
      }
    },
    {
      "cell_type": "markdown",
      "source": [
        "Transaction Status"
      ],
      "metadata": {
        "id": "yopEPFOwrS8O"
      }
    },
    {
      "cell_type": "code",
      "source": [
        "train['Transaction_Status'].value_counts()"
      ],
      "metadata": {
        "colab": {
          "base_uri": "https://localhost:8080/"
        },
        "id": "GXbBVOayrJrx",
        "outputId": "6cff466a-a0bb-4a1a-ffe2-c7d46ab490aa"
      },
      "execution_count": null,
      "outputs": [
        {
          "output_type": "execute_result",
          "data": {
            "text/plain": [
              "1    3430\n",
              "0    3220\n",
              "Name: Transaction_Status, dtype: int64"
            ]
          },
          "metadata": {},
          "execution_count": 37
        }
      ]
    },
    {
      "cell_type": "markdown",
      "source": [
        "FacetGrid : Transaction_Status"
      ],
      "metadata": {
        "id": "wH1C2Da9rigj"
      }
    },
    {
      "cell_type": "code",
      "source": [
        "sns.FacetGrid(train,hue = 'Is_Churn', height = 5).map(sns.histplot,'Transaction_Status').add_legend()"
      ],
      "metadata": {
        "colab": {
          "base_uri": "https://localhost:8080/"
        },
        "id": "aGPoc1axrdnf",
        "outputId": "d2aa8a76-cbb5-4e8a-d57d-a70a5c6371a8"
      },
      "execution_count": null,
      "outputs": [
        {
          "output_type": "execute_result",
          "data": {
            "text/plain": [
              "<seaborn.axisgrid.FacetGrid at 0x7f2e32597650>"
            ]
          },
          "metadata": {},
          "execution_count": 38
        },
        {
          "output_type": "display_data",
          "data": {
            "image/png": "[encoded data removed]",
            "text/plain": [
              "<Figure size 411.125x360 with 1 Axes>"
            ]
          },
          "metadata": {
            "needs_background": "light"
          }
        }
      ]
    },
    {
      "cell_type": "markdown",
      "source": [
        "Customer with no transaction from past 3 months are more likely to churn "
      ],
      "metadata": {
        "id": "22Qx5PRIr3qU"
      }
    },
    {
      "cell_type": "markdown",
      "source": [
        "Income & Transaction_Status"
      ],
      "metadata": {
        "id": "ybh2W5oRvJXG"
      }
    },
    {
      "cell_type": "code",
      "source": [
        "d = train['Income'][train['Transaction_Status']==0].value_counts()\n",
        "d.plot(label = 0)\n",
        "d = train['Income'][train['Transaction_Status']==1].value_counts()\n",
        "d.plot(label = 1)\n",
        "plt.legend()\n",
        "plt.title('Income v/s Transaction_Status')\n",
        "plt.xlabel('Income')\n",
        "plt.ylabel('Customers')\n",
        "plt.show()"
      ],
      "metadata": {
        "colab": {
          "base_uri": "https://localhost:8080/"
        },
        "id": "vr_XM8gpsG0k",
        "outputId": "22c8d04d-bef4-459b-cac0-0d8faa070424"
      },
      "execution_count": null,
      "outputs": [
        {
          "output_type": "display_data",
          "data": {
            "image/png": "[encoded data removed]",
            "text/plain": [
              "<Figure size 432x288 with 1 Axes>"
            ]
          },
          "metadata": {
            "needs_background": "light"
          }
        }
      ]
    },
    {
      "cell_type": "markdown",
      "source": [
        "1. We can see that customers with Income range 10L-15L are more likely to have made transaction in last 3 months"
      ],
      "metadata": {
        "id": "lav277vtuydG"
      }
    },
    {
      "cell_type": "code",
      "source": [
        "train.head()"
      ],
      "metadata": {
        "colab": {
          "base_uri": "https://localhost:8080/"
        },
        "id": "Kld60QHgwMOc",
        "outputId": "2aed1ac4-b0ec-40ec-82d8-94571253c3b8"
      },
      "execution_count": null,
      "outputs": [
        {
          "output_type": "execute_result",
          "data": {
            "text/html": [
              "\n",
              "  <div id=\"df-3c577860-ee5a-4a92-9096-5404369d3979\">\n",
              "    <div class=\"colab-df-container\">\n",
              "      <div>\n",
              "<style scoped>\n",
              "    .dataframe tbody tr th:only-of-type {\n",
              "        vertical-align: middle;\n",
              "    }\n",
              "\n",
              "    .dataframe tbody tr th {\n",
              "        vertical-align: top;\n",
              "    }\n",
              "\n",
              "    .dataframe thead th {\n",
              "        text-align: right;\n",
              "    }\n",
              "</style>\n",
              "<table border=\"1\" class=\"dataframe\">\n",
              "  <thead>\n",
              "    <tr style=\"text-align: right;\">\n",
              "      <th></th>\n",
              "      <th>Age</th>\n",
              "      <th>Gender</th>\n",
              "      <th>Income</th>\n",
              "      <th>Balance</th>\n",
              "      <th>Vintage</th>\n",
              "      <th>Transaction_Status</th>\n",
              "      <th>Product_Holdings</th>\n",
              "      <th>Credit_Card</th>\n",
              "      <th>Credit_Category</th>\n",
              "      <th>Is_Churn</th>\n",
              "    </tr>\n",
              "  </thead>\n",
              "  <tbody>\n",
              "    <tr>\n",
              "      <th>0</th>\n",
              "      <td>36</td>\n",
              "      <td>Female</td>\n",
              "      <td>5L - 10L</td>\n",
              "      <td>563266.44</td>\n",
              "      <td>4</td>\n",
              "      <td>0</td>\n",
              "      <td>1</td>\n",
              "      <td>0</td>\n",
              "      <td>Average</td>\n",
              "      <td>1</td>\n",
              "    </tr>\n",
              "    <tr>\n",
              "      <th>1</th>\n",
              "      <td>53</td>\n",
              "      <td>Female</td>\n",
              "      <td>Less than 5L</td>\n",
              "      <td>875572.11</td>\n",
              "      <td>2</td>\n",
              "      <td>1</td>\n",
              "      <td>1</td>\n",
              "      <td>1</td>\n",
              "      <td>Poor</td>\n",
              "      <td>0</td>\n",
              "    </tr>\n",
              "    <tr>\n",
              "      <th>2</th>\n",
              "      <td>35</td>\n",
              "      <td>Female</td>\n",
              "      <td>More than 15L</td>\n",
              "      <td>701607.06</td>\n",
              "      <td>2</td>\n",
              "      <td>1</td>\n",
              "      <td>2</td>\n",
              "      <td>0</td>\n",
              "      <td>Poor</td>\n",
              "      <td>0</td>\n",
              "    </tr>\n",
              "    <tr>\n",
              "      <th>3</th>\n",
              "      <td>43</td>\n",
              "      <td>Female</td>\n",
              "      <td>More than 15L</td>\n",
              "      <td>1393922.16</td>\n",
              "      <td>0</td>\n",
              "      <td>1</td>\n",
              "      <td>2</td>\n",
              "      <td>1</td>\n",
              "      <td>Poor</td>\n",
              "      <td>1</td>\n",
              "    </tr>\n",
              "    <tr>\n",
              "      <th>4</th>\n",
              "      <td>39</td>\n",
              "      <td>Female</td>\n",
              "      <td>More than 15L</td>\n",
              "      <td>893146.23</td>\n",
              "      <td>1</td>\n",
              "      <td>1</td>\n",
              "      <td>1</td>\n",
              "      <td>1</td>\n",
              "      <td>Good</td>\n",
              "      <td>1</td>\n",
              "    </tr>\n",
              "  </tbody>\n",
              "</table>\n",
              "</div>\n",
              "      <button class=\"colab-df-convert\" onclick=\"convertToInteractive('df-3c577860-ee5a-4a92-9096-5404369d3979')\"\n",
              "              title=\"Convert this dataframe to an interactive table.\"\n",
              "              style=\"display:none;\">\n",
              "        \n",
              "  <svg xmlns=\"http://www.w3.org/2000/svg\" height=\"24px\"viewBox=\"0 0 24 24\"\n",
              "       width=\"24px\">\n",
              "    <path d=\"M0 0h24v24H0V0z\" fill=\"none\"/>\n",
              "    <path d=\"M18.56 5.44l.94 2.06.94-2.06 2.06-.94-2.06-.94-.94-2.06-.94 2.06-2.06.94zm-11 1L8.5 8.5l.94-2.06 2.06-.94-2.06-.94L8.5 2.5l-.94 2.06-2.06.94zm10 10l.94 2.06.94-2.06 2.06-.94-2.06-.94-.94-2.06-.94 2.06-2.06.94z\"/><path d=\"M17.41 7.96l-1.37-1.37c-.4-.4-.92-.59-1.43-.59-.52 0-1.04.2-1.43.59L10.3 9.45l-7.72 7.72c-.78.78-.78 2.05 0 2.83L4 21.41c.39.39.9.59 1.41.59.51 0 1.02-.2 1.41-.59l7.78-7.78 2.81-2.81c.8-.78.8-2.07 0-2.86zM5.41 20L4 18.59l7.72-7.72 1.47 1.35L5.41 20z\"/>\n",
              "  </svg>\n",
              "      </button>\n",
              "      \n",
              "  <style>\n",
              "    .colab-df-container {\n",
              "      display:flex;\n",
              "      flex-wrap:wrap;\n",
              "      gap: 12px;\n",
              "    }\n",
              "\n",
              "    .colab-df-convert {\n",
              "      background-color: #E8F0FE;\n",
              "      border: none;\n",
              "      border-radius: 50%;\n",
              "      cursor: pointer;\n",
              "      display: none;\n",
              "      fill: #1967D2;\n",
              "      height: 32px;\n",
              "      padding: 0 0 0 0;\n",
              "      width: 32px;\n",
              "    }\n",
              "\n",
              "    .colab-df-convert:hover {\n",
              "      background-color: #E2EBFA;\n",
              "      box-shadow: 0px 1px 2px rgba(60, 64, 67, 0.3), 0px 1px 3px 1px rgba(60, 64, 67, 0.15);\n",
              "      fill: #174EA6;\n",
              "    }\n",
              "\n",
              "    [theme=dark] .colab-df-convert {\n",
              "      background-color: #3B4455;\n",
              "      fill: #D2E3FC;\n",
              "    }\n",
              "\n",
              "    [theme=dark] .colab-df-convert:hover {\n",
              "      background-color: #434B5C;\n",
              "      box-shadow: 0px 1px 3px 1px rgba(0, 0, 0, 0.15);\n",
              "      filter: drop-shadow(0px 1px 2px rgba(0, 0, 0, 0.3));\n",
              "      fill: #FFFFFF;\n",
              "    }\n",
              "  </style>\n",
              "\n",
              "      <script>\n",
              "        const buttonEl =\n",
              "          document.querySelector('#df-3c577860-ee5a-4a92-9096-5404369d3979 button.colab-df-convert');\n",
              "        buttonEl.style.display =\n",
              "          google.colab.kernel.accessAllowed ? 'block' : 'none';\n",
              "\n",
              "        async function convertToInteractive(key) {\n",
              "          const element = document.querySelector('#df-3c577860-ee5a-4a92-9096-5404369d3979');\n",
              "          const dataTable =\n",
              "            await google.colab.kernel.invokeFunction('convertToInteractive',\n",
              "                                                     [key], {});\n",
              "          if (!dataTable) return;\n",
              "\n",
              "          const docLinkHtml = 'Like what you see? Visit the ' +\n",
              "            '<a target=\"_blank\" href=https://colab.research.google.com/notebooks/data_table.ipynb>data table notebook</a>'\n",
              "            + ' to learn more about interactive tables.';\n",
              "          element.innerHTML = '';\n",
              "          dataTable['output_type'] = 'display_data';\n",
              "          await google.colab.output.renderOutput(dataTable, element);\n",
              "          const docLink = document.createElement('div');\n",
              "          docLink.innerHTML = docLinkHtml;\n",
              "          element.appendChild(docLink);\n",
              "        }\n",
              "      </script>\n",
              "    </div>\n",
              "  </div>\n",
              "  "
            ],
            "text/plain": [
              "   Age  Gender         Income     Balance  Vintage  Transaction_Status  \\\n",
              "0   36  Female       5L - 10L   563266.44        4                   0   \n",
              "1   53  Female   Less than 5L   875572.11        2                   1   \n",
              "2   35  Female  More than 15L   701607.06        2                   1   \n",
              "3   43  Female  More than 15L  1393922.16        0                   1   \n",
              "4   39  Female  More than 15L   893146.23        1                   1   \n",
              "\n",
              "  Product_Holdings  Credit_Card Credit_Category  Is_Churn  \n",
              "0                1            0         Average         1  \n",
              "1                1            1            Poor         0  \n",
              "2                2            0            Poor         0  \n",
              "3                2            1            Poor         1  \n",
              "4                1            1            Good         1  "
            ]
          },
          "metadata": {},
          "execution_count": 40
        }
      ]
    },
    {
      "cell_type": "markdown",
      "source": [
        "Product_Holdings"
      ],
      "metadata": {
        "id": "VGJwdfY0wJmJ"
      }
    },
    {
      "cell_type": "code",
      "source": [
        "d = train['Product_Holdings'][train['Transaction_Status']==0].value_counts()\n",
        "d.plot(label = 0)\n",
        "d = train['Product_Holdings'][train['Transaction_Status']==1].value_counts()\n",
        "d.plot(label = 1)\n",
        "plt.legend()\n",
        "plt.title('Product_Holdings v/s Transaction_Status')\n",
        "plt.xlabel('Product_Holdings')\n",
        "plt.ylabel('Customers')\n",
        "plt.show()"
      ],
      "metadata": {
        "colab": {
          "base_uri": "https://localhost:8080/"
        },
        "id": "1HxbpX3WvRlX",
        "outputId": "9131418a-d15b-40d7-9afa-9ef97bd09b73"
      },
      "execution_count": null,
      "outputs": [
        {
          "output_type": "display_data",
          "data": {
            "image/png": "[encoded data removed]",
            "text/plain": [
              "<Figure size 432x288 with 1 Axes>"
            ]
          },
          "metadata": {
            "needs_background": "light"
          }
        }
      ]
    },
    {
      "cell_type": "markdown",
      "source": [
        "1. we can see that both Transaction_Status 1 and 0 are having similar pattern\n",
        "2. Most of the Customers are having 2 product holdings\n",
        "3. Very few are having 3+ product holdings"
      ],
      "metadata": {
        "id": "wkn-ss6rwRM7"
      }
    },
    {
      "cell_type": "markdown",
      "source": [
        "FacetGrid: Product_Holdings"
      ],
      "metadata": {
        "id": "VJX1o5kBzbHc"
      }
    },
    {
      "cell_type": "code",
      "source": [
        "sns.FacetGrid(train,hue='Is_Churn',height=5).map(sns.histplot,'Product_Holdings').add_legend()"
      ],
      "metadata": {
        "colab": {
          "base_uri": "https://localhost:8080/"
        },
        "id": "AEu6qx9nwQ7y",
        "outputId": "345ea578-6ad5-4012-bfb4-6a02fa95923b"
      },
      "execution_count": null,
      "outputs": [
        {
          "output_type": "execute_result",
          "data": {
            "text/plain": [
              "<seaborn.axisgrid.FacetGrid at 0x7f2e32e1ed90>"
            ]
          },
          "metadata": {},
          "execution_count": 42
        },
        {
          "output_type": "display_data",
          "data": {
            "image/png": "[encoded data removed]",
            "text/plain": [
              "<Figure size 411.125x360 with 1 Axes>"
            ]
          },
          "metadata": {
            "needs_background": "light"
          }
        }
      ]
    },
    {
      "cell_type": "markdown",
      "source": [
        "1. Customer with 1 product_holdings are more likely to have churn = 1"
      ],
      "metadata": {
        "id": "po-YcUizw38i"
      }
    },
    {
      "cell_type": "markdown",
      "source": [
        "FacetGrid : product_holdings vs balance"
      ],
      "metadata": {
        "id": "wHbFTi5Lze2c"
      }
    },
    {
      "cell_type": "code",
      "source": [
        "sns.FacetGrid(train,hue='Product_Holdings',height=5).map(sns.histplot,'Balance').add_legend()"
      ],
      "metadata": {
        "colab": {
          "base_uri": "https://localhost:8080/"
        },
        "id": "wXMuw7G8xHFy",
        "outputId": "ca4de32c-3a2f-4bee-fa68-8d7cb17d1c24"
      },
      "execution_count": null,
      "outputs": [
        {
          "output_type": "execute_result",
          "data": {
            "text/plain": [
              "<seaborn.axisgrid.FacetGrid at 0x7f2e32e18ad0>"
            ]
          },
          "metadata": {},
          "execution_count": 43
        },
        {
          "output_type": "display_data",
          "data": {
            "image/png": "[encoded data removed]",
            "text/plain": [
              "<Figure size 454.5x360 with 1 Axes>"
            ]
          },
          "metadata": {
            "needs_background": "light"
          }
        }
      ]
    },
    {
      "cell_type": "markdown",
      "source": [
        "1. Customers with less Balance are having 2 product Holdings\n",
        "2. Customers with more Balance are having 1 Product Holdings\n"
      ],
      "metadata": {
        "id": "djjlf3TRIrlC"
      }
    },
    {
      "cell_type": "markdown",
      "source": [
        "Credit card"
      ],
      "metadata": {
        "id": "xwAb9ioKzFp6"
      }
    },
    {
      "cell_type": "code",
      "source": [
        "train['Credit_Card'].value_counts()"
      ],
      "metadata": {
        "colab": {
          "base_uri": "https://localhost:8080/"
        },
        "id": "M5B48lRgzFB-",
        "outputId": "5759f6c8-750c-4fc4-a997-81de558c0bd5"
      },
      "execution_count": null,
      "outputs": [
        {
          "output_type": "execute_result",
          "data": {
            "text/plain": [
              "1    4418\n",
              "0    2232\n",
              "Name: Credit_Card, dtype: int64"
            ]
          },
          "metadata": {},
          "execution_count": 44
        }
      ]
    },
    {
      "cell_type": "markdown",
      "source": [
        "Many people are having credit card"
      ],
      "metadata": {
        "id": "d9OgFs2WzODR"
      }
    },
    {
      "cell_type": "markdown",
      "source": [
        "Credit_card vs Is_Churn"
      ],
      "metadata": {
        "id": "P-aJ6QiozlT2"
      }
    },
    {
      "cell_type": "code",
      "source": [
        "sns.FacetGrid(train,hue='Is_Churn',height=5).map(sns.histplot,'Credit_Card').add_legend()"
      ],
      "metadata": {
        "colab": {
          "base_uri": "https://localhost:8080/"
        },
        "id": "cjOfra19zSM6",
        "outputId": "6166081a-7c56-47e4-8d61-27310b93345a"
      },
      "execution_count": null,
      "outputs": [
        {
          "output_type": "execute_result",
          "data": {
            "text/plain": [
              "<seaborn.axisgrid.FacetGrid at 0x7f2e3232b150>"
            ]
          },
          "metadata": {},
          "execution_count": 45
        },
        {
          "output_type": "display_data",
          "data": {
            "image/png": "[encoded data removed]",
            "text/plain": [
              "<Figure size 411.125x360 with 1 Axes>"
            ]
          },
          "metadata": {
            "needs_background": "light"
          }
        }
      ]
    },
    {
      "cell_type": "markdown",
      "source": [
        "Credit card vs Income"
      ],
      "metadata": {
        "id": "iBRXB2IhGi97"
      }
    },
    {
      "cell_type": "code",
      "source": [
        "sns.FacetGrid(train[['Credit_Card','Income']][train['Credit_Card']==1],hue='Credit_Card',height=5).map(sns.histplot,'Income').add_legend()"
      ],
      "metadata": {
        "colab": {
          "base_uri": "https://localhost:8080/"
        },
        "id": "6PyU11eBGiZm",
        "outputId": "c6ba4941-6cc7-41a7-e33f-2334c85a5e0b"
      },
      "execution_count": null,
      "outputs": [
        {
          "output_type": "execute_result",
          "data": {
            "text/plain": [
              "<seaborn.axisgrid.FacetGrid at 0x7f2e323c3750>"
            ]
          },
          "metadata": {},
          "execution_count": 46
        },
        {
          "output_type": "display_data",
          "data": {
            "image/png": "[encoded data removed]",
            "text/plain": [
              "<Figure size 426.375x360 with 1 Axes>"
            ]
          },
          "metadata": {
            "needs_background": "light"
          }
        }
      ]
    },
    {
      "cell_type": "markdown",
      "source": [
        "1. Customers with income in the range 5L-10L are more likely to have a credit card\n",
        "2. Customers with income more than 15L are less likely to have a credit card \n"
      ],
      "metadata": {
        "id": "3LyDv-MTJlEo"
      }
    },
    {
      "cell_type": "markdown",
      "source": [
        "Credit Card vs Balance"
      ],
      "metadata": {
        "id": "kReoy3OVJWhc"
      }
    },
    {
      "cell_type": "code",
      "source": [
        "sns.FacetGrid(train[['Credit_Card','Balance']][train['Credit_Card']==1],hue='Credit_Card',height=5).map(sns.histplot,'Balance').add_legend()"
      ],
      "metadata": {
        "colab": {
          "base_uri": "https://localhost:8080/"
        },
        "id": "Tu5ixUxnJU8a",
        "outputId": "c540d931-9a9d-40ff-aba2-1c3a6c6526d5"
      },
      "execution_count": null,
      "outputs": [
        {
          "output_type": "execute_result",
          "data": {
            "text/plain": [
              "<seaborn.axisgrid.FacetGrid at 0x7f2e322e3c10>"
            ]
          },
          "metadata": {},
          "execution_count": 47
        },
        {
          "output_type": "display_data",
          "data": {
            "image/png": "[encoded data removed]",
            "text/plain": [
              "<Figure size 426.375x360 with 1 Axes>"
            ]
          },
          "metadata": {
            "needs_background": "light"
          }
        }
      ]
    },
    {
      "cell_type": "markdown",
      "source": [
        "1. Customers with less Balance are more likely to use Credit_card"
      ],
      "metadata": {
        "id": "IozOQOYaJm1B"
      }
    },
    {
      "cell_type": "markdown",
      "source": [
        "Credit_score"
      ],
      "metadata": {
        "id": "9URdcEDCKA9F"
      }
    },
    {
      "cell_type": "code",
      "source": [
        "train['Credit_Category'].value_counts()"
      ],
      "metadata": {
        "colab": {
          "base_uri": "https://localhost:8080/"
        },
        "id": "75Ko_TMGKCzo",
        "outputId": "12fde90e-36cc-4e97-aef1-6b3eb1e1ad16"
      },
      "execution_count": null,
      "outputs": [
        {
          "output_type": "execute_result",
          "data": {
            "text/plain": [
              "Poor       3076\n",
              "Average    2043\n",
              "Good       1531\n",
              "Name: Credit_Category, dtype: int64"
            ]
          },
          "metadata": {},
          "execution_count": 48
        }
      ]
    },
    {
      "cell_type": "markdown",
      "source": [
        "Most customers are having Poor Credit score"
      ],
      "metadata": {
        "id": "vaxmtuJuKyXb"
      }
    },
    {
      "cell_type": "markdown",
      "source": [
        "Credit_Category vs is_churned"
      ],
      "metadata": {
        "id": "gTynZlL5MlIF"
      }
    },
    {
      "cell_type": "code",
      "source": [
        "sns.FacetGrid(train,hue='Is_Churn',height=5).map(sns.histplot,'Credit_Category').add_legend()"
      ],
      "metadata": {
        "colab": {
          "base_uri": "https://localhost:8080/"
        },
        "id": "EnCd5f6HMLvV",
        "outputId": "2d2a95c7-25a3-42e2-a0ae-f9abebf6cf33"
      },
      "execution_count": null,
      "outputs": [
        {
          "output_type": "execute_result",
          "data": {
            "text/plain": [
              "<seaborn.axisgrid.FacetGrid at 0x7f2e32155910>"
            ]
          },
          "metadata": {},
          "execution_count": 49
        },
        {
          "output_type": "display_data",
          "data": {
            "image/png": "[encoded data removed]",
            "text/plain": [
              "<Figure size 411.125x360 with 1 Axes>"
            ]
          },
          "metadata": {
            "needs_background": "light"
          }
        }
      ]
    },
    {
      "cell_type": "markdown",
      "source": [
        "People with Poor Category are more likely to churn "
      ],
      "metadata": {
        "id": "0t1-x_kbNSha"
      }
    },
    {
      "cell_type": "code",
      "source": [
        "d = train[['Balance','Credit_Category']][train['Credit_Category']=='Poor']"
      ],
      "metadata": {
        "id": "TSHwnQtyN8cz"
      },
      "execution_count": null,
      "outputs": []
    },
    {
      "cell_type": "code",
      "source": [
        "sns.FacetGrid(d,hue='Credit_Category',height=5).map(sns.histplot,'Balance').add_legend()"
      ],
      "metadata": {
        "colab": {
          "base_uri": "https://localhost:8080/"
        },
        "id": "wZ9awVjcPtcL",
        "outputId": "5e6118c3-83bb-46a7-8db6-b0ed65f1ebf3"
      },
      "execution_count": null,
      "outputs": [
        {
          "output_type": "execute_result",
          "data": {
            "text/plain": [
              "<seaborn.axisgrid.FacetGrid at 0x7f2e320c1d90>"
            ]
          },
          "metadata": {},
          "execution_count": 51
        },
        {
          "output_type": "display_data",
          "data": {
            "image/png": "[encoded data removed]",
            "text/plain": [
              "<Figure size 448.375x360 with 1 Axes>"
            ]
          },
          "metadata": {
            "needs_background": "light"
          }
        }
      ]
    },
    {
      "cell_type": "code",
      "source": [
        "target = train['Is_Churn']\n",
        "#train = train.drop(labels=['Is_Churn'],axis = 1,inplace = True)"
      ],
      "metadata": {
        "id": "t2TYqAQwkqKh"
      },
      "execution_count": null,
      "outputs": []
    },
    {
      "cell_type": "code",
      "source": [
        "train.head()"
      ],
      "metadata": {
        "colab": {
          "base_uri": "https://localhost:8080/"
        },
        "id": "fJoyldQiwjRJ",
        "outputId": "bba57e5e-a31e-4858-ac6b-9d67a995358b"
      },
      "execution_count": null,
      "outputs": [
        {
          "output_type": "execute_result",
          "data": {
            "text/html": [
              "\n",
              "  <div id=\"df-200db836-669f-4adb-bc41-91096c79f9be\">\n",
              "    <div class=\"colab-df-container\">\n",
              "      <div>\n",
              "<style scoped>\n",
              "    .dataframe tbody tr th:only-of-type {\n",
              "        vertical-align: middle;\n",
              "    }\n",
              "\n",
              "    .dataframe tbody tr th {\n",
              "        vertical-align: top;\n",
              "    }\n",
              "\n",
              "    .dataframe thead th {\n",
              "        text-align: right;\n",
              "    }\n",
              "</style>\n",
              "<table border=\"1\" class=\"dataframe\">\n",
              "  <thead>\n",
              "    <tr style=\"text-align: right;\">\n",
              "      <th></th>\n",
              "      <th>Age</th>\n",
              "      <th>Gender</th>\n",
              "      <th>Income</th>\n",
              "      <th>Balance</th>\n",
              "      <th>Vintage</th>\n",
              "      <th>Transaction_Status</th>\n",
              "      <th>Product_Holdings</th>\n",
              "      <th>Credit_Card</th>\n",
              "      <th>Credit_Category</th>\n",
              "      <th>Is_Churn</th>\n",
              "    </tr>\n",
              "  </thead>\n",
              "  <tbody>\n",
              "    <tr>\n",
              "      <th>0</th>\n",
              "      <td>36</td>\n",
              "      <td>Female</td>\n",
              "      <td>5L - 10L</td>\n",
              "      <td>563266.44</td>\n",
              "      <td>4</td>\n",
              "      <td>0</td>\n",
              "      <td>1</td>\n",
              "      <td>0</td>\n",
              "      <td>Average</td>\n",
              "      <td>1</td>\n",
              "    </tr>\n",
              "    <tr>\n",
              "      <th>1</th>\n",
              "      <td>53</td>\n",
              "      <td>Female</td>\n",
              "      <td>Less than 5L</td>\n",
              "      <td>875572.11</td>\n",
              "      <td>2</td>\n",
              "      <td>1</td>\n",
              "      <td>1</td>\n",
              "      <td>1</td>\n",
              "      <td>Poor</td>\n",
              "      <td>0</td>\n",
              "    </tr>\n",
              "    <tr>\n",
              "      <th>2</th>\n",
              "      <td>35</td>\n",
              "      <td>Female</td>\n",
              "      <td>More than 15L</td>\n",
              "      <td>701607.06</td>\n",
              "      <td>2</td>\n",
              "      <td>1</td>\n",
              "      <td>2</td>\n",
              "      <td>0</td>\n",
              "      <td>Poor</td>\n",
              "      <td>0</td>\n",
              "    </tr>\n",
              "    <tr>\n",
              "      <th>3</th>\n",
              "      <td>43</td>\n",
              "      <td>Female</td>\n",
              "      <td>More than 15L</td>\n",
              "      <td>1393922.16</td>\n",
              "      <td>0</td>\n",
              "      <td>1</td>\n",
              "      <td>2</td>\n",
              "      <td>1</td>\n",
              "      <td>Poor</td>\n",
              "      <td>1</td>\n",
              "    </tr>\n",
              "    <tr>\n",
              "      <th>4</th>\n",
              "      <td>39</td>\n",
              "      <td>Female</td>\n",
              "      <td>More than 15L</td>\n",
              "      <td>893146.23</td>\n",
              "      <td>1</td>\n",
              "      <td>1</td>\n",
              "      <td>1</td>\n",
              "      <td>1</td>\n",
              "      <td>Good</td>\n",
              "      <td>1</td>\n",
              "    </tr>\n",
              "  </tbody>\n",
              "</table>\n",
              "</div>\n",
              "      <button class=\"colab-df-convert\" onclick=\"convertToInteractive('df-200db836-669f-4adb-bc41-91096c79f9be')\"\n",
              "              title=\"Convert this dataframe to an interactive table.\"\n",
              "              style=\"display:none;\">\n",
              "        \n",
              "  <svg xmlns=\"http://www.w3.org/2000/svg\" height=\"24px\"viewBox=\"0 0 24 24\"\n",
              "       width=\"24px\">\n",
              "    <path d=\"M0 0h24v24H0V0z\" fill=\"none\"/>\n",
              "    <path d=\"M18.56 5.44l.94 2.06.94-2.06 2.06-.94-2.06-.94-.94-2.06-.94 2.06-2.06.94zm-11 1L8.5 8.5l.94-2.06 2.06-.94-2.06-.94L8.5 2.5l-.94 2.06-2.06.94zm10 10l.94 2.06.94-2.06 2.06-.94-2.06-.94-.94-2.06-.94 2.06-2.06.94z\"/><path d=\"M17.41 7.96l-1.37-1.37c-.4-.4-.92-.59-1.43-.59-.52 0-1.04.2-1.43.59L10.3 9.45l-7.72 7.72c-.78.78-.78 2.05 0 2.83L4 21.41c.39.39.9.59 1.41.59.51 0 1.02-.2 1.41-.59l7.78-7.78 2.81-2.81c.8-.78.8-2.07 0-2.86zM5.41 20L4 18.59l7.72-7.72 1.47 1.35L5.41 20z\"/>\n",
              "  </svg>\n",
              "      </button>\n",
              "      \n",
              "  <style>\n",
              "    .colab-df-container {\n",
              "      display:flex;\n",
              "      flex-wrap:wrap;\n",
              "      gap: 12px;\n",
              "    }\n",
              "\n",
              "    .colab-df-convert {\n",
              "      background-color: #E8F0FE;\n",
              "      border: none;\n",
              "      border-radius: 50%;\n",
              "      cursor: pointer;\n",
              "      display: none;\n",
              "      fill: #1967D2;\n",
              "      height: 32px;\n",
              "      padding: 0 0 0 0;\n",
              "      width: 32px;\n",
              "    }\n",
              "\n",
              "    .colab-df-convert:hover {\n",
              "      background-color: #E2EBFA;\n",
              "      box-shadow: 0px 1px 2px rgba(60, 64, 67, 0.3), 0px 1px 3px 1px rgba(60, 64, 67, 0.15);\n",
              "      fill: #174EA6;\n",
              "    }\n",
              "\n",
              "    [theme=dark] .colab-df-convert {\n",
              "      background-color: #3B4455;\n",
              "      fill: #D2E3FC;\n",
              "    }\n",
              "\n",
              "    [theme=dark] .colab-df-convert:hover {\n",
              "      background-color: #434B5C;\n",
              "      box-shadow: 0px 1px 3px 1px rgba(0, 0, 0, 0.15);\n",
              "      filter: drop-shadow(0px 1px 2px rgba(0, 0, 0, 0.3));\n",
              "      fill: #FFFFFF;\n",
              "    }\n",
              "  </style>\n",
              "\n",
              "      <script>\n",
              "        const buttonEl =\n",
              "          document.querySelector('#df-200db836-669f-4adb-bc41-91096c79f9be button.colab-df-convert');\n",
              "        buttonEl.style.display =\n",
              "          google.colab.kernel.accessAllowed ? 'block' : 'none';\n",
              "\n",
              "        async function convertToInteractive(key) {\n",
              "          const element = document.querySelector('#df-200db836-669f-4adb-bc41-91096c79f9be');\n",
              "          const dataTable =\n",
              "            await google.colab.kernel.invokeFunction('convertToInteractive',\n",
              "                                                     [key], {});\n",
              "          if (!dataTable) return;\n",
              "\n",
              "          const docLinkHtml = 'Like what you see? Visit the ' +\n",
              "            '<a target=\"_blank\" href=https://colab.research.google.com/notebooks/data_table.ipynb>data table notebook</a>'\n",
              "            + ' to learn more about interactive tables.';\n",
              "          element.innerHTML = '';\n",
              "          dataTable['output_type'] = 'display_data';\n",
              "          await google.colab.output.renderOutput(dataTable, element);\n",
              "          const docLink = document.createElement('div');\n",
              "          docLink.innerHTML = docLinkHtml;\n",
              "          element.appendChild(docLink);\n",
              "        }\n",
              "      </script>\n",
              "    </div>\n",
              "  </div>\n",
              "  "
            ],
            "text/plain": [
              "   Age  Gender         Income     Balance  Vintage  Transaction_Status  \\\n",
              "0   36  Female       5L - 10L   563266.44        4                   0   \n",
              "1   53  Female   Less than 5L   875572.11        2                   1   \n",
              "2   35  Female  More than 15L   701607.06        2                   1   \n",
              "3   43  Female  More than 15L  1393922.16        0                   1   \n",
              "4   39  Female  More than 15L   893146.23        1                   1   \n",
              "\n",
              "  Product_Holdings  Credit_Card Credit_Category  Is_Churn  \n",
              "0                1            0         Average         1  \n",
              "1                1            1            Poor         0  \n",
              "2                2            0            Poor         0  \n",
              "3                2            1            Poor         1  \n",
              "4                1            1            Good         1  "
            ]
          },
          "metadata": {},
          "execution_count": 53
        }
      ]
    },
    {
      "cell_type": "code",
      "source": [
        "train = train.iloc[:,:-1]"
      ],
      "metadata": {
        "id": "-CZGb8kew4ZT"
      },
      "execution_count": null,
      "outputs": []
    },
    {
      "cell_type": "code",
      "source": [
        "print(train.shape,len(target))\n",
        "print(test.shape)"
      ],
      "metadata": {
        "colab": {
          "base_uri": "https://localhost:8080/"
        },
        "id": "YVWPGMgbwbjy",
        "outputId": "cb947399-7c2e-4083-bc3f-852c2135002a"
      },
      "execution_count": null,
      "outputs": [
        {
          "output_type": "stream",
          "name": "stdout",
          "text": [
            "(6650, 9) 6650\n",
            "(2851, 9)\n"
          ]
        }
      ]
    },
    {
      "cell_type": "markdown",
      "source": [
        "###Feature Transformation"
      ],
      "metadata": {
        "id": "F09X6jGHAY0Y"
      }
    },
    {
      "cell_type": "markdown",
      "source": [
        "Categorizing gender feature"
      ],
      "metadata": {
        "id": "blWpUxUWAf7u"
      }
    },
    {
      "cell_type": "markdown",
      "source": [
        "Gender"
      ],
      "metadata": {
        "id": "DV6lSsTGBGR2"
      }
    },
    {
      "cell_type": "markdown",
      "source": [
        "train"
      ],
      "metadata": {
        "id": "VPRZvEL9FsJU"
      }
    },
    {
      "cell_type": "code",
      "source": [
        "for i in range(len(train)):\n",
        "  if train.loc[i,'Gender'] == 'Male':\n",
        "    train.loc[i,'Gender'] = 1\n",
        "  else :\n",
        "    train.loc[i,'Gender'] = 0"
      ],
      "metadata": {
        "id": "AN3tXTMJAa5P"
      },
      "execution_count": null,
      "outputs": []
    },
    {
      "cell_type": "code",
      "source": [
        "train.loc[:,'Gender'].value_counts()"
      ],
      "metadata": {
        "colab": {
          "base_uri": "https://localhost:8080/"
        },
        "id": "7QrhcTK8BQt_",
        "outputId": "d26c661f-7f81-4207-b0fd-89c4634a0356"
      },
      "execution_count": null,
      "outputs": [
        {
          "output_type": "execute_result",
          "data": {
            "text/plain": [
              "1    3612\n",
              "0    3038\n",
              "Name: Gender, dtype: int64"
            ]
          },
          "metadata": {},
          "execution_count": 57
        }
      ]
    },
    {
      "cell_type": "markdown",
      "source": [
        "test"
      ],
      "metadata": {
        "id": "jh_rUikKFvqV"
      }
    },
    {
      "cell_type": "code",
      "source": [
        "for i in range(len(test)):\n",
        "  if test.loc[i,'Gender'] == 'Male':\n",
        "    test.loc[i,'Gender'] = 1\n",
        "  else :\n",
        "    test.loc[i,'Gender'] = 0"
      ],
      "metadata": {
        "id": "YJZB5lXtFw8j"
      },
      "execution_count": null,
      "outputs": []
    },
    {
      "cell_type": "code",
      "source": [
        "test['Gender'].value_counts()"
      ],
      "metadata": {
        "colab": {
          "base_uri": "https://localhost:8080/"
        },
        "id": "ZFIZ-d2GF9A8",
        "outputId": "1c66f94f-ed95-457a-a46a-d37970085903"
      },
      "execution_count": null,
      "outputs": [
        {
          "output_type": "execute_result",
          "data": {
            "text/plain": [
              "1    1545\n",
              "0    1306\n",
              "Name: Gender, dtype: int64"
            ]
          },
          "metadata": {},
          "execution_count": 59
        }
      ]
    },
    {
      "cell_type": "markdown",
      "source": [
        "Income"
      ],
      "metadata": {
        "id": "9HGdZ0WpDtHY"
      }
    },
    {
      "cell_type": "markdown",
      "source": [
        "train"
      ],
      "metadata": {
        "id": "55DiRx1ZGCL_"
      }
    },
    {
      "cell_type": "code",
      "source": [
        "for i in range(len(train)):\n",
        "  if train.loc[i,'Income'] == 'Less than 5L':\n",
        "    train.loc[i,'Income'] = 0\n",
        "  elif train.loc[i,'Income'] == 'More than 15L':\n",
        "    train.loc[i,'Income'] = 3\n",
        "  elif train.loc[i,'Income'] == '5L - 10L':\n",
        "    train.loc[i,'Income'] = 1\n",
        "  elif train.loc[i,'Income'] == '10L - 15L':\n",
        "    train.loc[i,'Income'] = 2"
      ],
      "metadata": {
        "id": "J2Bi3QsSBFeF"
      },
      "execution_count": null,
      "outputs": []
    },
    {
      "cell_type": "code",
      "source": [
        "train['Income'].value_counts()"
      ],
      "metadata": {
        "colab": {
          "base_uri": "https://localhost:8080/"
        },
        "id": "Civ40MjyBCd_",
        "outputId": "78d715b3-8d97-443d-af0b-da0dce94b48a"
      },
      "execution_count": null,
      "outputs": [
        {
          "output_type": "execute_result",
          "data": {
            "text/plain": [
              "2    1885\n",
              "1    1847\n",
              "0    1573\n",
              "3    1345\n",
              "Name: Income, dtype: int64"
            ]
          },
          "metadata": {},
          "execution_count": 61
        }
      ]
    },
    {
      "cell_type": "markdown",
      "source": [
        "test"
      ],
      "metadata": {
        "id": "jAmFEf_UGEBE"
      }
    },
    {
      "cell_type": "code",
      "source": [
        "for i in range(len(test)):\n",
        "  if test.loc[i,'Income'] == 'Less than 5L':\n",
        "    test.loc[i,'Income'] = 0\n",
        "  elif test.loc[i,'Income'] == 'More than 15L':\n",
        "    test.loc[i,'Income'] = 3\n",
        "  elif test.loc[i,'Income'] == '5L - 10L':\n",
        "    test.loc[i,'Income'] = 1\n",
        "  elif test.loc[i,'Income'] == '10L - 15L':\n",
        "    test.loc[i,'Income'] = 2\n",
        "test['Income'].value_counts()"
      ],
      "metadata": {
        "colab": {
          "base_uri": "https://localhost:8080/"
        },
        "id": "pcojmWMiGE3h",
        "outputId": "c90e7a3c-88f7-4292-bf7d-1757b0876176"
      },
      "execution_count": null,
      "outputs": [
        {
          "output_type": "execute_result",
          "data": {
            "text/plain": [
              "2    844\n",
              "1    794\n",
              "0    648\n",
              "3    565\n",
              "Name: Income, dtype: int64"
            ]
          },
          "metadata": {},
          "execution_count": 62
        }
      ]
    },
    {
      "cell_type": "markdown",
      "source": [
        "Product_Holdings"
      ],
      "metadata": {
        "id": "foZcZ08OHq5E"
      }
    },
    {
      "cell_type": "code",
      "source": [
        "for i in range(len(train)):\n",
        "  if train.loc[i,'Product_Holdings'] =='3+':\n",
        "    train.loc[i,'Product_Holdings'] = 3\n",
        "  if train.loc[i,'Product_Holdings'] =='1':\n",
        "    train.loc[i,'Product_Holdings'] = 1\n",
        "  if train.loc[i,'Product_Holdings'] =='2':\n",
        "    train.loc[i,'Product_Holdings'] = 2\n",
        "for i in range(len(test)):\n",
        "  if test.loc[i,'Product_Holdings'] =='3+':\n",
        "    test.loc[i,'Product_Holdings'] = 3\n",
        "  if test.loc[i,'Product_Holdings'] =='1':\n",
        "    test.loc[i,'Product_Holdings'] = 1\n",
        "  if test.loc[i,'Product_Holdings'] =='2':\n",
        "    test.loc[i,'Product_Holdings'] = 2"
      ],
      "metadata": {
        "id": "DX-6nZItHtUB"
      },
      "execution_count": null,
      "outputs": []
    },
    {
      "cell_type": "markdown",
      "source": [
        "Credit_Category"
      ],
      "metadata": {
        "id": "m8UbXqD_CnK2"
      }
    },
    {
      "cell_type": "markdown",
      "source": [
        "train"
      ],
      "metadata": {
        "id": "5zcyLH71GYJp"
      }
    },
    {
      "cell_type": "code",
      "source": [
        "for i in range(len(train)):\n",
        "  if train.loc[i,'Credit_Category'] == 'Poor':\n",
        "    train.loc[i,'Credit_Category'] = 0\n",
        "  elif train.loc[i,'Credit_Category'] == 'Average':\n",
        "    train.loc[i,'Credit_Category'] = 1\n",
        "  elif train.loc[i,'Credit_Category'] == 'Good':\n",
        "    train.loc[i,'Credit_Category'] = 2\n",
        "train['Credit_Category'].value_counts()"
      ],
      "metadata": {
        "colab": {
          "base_uri": "https://localhost:8080/"
        },
        "id": "_IlA3vuNCux4",
        "outputId": "f91775f5-f9a6-4dc5-acf5-30de3ca8e07c"
      },
      "execution_count": null,
      "outputs": [
        {
          "output_type": "execute_result",
          "data": {
            "text/plain": [
              "0    3076\n",
              "1    2043\n",
              "2    1531\n",
              "Name: Credit_Category, dtype: int64"
            ]
          },
          "metadata": {},
          "execution_count": 64
        }
      ]
    },
    {
      "cell_type": "markdown",
      "source": [
        "test"
      ],
      "metadata": {
        "id": "0fgcGxdCGekw"
      }
    },
    {
      "cell_type": "code",
      "source": [
        "for i in range(len(test)):\n",
        "  if test.loc[i,'Credit_Category'] == 'Poor':\n",
        "    test.loc[i,'Credit_Category'] = 0\n",
        "  elif test.loc[i,'Credit_Category'] == 'Average':\n",
        "    test.loc[i,'Credit_Category'] = 1\n",
        "  elif test.loc[i,'Credit_Category'] == 'Good':\n",
        "    test.loc[i,'Credit_Category'] = 2\n",
        "test['Credit_Category'].value_counts()"
      ],
      "metadata": {
        "colab": {
          "base_uri": "https://localhost:8080/"
        },
        "id": "TsZ-I_qoGjxZ",
        "outputId": "cb57c18f-2d6c-417e-e6c7-f5b775eb21a8"
      },
      "execution_count": null,
      "outputs": [
        {
          "output_type": "execute_result",
          "data": {
            "text/plain": [
              "0    1270\n",
              "1     866\n",
              "2     715\n",
              "Name: Credit_Category, dtype: int64"
            ]
          },
          "metadata": {},
          "execution_count": 65
        }
      ]
    },
    {
      "cell_type": "markdown",
      "source": [
        "Balance Min Max Scaling"
      ],
      "metadata": {
        "id": "NG-XQwKpERS-"
      }
    },
    {
      "cell_type": "markdown",
      "source": [
        "Train"
      ],
      "metadata": {
        "id": "8ecyGGc4Gw4B"
      }
    },
    {
      "cell_type": "code",
      "source": [
        "min = int(train['Balance'].min())\n",
        "#print(min)\n",
        "max = int(train['Balance'].max())\n",
        "#print(max)\n",
        "l = len(train)\n",
        "for i in range(l):\n",
        "  amt = train.loc[i,'Balance']\n",
        "  amt = (amt-min)/(max-min)\n",
        "  train.loc[i,'Balance'] = amt"
      ],
      "metadata": {
        "id": "Vk1Ir0A5EKwg"
      },
      "execution_count": null,
      "outputs": []
    },
    {
      "cell_type": "code",
      "source": [
        "train['Balance'].head()"
      ],
      "metadata": {
        "colab": {
          "base_uri": "https://localhost:8080/"
        },
        "id": "It2l8KIpHFa9",
        "outputId": "312a4e8d-76e1-4151-b540-80905dc45c63"
      },
      "execution_count": null,
      "outputs": [
        {
          "output_type": "execute_result",
          "data": {
            "text/plain": [
              "0    0.231148\n",
              "1    0.359323\n",
              "2    0.287925\n",
              "3    0.572062\n",
              "4    0.366536\n",
              "Name: Balance, dtype: float64"
            ]
          },
          "metadata": {},
          "execution_count": 67
        }
      ]
    },
    {
      "cell_type": "markdown",
      "source": [
        "Test"
      ],
      "metadata": {
        "id": "Tocav1L0Gx4U"
      }
    },
    {
      "cell_type": "code",
      "source": [
        "min = int(test['Balance'].min())\n",
        "#print(min)\n",
        "max = int(test['Balance'].max())\n",
        "#print(max)\n",
        "l = len(test)\n",
        "for i in range(l):\n",
        "  amt = test.loc[i,'Balance']\n",
        "  amt = (amt-min)/(max-min)\n",
        "  test.loc[i,'Balance'] = amt"
      ],
      "metadata": {
        "id": "7s3jtYhrHT7h"
      },
      "execution_count": null,
      "outputs": []
    },
    {
      "cell_type": "code",
      "source": [
        "test['Balance'].head()"
      ],
      "metadata": {
        "colab": {
          "base_uri": "https://localhost:8080/"
        },
        "id": "g8-9OPJyHboy",
        "outputId": "4550fe7e-59fc-4ca7-e926-816014551a11"
      },
      "execution_count": null,
      "outputs": [
        {
          "output_type": "execute_result",
          "data": {
            "text/plain": [
              "0    0.413891\n",
              "1    0.139709\n",
              "2    0.179983\n",
              "3    0.011128\n",
              "4    0.453304\n",
              "Name: Balance, dtype: float64"
            ]
          },
          "metadata": {},
          "execution_count": 69
        }
      ]
    },
    {
      "cell_type": "markdown",
      "source": [
        "Target"
      ],
      "metadata": {
        "id": "A3bzf_8pJkNy"
      }
    },
    {
      "cell_type": "code",
      "source": [
        "target.value_counts()\n",
        "print('{}% of Custormers are having Is_churn = 0'.format(target.value_counts()[0]/len(target)))\n",
        "print('{}% of Custormers are having Is_churn = 1'.format(target.value_counts()[1]/len(target)))"
      ],
      "metadata": {
        "colab": {
          "base_uri": "https://localhost:8080/"
        },
        "id": "_C9HkMEqJhFd",
        "outputId": "9cd89e53-b27a-4384-9bde-cefca06e0964"
      },
      "execution_count": null,
      "outputs": [
        {
          "output_type": "stream",
          "name": "stdout",
          "text": [
            "0.7688721804511278% of Custormers are having Is_churn = 0\n",
            "0.23112781954887218% of Custormers are having Is_churn = 1\n"
          ]
        }
      ]
    },
    {
      "cell_type": "markdown",
      "source": [
        ""
      ],
      "metadata": {
        "id": "UGuUo69ACOPK"
      }
    },
    {
      "cell_type": "markdown",
      "source": [
        "Base Models"
      ],
      "metadata": {
        "id": "mrLbshHhIxil"
      }
    },
    {
      "cell_type": "markdown",
      "source": [
        "###Logistic Regression"
      ],
      "metadata": {
        "id": "GgcL7h6oUrnm"
      }
    },
    {
      "cell_type": "code",
      "source": [
        "from sklearn.model_selection import train_test_split\n",
        "X_train , X_cv , y_train , y_cv = train_test_split(train,target,test_size = 0.2)"
      ],
      "metadata": {
        "id": "5OmbGnYFxEWQ"
      },
      "execution_count": null,
      "outputs": []
    },
    {
      "cell_type": "code",
      "source": [
        "from sklearn.linear_model import LogisticRegression\n",
        "from sklearn.metrics import confusion_matrix\n",
        "from sklearn.metrics import roc_auc_score\n",
        "from sklearn.datasets import make_classification\n",
        "from sklearn.linear_model import LogisticRegression\n",
        "from sklearn.model_selection import train_test_split\n",
        "from sklearn.pipeline import make_pipeline\n",
        "from sklearn.preprocessing import StandardScaler\n",
        "#https://scikit-learn.org/stable/modules/preprocessing.html\n",
        "\n",
        "pipe = make_pipeline(StandardScaler(), LogisticRegression(max_iter=1000))\n",
        "pipe.fit(X_train, y_train)\n",
        "y_cv_pred = pipe.predict(X_cv)\n",
        "y_cv_pred_prob = pipe.predict_proba(X_cv)"
      ],
      "metadata": {
        "id": "znahIaNcxIv4"
      },
      "execution_count": null,
      "outputs": []
    },
    {
      "cell_type": "code",
      "source": [
        "#https://medium.com/@dtuk81/confusion-matrix-visualization-fc31e3f30fea\n",
        "import seaborn as sns\n",
        "cf_matrix = confusion_matrix(y_cv, y_cv_pred)\n",
        "sns.heatmap(cf_matrix, annot=True)\n",
        "plt.title('Confusion Matrix : Logistic Regression cv')"
      ],
      "metadata": {
        "colab": {
          "base_uri": "https://localhost:8080/"
        },
        "id": "hdlAFVhgIh2h",
        "outputId": "b445e0fa-856f-40ff-bedd-e7ec8b851e66"
      },
      "execution_count": null,
      "outputs": [
        {
          "output_type": "execute_result",
          "data": {
            "text/plain": [
              "Text(0.5, 1.0, 'Confusion Matrix : Logistic Regression cv')"
            ]
          },
          "metadata": {},
          "execution_count": 73
        },
        {
          "output_type": "display_data",
          "data": {
            "image/png": "[encoded data removed]",
            "text/plain": [
              "<Figure size 432x288 with 2 Axes>"
            ]
          },
          "metadata": {
            "needs_background": "light"
          }
        }
      ]
    },
    {
      "cell_type": "code",
      "source": [
        "from sklearn.metrics import f1_score\n",
        "f1_LR = f1_score(y_cv, y_cv_pred, average='macro')\n",
        "print(f1_LR)"
      ],
      "metadata": {
        "colab": {
          "base_uri": "https://localhost:8080/"
        },
        "id": "JTEHeGDsI4-V",
        "outputId": "7948020b-d65b-4c14-f81f-5eb1cddf82c6"
      },
      "execution_count": null,
      "outputs": [
        {
          "output_type": "stream",
          "name": "stdout",
          "text": [
            "0.47581535928023455\n"
          ]
        }
      ]
    },
    {
      "cell_type": "code",
      "source": [
        "y_test_pred = pipe.predict(test)"
      ],
      "metadata": {
        "id": "zdvBkomiKb7h"
      },
      "execution_count": null,
      "outputs": []
    },
    {
      "cell_type": "code",
      "source": [
        "y_test_pred"
      ],
      "metadata": {
        "colab": {
          "base_uri": "https://localhost:8080/"
        },
        "id": "axk-zEb0MltD",
        "outputId": "81a49878-35e9-4ab6-af63-62487cfc4868"
      },
      "execution_count": null,
      "outputs": [
        {
          "output_type": "execute_result",
          "data": {
            "text/plain": [
              "array([0, 0, 0, ..., 1, 0, 0])"
            ]
          },
          "metadata": {},
          "execution_count": 76
        }
      ]
    },
    {
      "cell_type": "code",
      "source": [
        "output1 = pd.DataFrame(np.column_stack([test_id,y_test_pred]), columns = ('ID','Is_Churn'))\n",
        "output1.to_csv('ChurnSub1.csv',index = False)"
      ],
      "metadata": {
        "id": "dZ6PbAT3Km0S"
      },
      "execution_count": null,
      "outputs": []
    },
    {
      "cell_type": "code",
      "source": [
        "output1"
      ],
      "metadata": {
        "colab": {
          "base_uri": "https://localhost:8080/"
        },
        "id": "EmUDXOFTMf1X",
        "outputId": "97b35341-e6f7-4870-ae59-749fe1b8bc24"
      },
      "execution_count": null,
      "outputs": [
        {
          "output_type": "execute_result",
          "data": {
            "text/html": [
              "\n",
              "  <div id=\"df-7c57928c-c6f8-4eee-a83b-c72580d1193b\">\n",
              "    <div class=\"colab-df-container\">\n",
              "      <div>\n",
              "<style scoped>\n",
              "    .dataframe tbody tr th:only-of-type {\n",
              "        vertical-align: middle;\n",
              "    }\n",
              "\n",
              "    .dataframe tbody tr th {\n",
              "        vertical-align: top;\n",
              "    }\n",
              "\n",
              "    .dataframe thead th {\n",
              "        text-align: right;\n",
              "    }\n",
              "</style>\n",
              "<table border=\"1\" class=\"dataframe\">\n",
              "  <thead>\n",
              "    <tr style=\"text-align: right;\">\n",
              "      <th></th>\n",
              "      <th>ID</th>\n",
              "      <th>Is_Churn</th>\n",
              "    </tr>\n",
              "  </thead>\n",
              "  <tbody>\n",
              "    <tr>\n",
              "      <th>0</th>\n",
              "      <td>55480787</td>\n",
              "      <td>0</td>\n",
              "    </tr>\n",
              "    <tr>\n",
              "      <th>1</th>\n",
              "      <td>9aededf2</td>\n",
              "      <td>0</td>\n",
              "    </tr>\n",
              "    <tr>\n",
              "      <th>2</th>\n",
              "      <td>a5034a09</td>\n",
              "      <td>0</td>\n",
              "    </tr>\n",
              "    <tr>\n",
              "      <th>3</th>\n",
              "      <td>b3256702</td>\n",
              "      <td>0</td>\n",
              "    </tr>\n",
              "    <tr>\n",
              "      <th>4</th>\n",
              "      <td>dc28adb5</td>\n",
              "      <td>0</td>\n",
              "    </tr>\n",
              "    <tr>\n",
              "      <th>...</th>\n",
              "      <td>...</td>\n",
              "      <td>...</td>\n",
              "    </tr>\n",
              "    <tr>\n",
              "      <th>2846</th>\n",
              "      <td>19e40adf</td>\n",
              "      <td>0</td>\n",
              "    </tr>\n",
              "    <tr>\n",
              "      <th>2847</th>\n",
              "      <td>52d5bc8d</td>\n",
              "      <td>0</td>\n",
              "    </tr>\n",
              "    <tr>\n",
              "      <th>2848</th>\n",
              "      <td>f708121b</td>\n",
              "      <td>1</td>\n",
              "    </tr>\n",
              "    <tr>\n",
              "      <th>2849</th>\n",
              "      <td>f008715d</td>\n",
              "      <td>0</td>\n",
              "    </tr>\n",
              "    <tr>\n",
              "      <th>2850</th>\n",
              "      <td>36b81f59</td>\n",
              "      <td>0</td>\n",
              "    </tr>\n",
              "  </tbody>\n",
              "</table>\n",
              "<p>2851 rows × 2 columns</p>\n",
              "</div>\n",
              "      <button class=\"colab-df-convert\" onclick=\"convertToInteractive('df-7c57928c-c6f8-4eee-a83b-c72580d1193b')\"\n",
              "              title=\"Convert this dataframe to an interactive table.\"\n",
              "              style=\"display:none;\">\n",
              "        \n",
              "  <svg xmlns=\"http://www.w3.org/2000/svg\" height=\"24px\"viewBox=\"0 0 24 24\"\n",
              "       width=\"24px\">\n",
              "    <path d=\"M0 0h24v24H0V0z\" fill=\"none\"/>\n",
              "    <path d=\"M18.56 5.44l.94 2.06.94-2.06 2.06-.94-2.06-.94-.94-2.06-.94 2.06-2.06.94zm-11 1L8.5 8.5l.94-2.06 2.06-.94-2.06-.94L8.5 2.5l-.94 2.06-2.06.94zm10 10l.94 2.06.94-2.06 2.06-.94-2.06-.94-.94-2.06-.94 2.06-2.06.94z\"/><path d=\"M17.41 7.96l-1.37-1.37c-.4-.4-.92-.59-1.43-.59-.52 0-1.04.2-1.43.59L10.3 9.45l-7.72 7.72c-.78.78-.78 2.05 0 2.83L4 21.41c.39.39.9.59 1.41.59.51 0 1.02-.2 1.41-.59l7.78-7.78 2.81-2.81c.8-.78.8-2.07 0-2.86zM5.41 20L4 18.59l7.72-7.72 1.47 1.35L5.41 20z\"/>\n",
              "  </svg>\n",
              "      </button>\n",
              "      \n",
              "  <style>\n",
              "    .colab-df-container {\n",
              "      display:flex;\n",
              "      flex-wrap:wrap;\n",
              "      gap: 12px;\n",
              "    }\n",
              "\n",
              "    .colab-df-convert {\n",
              "      background-color: #E8F0FE;\n",
              "      border: none;\n",
              "      border-radius: 50%;\n",
              "      cursor: pointer;\n",
              "      display: none;\n",
              "      fill: #1967D2;\n",
              "      height: 32px;\n",
              "      padding: 0 0 0 0;\n",
              "      width: 32px;\n",
              "    }\n",
              "\n",
              "    .colab-df-convert:hover {\n",
              "      background-color: #E2EBFA;\n",
              "      box-shadow: 0px 1px 2px rgba(60, 64, 67, 0.3), 0px 1px 3px 1px rgba(60, 64, 67, 0.15);\n",
              "      fill: #174EA6;\n",
              "    }\n",
              "\n",
              "    [theme=dark] .colab-df-convert {\n",
              "      background-color: #3B4455;\n",
              "      fill: #D2E3FC;\n",
              "    }\n",
              "\n",
              "    [theme=dark] .colab-df-convert:hover {\n",
              "      background-color: #434B5C;\n",
              "      box-shadow: 0px 1px 3px 1px rgba(0, 0, 0, 0.15);\n",
              "      filter: drop-shadow(0px 1px 2px rgba(0, 0, 0, 0.3));\n",
              "      fill: #FFFFFF;\n",
              "    }\n",
              "  </style>\n",
              "\n",
              "      <script>\n",
              "        const buttonEl =\n",
              "          document.querySelector('#df-7c57928c-c6f8-4eee-a83b-c72580d1193b button.colab-df-convert');\n",
              "        buttonEl.style.display =\n",
              "          google.colab.kernel.accessAllowed ? 'block' : 'none';\n",
              "\n",
              "        async function convertToInteractive(key) {\n",
              "          const element = document.querySelector('#df-7c57928c-c6f8-4eee-a83b-c72580d1193b');\n",
              "          const dataTable =\n",
              "            await google.colab.kernel.invokeFunction('convertToInteractive',\n",
              "                                                     [key], {});\n",
              "          if (!dataTable) return;\n",
              "\n",
              "          const docLinkHtml = 'Like what you see? Visit the ' +\n",
              "            '<a target=\"_blank\" href=https://colab.research.google.com/notebooks/data_table.ipynb>data table notebook</a>'\n",
              "            + ' to learn more about interactive tables.';\n",
              "          element.innerHTML = '';\n",
              "          dataTable['output_type'] = 'display_data';\n",
              "          await google.colab.output.renderOutput(dataTable, element);\n",
              "          const docLink = document.createElement('div');\n",
              "          docLink.innerHTML = docLinkHtml;\n",
              "          element.appendChild(docLink);\n",
              "        }\n",
              "      </script>\n",
              "    </div>\n",
              "  </div>\n",
              "  "
            ],
            "text/plain": [
              "            ID Is_Churn\n",
              "0     55480787        0\n",
              "1     9aededf2        0\n",
              "2     a5034a09        0\n",
              "3     b3256702        0\n",
              "4     dc28adb5        0\n",
              "...        ...      ...\n",
              "2846  19e40adf        0\n",
              "2847  52d5bc8d        0\n",
              "2848  f708121b        1\n",
              "2849  f008715d        0\n",
              "2850  36b81f59        0\n",
              "\n",
              "[2851 rows x 2 columns]"
            ]
          },
          "metadata": {},
          "execution_count": 78
        }
      ]
    },
    {
      "cell_type": "code",
      "source": [
        "output1.isna().sum()"
      ],
      "metadata": {
        "colab": {
          "base_uri": "https://localhost:8080/"
        },
        "id": "l2CBBBUdPxXe",
        "outputId": "dafeb9c2-58ca-4fb1-cf5c-e324053a6d46"
      },
      "execution_count": null,
      "outputs": [
        {
          "output_type": "execute_result",
          "data": {
            "text/plain": [
              "ID          0\n",
              "Is_Churn    0\n",
              "dtype: int64"
            ]
          },
          "metadata": {},
          "execution_count": 79
        }
      ]
    },
    {
      "cell_type": "code",
      "source": [
        "from google.colab import files\n",
        "files.download('ChurnSub1.csv')"
      ],
      "metadata": {
        "colab": {
          "base_uri": "https://localhost:8080/"
        },
        "id": "QAKolnC5LYht",
        "outputId": "9c70ea45-0d9b-4a3b-efd4-32a03da43f6c"
      },
      "execution_count": null,
      "outputs": [
        {
          "output_type": "display_data",
          "data": {
            "application/javascript": [
              "\n",
              "    async function download(id, filename, size) {\n",
              "      if (!google.colab.kernel.accessAllowed) {\n",
              "        return;\n",
              "      }\n",
              "      const div = document.createElement('div');\n",
              "      const label = document.createElement('label');\n",
              "      label.textContent = `Downloading \"${filename}\": `;\n",
              "      div.appendChild(label);\n",
              "      const progress = document.createElement('progress');\n",
              "      progress.max = size;\n",
              "      div.appendChild(progress);\n",
              "      document.body.appendChild(div);\n",
              "\n",
              "      const buffers = [];\n",
              "      let downloaded = 0;\n",
              "\n",
              "      const channel = await google.colab.kernel.comms.open(id);\n",
              "      // Send a message to notify the kernel that we're ready.\n",
              "      channel.send({})\n",
              "\n",
              "      for await (const message of channel.messages) {\n",
              "        // Send a message to notify the kernel that we're ready.\n",
              "        channel.send({})\n",
              "        if (message.buffers) {\n",
              "          for (const buffer of message.buffers) {\n",
              "            buffers.push(buffer);\n",
              "            downloaded += buffer.byteLength;\n",
              "            progress.value = downloaded;\n",
              "          }\n",
              "        }\n",
              "      }\n",
              "      const blob = new Blob(buffers, {type: 'application/binary'});\n",
              "      const a = document.createElement('a');\n",
              "      a.href = window.URL.createObjectURL(blob);\n",
              "      a.download = filename;\n",
              "      div.appendChild(a);\n",
              "      a.click();\n",
              "      div.remove();\n",
              "    }\n",
              "  "
            ],
            "text/plain": [
              "<IPython.core.display.Javascript object>"
            ]
          },
          "metadata": {}
        },
        {
          "output_type": "display_data",
          "data": {
            "application/javascript": [
              "download(\"download_8d91fa62-e32b-41f7-966f-a5b0b9ca3768\", \"ChurnSub1.csv\", 31373)"
            ],
            "text/plain": [
              "<IPython.core.display.Javascript object>"
            ]
          },
          "metadata": {}
        }
      ]
    },
    {
      "cell_type": "markdown",
      "source": [
        "We can see that the data is Imbalance in nature"
      ],
      "metadata": {
        "id": "8_Sb9_txI_pe"
      }
    },
    {
      "cell_type": "markdown",
      "source": [
        ""
      ],
      "metadata": {
        "id": "IV2O9Vx8Up77"
      }
    },
    {
      "cell_type": "markdown",
      "source": [
        "###Decision Tree"
      ],
      "metadata": {
        "id": "Dn2Xo93_UwOK"
      }
    },
    {
      "cell_type": "code",
      "source": [
        "from sklearn import tree\n",
        "clf = tree.DecisionTreeClassifier()\n",
        "pipe = make_pipeline(StandardScaler(), clf)\n",
        "pipe.fit(X_train, y_train)\n",
        "y_cv_pred = pipe.predict(X_cv)\n",
        "y_cv_pred_prob = pipe.predict_proba(X_cv)"
      ],
      "metadata": {
        "id": "4QL5DLOagNHH"
      },
      "execution_count": null,
      "outputs": []
    },
    {
      "cell_type": "code",
      "source": [
        "#https://medium.com/@dtuk81/confusion-matrix-visualization-fc31e3f30fea\n",
        "import seaborn as sns\n",
        "cf_matrix = confusion_matrix(y_cv, y_cv_pred)\n",
        "sns.heatmap(cf_matrix, annot=True)\n",
        "plt.title('Confusion Matrix : Decision Tree')"
      ],
      "metadata": {
        "colab": {
          "base_uri": "https://localhost:8080/"
        },
        "id": "rXm3sSD7VG8Z",
        "outputId": "67a47d1d-cabc-4dbb-ec4d-8d88903df6d9"
      },
      "execution_count": null,
      "outputs": [
        {
          "output_type": "execute_result",
          "data": {
            "text/plain": [
              "Text(0.5, 1.0, 'Confusion Matrix : Decision Tree')"
            ]
          },
          "metadata": {},
          "execution_count": 82
        },
        {
          "output_type": "display_data",
          "data": {
            "image/png": "[encoded data removed]",
            "text/plain": [
              "<Figure size 432x288 with 2 Axes>"
            ]
          },
          "metadata": {
            "needs_background": "light"
          }
        }
      ]
    },
    {
      "cell_type": "code",
      "source": [
        "from sklearn.metrics import f1_score\n",
        "f1_DT = f1_score(y_cv, y_cv_pred, average='macro')\n",
        "f1_DT"
      ],
      "metadata": {
        "colab": {
          "base_uri": "https://localhost:8080/"
        },
        "id": "EkTV5eqRVL_A",
        "outputId": "5cca6e19-d709-4d15-c2d0-19d265b61430"
      },
      "execution_count": null,
      "outputs": [
        {
          "output_type": "execute_result",
          "data": {
            "text/plain": [
              "0.5138989036076642"
            ]
          },
          "metadata": {},
          "execution_count": 83
        }
      ]
    },
    {
      "cell_type": "markdown",
      "source": [
        "###SVM"
      ],
      "metadata": {
        "id": "lpI4WyOzVm2S"
      }
    },
    {
      "cell_type": "code",
      "source": [
        "from sklearn.svm import SVC\n",
        "from sklearn import tree\n",
        "clf = SVC()\n",
        "pipe = make_pipeline(StandardScaler(), clf)\n",
        "pipe.fit(X_train, y_train)\n",
        "y_cv_pred = pipe.predict(X_cv)\n",
        "#y_cv_pred_prob = pipe.predict_proba(X_cv)"
      ],
      "metadata": {
        "id": "NK5wfiynVXDY"
      },
      "execution_count": null,
      "outputs": []
    },
    {
      "cell_type": "markdown",
      "source": [
        ""
      ],
      "metadata": {
        "id": "Zp6eBmxbVlSZ"
      }
    },
    {
      "cell_type": "code",
      "source": [
        "#https://medium.com/@dtuk81/confusion-matrix-visualization-fc31e3f30fea\n",
        "import seaborn as sns\n",
        "cf_matrix = confusion_matrix(y_cv, y_cv_pred)\n",
        "sns.heatmap(cf_matrix, annot=True)\n",
        "plt.title('Confusion Matrix : SVC')"
      ],
      "metadata": {
        "colab": {
          "base_uri": "https://localhost:8080/"
        },
        "id": "N5CrzWNeWAp3",
        "outputId": "2cab7fe5-136e-4633-cb4f-f564b7da88b2"
      },
      "execution_count": null,
      "outputs": [
        {
          "output_type": "execute_result",
          "data": {
            "text/plain": [
              "Text(0.5, 1.0, 'Confusion Matrix : SVC')"
            ]
          },
          "metadata": {},
          "execution_count": 85
        },
        {
          "output_type": "display_data",
          "data": {
            "image/png": "[encoded data removed]",
            "text/plain": [
              "<Figure size 432x288 with 2 Axes>"
            ]
          },
          "metadata": {
            "needs_background": "light"
          }
        }
      ]
    },
    {
      "cell_type": "code",
      "source": [
        "from sklearn.metrics import f1_score\n",
        "f1_SVC = f1_score(y_cv, y_cv_pred, average='macro')\n",
        "f1_SVC"
      ],
      "metadata": {
        "colab": {
          "base_uri": "https://localhost:8080/"
        },
        "id": "tHCUM9_8WBFT",
        "outputId": "b13405c4-398e-4bd6-c68d-58011e1c89d4"
      },
      "execution_count": null,
      "outputs": [
        {
          "output_type": "execute_result",
          "data": {
            "text/plain": [
              "0.438466527884883"
            ]
          },
          "metadata": {},
          "execution_count": 86
        }
      ]
    },
    {
      "cell_type": "markdown",
      "source": [
        "###Random Forest"
      ],
      "metadata": {
        "id": "8SDDDhFTWNai"
      }
    },
    {
      "cell_type": "code",
      "source": [
        "from sklearn.ensemble import RandomForestClassifier\n",
        "from sklearn.pipeline import make_pipeline\n",
        "from sklearn.preprocessing import StandardScaler\n",
        "clf = RandomForestClassifier(max_depth=2, random_state=0)\n",
        "pipe = make_pipeline(StandardScaler(), clf)\n",
        "pipe.fit(X_train, y_train)\n",
        "y_cv_pred = pipe.predict(X_cv)\n",
        "y_cv_pred_prob = pipe.predict_proba(X_cv)"
      ],
      "metadata": {
        "id": "14vDbgpXWHO7"
      },
      "execution_count": null,
      "outputs": []
    },
    {
      "cell_type": "code",
      "source": [
        "#https://medium.com/@dtuk81/confusion-matrix-visualization-fc31e3f30fea\n",
        "import seaborn as sns\n",
        "cf_matrix = confusion_matrix(y_cv, y_cv_pred)\n",
        "sns.heatmap(cf_matrix, annot=True)\n",
        "plt.title('Confusion Matrix : Random Forest')"
      ],
      "metadata": {
        "colab": {
          "base_uri": "https://localhost:8080/"
        },
        "id": "Q_FmBs8TWUil",
        "outputId": "23bbbdb9-caa1-4ab9-de59-0897547c2f05"
      },
      "execution_count": null,
      "outputs": [
        {
          "output_type": "execute_result",
          "data": {
            "text/plain": [
              "Text(0.5, 1.0, 'Confusion Matrix : Random Forest')"
            ]
          },
          "metadata": {},
          "execution_count": 88
        },
        {
          "output_type": "display_data",
          "data": {
            "image/png": "[encoded data removed]",
            "text/plain": [
              "<Figure size 432x288 with 2 Axes>"
            ]
          },
          "metadata": {
            "needs_background": "light"
          }
        }
      ]
    },
    {
      "cell_type": "code",
      "source": [
        "from sklearn.metrics import f1_score\n",
        "f1_RF = f1_score(y_cv, y_cv_pred, average='macro')\n",
        "f1_RF"
      ],
      "metadata": {
        "colab": {
          "base_uri": "https://localhost:8080/"
        },
        "id": "fzU6L0oXWW15",
        "outputId": "525bb344-f979-4a45-ce29-79940f332626"
      },
      "execution_count": null,
      "outputs": [
        {
          "output_type": "execute_result",
          "data": {
            "text/plain": [
              "0.43235168587281264"
            ]
          },
          "metadata": {},
          "execution_count": 89
        }
      ]
    },
    {
      "cell_type": "markdown",
      "source": [
        "###XGBoost"
      ],
      "metadata": {
        "id": "jwKrZaUJWoP-"
      }
    },
    {
      "cell_type": "code",
      "source": [
        "from xgboost import XGBClassifier\n",
        "\n",
        "pipe = make_pipeline(StandardScaler(), XGBClassifier(learning_rate =0.1, n_estimators=140, max_depth=5,\n",
        " min_child_weight=1, gamma=0, subsample=0.8, colsample_bytree=0.8,\n",
        " objective= 'binary:logistic', nthread=4, scale_pos_weight=1, seed=27))\n",
        "pipe.fit(X_train, y_train)\n",
        "y_cv_pred = pipe.predict(X_cv)\n",
        "y_cv_pred_prob = pipe.predict_proba(X_cv)"
      ],
      "metadata": {
        "id": "JyOvl6FLWcQ5"
      },
      "execution_count": null,
      "outputs": []
    },
    {
      "cell_type": "code",
      "source": [
        "#https://medium.com/@dtuk81/confusion-matrix-visualization-fc31e3f30fea\n",
        "import seaborn as sns\n",
        "cf_matrix = confusion_matrix(y_cv, y_cv_pred)\n",
        "sns.heatmap(cf_matrix, annot=True)\n",
        "plt.title('Confusion Matrix : XGBoost')"
      ],
      "metadata": {
        "colab": {
          "base_uri": "https://localhost:8080/",
          "height": 298
        },
        "id": "ATmw1e8sWsbL",
        "outputId": "35cc75eb-08a7-4e67-9992-32755e2a3019"
      },
      "execution_count": null,
      "outputs": [
        {
          "output_type": "execute_result",
          "data": {
            "text/plain": [
              "Text(0.5, 1.0, 'Confusion Matrix : XGBoost')"
            ]
          },
          "metadata": {},
          "execution_count": 91
        },
        {
          "output_type": "display_data",
          "data": {
            "image/png": "[encoded data removed]",
            "text/plain": [
              "<Figure size 432x288 with 2 Axes>"
            ]
          },
          "metadata": {
            "needs_background": "light"
          }
        }
      ]
    },
    {
      "cell_type": "code",
      "source": [
        "from sklearn.metrics import f1_score\n",
        "f1_XGB = f1_score(y_cv, y_cv_pred, average='macro')\n",
        "f1_XGB"
      ],
      "metadata": {
        "colab": {
          "base_uri": "https://localhost:8080/"
        },
        "id": "gFSyAbXLWvR3",
        "outputId": "c08d49be-6fd2-4067-9224-9a885da4f1ca"
      },
      "execution_count": null,
      "outputs": [
        {
          "output_type": "execute_result",
          "data": {
            "text/plain": [
              "0.5017592997811816"
            ]
          },
          "metadata": {},
          "execution_count": 92
        }
      ]
    },
    {
      "cell_type": "code",
      "source": [
        "#https://www.analyticsvidhya.com/blog/2016/03/complete-guide-parameter-tuning-xgboost-with-codes-python/\n",
        "from sklearn.model_selection import GridSearchCV\n",
        "param_test1 = {\n",
        " 'max_depth':range(3,10,2),\n",
        " 'min_child_weight':range(1,6,2)\n",
        "}\n",
        "gsearch1 = GridSearchCV(estimator = XGBClassifier(), \n",
        " param_grid = param_test1,n_jobs=4, cv=5)"
      ],
      "metadata": {
        "id": "zvZca72sgXkV"
      },
      "execution_count": null,
      "outputs": []
    },
    {
      "cell_type": "markdown",
      "source": [
        "### Summary Base"
      ],
      "metadata": {
        "id": "pdZW6eUZYdm9"
      }
    },
    {
      "cell_type": "code",
      "source": [
        "from prettytable import PrettyTable\n",
        "\n",
        "x = PrettyTable()\n",
        "\n",
        "x.field_names = [\"Model\", \"ROC_test\"]\n",
        "x.add_row([\"Logistic Regression \",f1_LR])\n",
        "x.add_row([\"Decision Tree       \",f1_DT])\n",
        "x.add_row([\"SVC                 \",f1_SVC])\n",
        "x.add_row([\"Random Forest       \",f1_RF])\n",
        "x.add_row([\"XGBoost             \",f1_XGB])\n",
        "print(x)"
      ],
      "metadata": {
        "colab": {
          "base_uri": "https://localhost:8080/"
        },
        "id": "fqCmZgkjYbUR",
        "outputId": "d11ab43b-28c5-426a-ca75-2203b27d073a"
      },
      "execution_count": null,
      "outputs": [
        {
          "output_type": "stream",
          "name": "stdout",
          "text": [
            "+----------------------+---------------------+\n",
            "|        Model         |       ROC_test      |\n",
            "+----------------------+---------------------+\n",
            "| Logistic Regression  | 0.47581535928023455 |\n",
            "| Decision Tree        |  0.5138989036076642 |\n",
            "| SVC                  |  0.438466527884883  |\n",
            "| Random Forest        | 0.43235168587281264 |\n",
            "| XGBoost              |  0.5017592997811816 |\n",
            "+----------------------+---------------------+\n"
          ]
        }
      ]
    },
    {
      "cell_type": "markdown",
      "source": [
        "We can see that Decision is working better than all other models"
      ],
      "metadata": {
        "id": "-We35NrhYykc"
      }
    },
    {
      "cell_type": "markdown",
      "source": [
        "Decision Tree : Hyper Parameter Tuning"
      ],
      "metadata": {
        "id": "dAN5YLJzaIud"
      }
    },
    {
      "cell_type": "code",
      "source": [
        "from sklearn.model_selection import GridSearchCV"
      ],
      "metadata": {
        "id": "0YBiiUqLYwRC"
      },
      "execution_count": null,
      "outputs": []
    },
    {
      "cell_type": "markdown",
      "source": [
        "###Base Model"
      ],
      "metadata": {
        "id": "s88c60x8bi5M"
      }
    },
    {
      "cell_type": "markdown",
      "source": [
        "Hyper parameter tuning"
      ],
      "metadata": {
        "id": "PHGQdXjlbqXW"
      }
    },
    {
      "cell_type": "code",
      "source": [
        "'''\n",
        "\n",
        "class sklearn.tree.DecisionTreeClassifier(*, criterion='gini', splitter='best', max_depth=None, min_samples_split=2, \n",
        "min_samples_leaf=1, min_weight_fraction_leaf=0.0, max_features=None, random_state=None, max_leaf_nodes=None, min_impurity_decrease=0.0, \n",
        "class_weight=None, ccp_alpha=0.0)[source]\n",
        "\n",
        "'''\n",
        "model = tree.DecisionTreeClassifier()\n",
        "from sklearn.model_selection import GridSearchCV\n",
        "parameter = {'max_depth':[3,5,10,50],\n",
        "             'max_leaf_nodes':[5,10,50,100]}\n",
        "clf = GridSearchCV(model,parameter)\n",
        "clf.fit(X_train,y_train)"
      ],
      "metadata": {
        "colab": {
          "base_uri": "https://localhost:8080/"
        },
        "id": "aUz9HmbybsaF",
        "outputId": "2c323dd4-be57-4f69-97a2-8e65f13483b8"
      },
      "execution_count": null,
      "outputs": [
        {
          "output_type": "execute_result",
          "data": {
            "text/plain": [
              "GridSearchCV(estimator=DecisionTreeClassifier(),\n",
              "             param_grid={'max_depth': [3, 5, 10, 50],\n",
              "                         'max_leaf_nodes': [5, 10, 50, 100]})"
            ]
          },
          "metadata": {},
          "execution_count": 97
        }
      ]
    },
    {
      "cell_type": "code",
      "source": [
        "clf.best_params_"
      ],
      "metadata": {
        "colab": {
          "base_uri": "https://localhost:8080/"
        },
        "id": "YYhs54hncrqa",
        "outputId": "97ec16b2-9ef1-4815-9cda-2b3c6486b1b4"
      },
      "execution_count": null,
      "outputs": [
        {
          "output_type": "execute_result",
          "data": {
            "text/plain": [
              "{'max_depth': 3, 'max_leaf_nodes': 5}"
            ]
          },
          "metadata": {},
          "execution_count": 98
        }
      ]
    },
    {
      "cell_type": "code",
      "source": [
        "from sklearn import tree\n",
        "clf = tree.DecisionTreeClassifier()\n",
        "pipe = make_pipeline(StandardScaler(), clf)\n",
        "pipe.fit(X_train, y_train)\n",
        "y_cv_pred = pipe.predict(X_cv)\n",
        "y_cv_pred_prob = pipe.predict_proba(X_cv)"
      ],
      "metadata": {
        "id": "Z03J57PLcx9r"
      },
      "execution_count": null,
      "outputs": []
    },
    {
      "cell_type": "code",
      "source": [
        "#https://medium.com/@dtuk81/confusion-matrix-visualization-fc31e3f30fea\n",
        "import seaborn as sns\n",
        "cf_matrix = confusion_matrix(y_cv, y_cv_pred)\n",
        "sns.heatmap(cf_matrix, annot=True)\n",
        "plt.title('Confusion Matrix : Decision Tree')"
      ],
      "metadata": {
        "colab": {
          "base_uri": "https://localhost:8080/"
        },
        "id": "3KpeWMoDetkL",
        "outputId": "cfd38223-ee16-4e4b-9f1d-c26de32fd58c"
      },
      "execution_count": null,
      "outputs": [
        {
          "output_type": "execute_result",
          "data": {
            "text/plain": [
              "Text(0.5, 1.0, 'Confusion Matrix : Decision Tree')"
            ]
          },
          "metadata": {},
          "execution_count": 100
        },
        {
          "output_type": "display_data",
          "data": {
            "image/png": "[encoded data removed]",
            "text/plain": [
              "<Figure size 432x288 with 2 Axes>"
            ]
          },
          "metadata": {
            "needs_background": "light"
          }
        }
      ]
    },
    {
      "cell_type": "code",
      "source": [
        "from sklearn.metrics import f1_score\n",
        "f1_DT_ = f1_score(y_cv, y_cv_pred, average='macro')\n",
        "f1_DT_"
      ],
      "metadata": {
        "colab": {
          "base_uri": "https://localhost:8080/"
        },
        "id": "SbiLno2VetWp",
        "outputId": "fcf2f7c0-29bd-4d69-e38f-554f88484cc0"
      },
      "execution_count": null,
      "outputs": [
        {
          "output_type": "execute_result",
          "data": {
            "text/plain": [
              "0.5077694235588972"
            ]
          },
          "metadata": {},
          "execution_count": 101
        }
      ]
    },
    {
      "cell_type": "code",
      "source": [
        "y_test_pred = pipe.predict(test)\n",
        "output1 = pd.DataFrame(np.column_stack([test_id,y_test_pred]), columns = ('ID','Is_Churn'))\n",
        "output1.to_csv('ChurnSub2.csv',index = False)\n",
        "files.download('ChurnSub2.csv')"
      ],
      "metadata": {
        "colab": {
          "base_uri": "https://localhost:8080/"
        },
        "id": "r3tAgk6P59cb",
        "outputId": "e8f05363-c43d-4aa7-9c17-2f2066c6f726"
      },
      "execution_count": null,
      "outputs": [
        {
          "output_type": "display_data",
          "data": {
            "application/javascript": [
              "\n",
              "    async function download(id, filename, size) {\n",
              "      if (!google.colab.kernel.accessAllowed) {\n",
              "        return;\n",
              "      }\n",
              "      const div = document.createElement('div');\n",
              "      const label = document.createElement('label');\n",
              "      label.textContent = `Downloading \"${filename}\": `;\n",
              "      div.appendChild(label);\n",
              "      const progress = document.createElement('progress');\n",
              "      progress.max = size;\n",
              "      div.appendChild(progress);\n",
              "      document.body.appendChild(div);\n",
              "\n",
              "      const buffers = [];\n",
              "      let downloaded = 0;\n",
              "\n",
              "      const channel = await google.colab.kernel.comms.open(id);\n",
              "      // Send a message to notify the kernel that we're ready.\n",
              "      channel.send({})\n",
              "\n",
              "      for await (const message of channel.messages) {\n",
              "        // Send a message to notify the kernel that we're ready.\n",
              "        channel.send({})\n",
              "        if (message.buffers) {\n",
              "          for (const buffer of message.buffers) {\n",
              "            buffers.push(buffer);\n",
              "            downloaded += buffer.byteLength;\n",
              "            progress.value = downloaded;\n",
              "          }\n",
              "        }\n",
              "      }\n",
              "      const blob = new Blob(buffers, {type: 'application/binary'});\n",
              "      const a = document.createElement('a');\n",
              "      a.href = window.URL.createObjectURL(blob);\n",
              "      a.download = filename;\n",
              "      div.appendChild(a);\n",
              "      a.click();\n",
              "      div.remove();\n",
              "    }\n",
              "  "
            ],
            "text/plain": [
              "<IPython.core.display.Javascript object>"
            ]
          },
          "metadata": {}
        },
        {
          "output_type": "display_data",
          "data": {
            "application/javascript": [
              "download(\"download_b814f44d-864f-4f99-b85c-87987c07fb82\", \"ChurnSub2.csv\", 31373)"
            ],
            "text/plain": [
              "<IPython.core.display.Javascript object>"
            ]
          },
          "metadata": {}
        }
      ]
    },
    {
      "cell_type": "markdown",
      "source": [
        "Default decision Tree works better than Tuned one"
      ],
      "metadata": {
        "id": "HMbJhuIIfRIX"
      }
    },
    {
      "cell_type": "markdown",
      "source": [
        "###Upsampling"
      ],
      "metadata": {
        "id": "zpqGqXFT86yw"
      }
    },
    {
      "cell_type": "code",
      "source": [
        "train.columns"
      ],
      "metadata": {
        "colab": {
          "base_uri": "https://localhost:8080/"
        },
        "id": "BtGK2wY39pzU",
        "outputId": "cd664732-4d6e-4f2a-8999-110a1bef5271"
      },
      "execution_count": null,
      "outputs": [
        {
          "output_type": "execute_result",
          "data": {
            "text/plain": [
              "Index(['Age', 'Gender', 'Income', 'Balance', 'Vintage', 'Transaction_Status',\n",
              "       'Product_Holdings', 'Credit_Card', 'Credit_Category'],\n",
              "      dtype='object')"
            ]
          },
          "metadata": {},
          "execution_count": 103
        }
      ]
    },
    {
      "cell_type": "code",
      "source": [
        "\n",
        "train2 = pd.DataFrame(np.column_stack((train,target)), columns=('Age', 'Gender', 'Income', 'Balance', 'Vintage', 'Transaction_Status',\n",
        "       'Product_Holdings', 'Credit_Card', 'Credit_Category','Is_Churn'))\n"
      ],
      "metadata": {
        "id": "QDqO1h3D9GQH"
      },
      "execution_count": null,
      "outputs": []
    },
    {
      "cell_type": "code",
      "source": [
        "train2['Is_Churn'].value_counts()"
      ],
      "metadata": {
        "colab": {
          "base_uri": "https://localhost:8080/"
        },
        "id": "nrIPEys_-GcS",
        "outputId": "c309bb44-2e19-4d3c-f956-7c58861a7c0e"
      },
      "execution_count": null,
      "outputs": [
        {
          "output_type": "execute_result",
          "data": {
            "text/plain": [
              "0    5113\n",
              "1    1537\n",
              "Name: Is_Churn, dtype: int64"
            ]
          },
          "metadata": {},
          "execution_count": 105
        }
      ]
    },
    {
      "cell_type": "code",
      "source": [
        "#https://www.analyticsvidhya.com/blog/2021/06/5-techniques-to-handle-imbalanced-data-for-a-classification-problem/\n",
        "from sklearn.utils import resample\n",
        "#create two different dataframe of majority and minority class \n",
        "majority = train2[(train2['Is_Churn']==0)] \n",
        "minority = train2[(train2['Is_Churn']==1)] \n",
        "# upsample minority class\n",
        "df_minority_upsampled = resample(minority, \n",
        "                                 replace=True,    # sample with replacement\n",
        "                                 n_samples= 5113, # to match majority class\n",
        "                                 random_state=42)  # reproducible results\n",
        "# Combine majority class with upsampled minority class\n",
        "df_upsampled = pd.concat([df_minority_upsampled, majority],ignore_index=True)"
      ],
      "metadata": {
        "id": "O6iMuqKa5oG-"
      },
      "execution_count": null,
      "outputs": []
    },
    {
      "cell_type": "code",
      "source": [
        "df_upsampled['Is_Churn'].value_counts()\n",
        "up_target = df_upsampled['Is_Churn']\n",
        "df_upsampled = df_upsampled.iloc[:,:-1]"
      ],
      "metadata": {
        "id": "Yr0OrvP084j5"
      },
      "execution_count": null,
      "outputs": []
    },
    {
      "cell_type": "code",
      "source": [
        "print(df_upsampled.shape,len(up_target))"
      ],
      "metadata": {
        "colab": {
          "base_uri": "https://localhost:8080/"
        },
        "id": "ufq4horf_GIo",
        "outputId": "af0c2a3c-4a43-48c4-f7a8-60a31d82c2b5"
      },
      "execution_count": null,
      "outputs": [
        {
          "output_type": "stream",
          "name": "stdout",
          "text": [
            "(10226, 9) 10226\n"
          ]
        }
      ]
    },
    {
      "cell_type": "code",
      "source": [
        "from sklearn.model_selection import train_test_split\n",
        "X_train , X_cv , y_train , y_cv = train_test_split(df_upsampled,up_target.astype(int),test_size = 0.2)"
      ],
      "metadata": {
        "id": "fsn3szHi-gfG"
      },
      "execution_count": null,
      "outputs": []
    },
    {
      "cell_type": "code",
      "source": [
        "print(X_train.shape,len(y_train))\n",
        "print(X_cv.shape,len(y_cv))"
      ],
      "metadata": {
        "colab": {
          "base_uri": "https://localhost:8080/"
        },
        "id": "cGceYJEj_jOB",
        "outputId": "c8c7673c-42c1-4473-d1ff-57de527196a6"
      },
      "execution_count": null,
      "outputs": [
        {
          "output_type": "stream",
          "name": "stdout",
          "text": [
            "(8180, 9) 8180\n",
            "(2046, 9) 2046\n"
          ]
        }
      ]
    },
    {
      "cell_type": "code",
      "source": [
        ""
      ],
      "metadata": {
        "id": "DnQ1FhVP-zHt"
      },
      "execution_count": null,
      "outputs": []
    },
    {
      "cell_type": "markdown",
      "source": [
        "####Decision Tree"
      ],
      "metadata": {
        "id": "8wrtXhueV9AR"
      }
    },
    {
      "cell_type": "code",
      "source": [
        "#https://medium.com/@dtuk81/confusion-matrix-visualization-fc31e3f30fea\n",
        "from sklearn import tree\n",
        "clf = tree.DecisionTreeClassifier()\n",
        "pipe = make_pipeline(StandardScaler(), clf)\n",
        "pipe.fit(X_train, y_train)\n",
        "y_cv_pred = pipe.predict(X_cv)\n",
        "y_cv_pred_prob = pipe.predict_proba(X_cv)\n",
        "import seaborn as sns\n",
        "cf_matrix = confusion_matrix(y_cv, y_cv_pred)\n",
        "sns.heatmap(cf_matrix, annot=True)\n",
        "plt.title('Confusion Matrix : Decision Tree')"
      ],
      "metadata": {
        "colab": {
          "base_uri": "https://localhost:8080/",
          "height": 298
        },
        "id": "JG4sf77q_fLW",
        "outputId": "f7f51319-3164-4867-f723-9b1ff0726c39"
      },
      "execution_count": null,
      "outputs": [
        {
          "output_type": "execute_result",
          "data": {
            "text/plain": [
              "Text(0.5, 1.0, 'Confusion Matrix : Decision Tree')"
            ]
          },
          "metadata": {},
          "execution_count": 111
        },
        {
          "output_type": "display_data",
          "data": {
            "image/png": "[encoded data removed]",
            "text/plain": [
              "<Figure size 432x288 with 2 Axes>"
            ]
          },
          "metadata": {
            "needs_background": "light"
          }
        }
      ]
    },
    {
      "cell_type": "code",
      "source": [
        "from sklearn.metrics import f1_score\n",
        "f1_DT_ = f1_score(y_cv, y_cv_pred, average='macro')\n",
        "f1_DT_"
      ],
      "metadata": {
        "colab": {
          "base_uri": "https://localhost:8080/"
        },
        "id": "1q5AyKAfHPr4",
        "outputId": "37f41340-d443-412f-b493-eb41619385a9"
      },
      "execution_count": null,
      "outputs": [
        {
          "output_type": "execute_result",
          "data": {
            "text/plain": [
              "0.8473501151126558"
            ]
          },
          "metadata": {},
          "execution_count": 112
        }
      ]
    },
    {
      "cell_type": "code",
      "source": [
        "y_test_pred = pipe.predict(test)\n",
        "output1 = pd.DataFrame(np.column_stack([test_id,y_test_pred]), columns = ('ID','Is_Churn'))\n",
        "output1.to_csv('ChurnSub3.csv',index = False)\n",
        "files.download('ChurnSub3.csv')"
      ],
      "metadata": {
        "colab": {
          "base_uri": "https://localhost:8080/",
          "height": 17
        },
        "id": "yGlt6mrqBLKm",
        "outputId": "71a317c8-16dc-42ec-9f11-27119b75d604"
      },
      "execution_count": null,
      "outputs": [
        {
          "output_type": "display_data",
          "data": {
            "application/javascript": [
              "\n",
              "    async function download(id, filename, size) {\n",
              "      if (!google.colab.kernel.accessAllowed) {\n",
              "        return;\n",
              "      }\n",
              "      const div = document.createElement('div');\n",
              "      const label = document.createElement('label');\n",
              "      label.textContent = `Downloading \"${filename}\": `;\n",
              "      div.appendChild(label);\n",
              "      const progress = document.createElement('progress');\n",
              "      progress.max = size;\n",
              "      div.appendChild(progress);\n",
              "      document.body.appendChild(div);\n",
              "\n",
              "      const buffers = [];\n",
              "      let downloaded = 0;\n",
              "\n",
              "      const channel = await google.colab.kernel.comms.open(id);\n",
              "      // Send a message to notify the kernel that we're ready.\n",
              "      channel.send({})\n",
              "\n",
              "      for await (const message of channel.messages) {\n",
              "        // Send a message to notify the kernel that we're ready.\n",
              "        channel.send({})\n",
              "        if (message.buffers) {\n",
              "          for (const buffer of message.buffers) {\n",
              "            buffers.push(buffer);\n",
              "            downloaded += buffer.byteLength;\n",
              "            progress.value = downloaded;\n",
              "          }\n",
              "        }\n",
              "      }\n",
              "      const blob = new Blob(buffers, {type: 'application/binary'});\n",
              "      const a = document.createElement('a');\n",
              "      a.href = window.URL.createObjectURL(blob);\n",
              "      a.download = filename;\n",
              "      div.appendChild(a);\n",
              "      a.click();\n",
              "      div.remove();\n",
              "    }\n",
              "  "
            ],
            "text/plain": [
              "<IPython.core.display.Javascript object>"
            ]
          },
          "metadata": {}
        },
        {
          "output_type": "display_data",
          "data": {
            "application/javascript": [
              "download(\"download_5ba42927-5a92-4e39-89e5-b94ea9bb70b2\", \"ChurnSub3.csv\", 31373)"
            ],
            "text/plain": [
              "<IPython.core.display.Javascript object>"
            ]
          },
          "metadata": {}
        }
      ]
    },
    {
      "cell_type": "markdown",
      "source": [
        "####Logistic Regression with upsampled data"
      ],
      "metadata": {
        "id": "CTe3netJUDUE"
      }
    },
    {
      "cell_type": "code",
      "source": [
        "from sklearn import tree\n",
        "clf = LogisticRegression()\n",
        "pipe = make_pipeline(StandardScaler(), clf)\n",
        "pipe.fit(X_train, y_train)\n",
        "y_cv_pred = pipe.predict(X_cv)\n",
        "y_cv_pred_prob = pipe.predict_proba(X_cv)"
      ],
      "metadata": {
        "id": "UhD_4l7TUCkR"
      },
      "execution_count": null,
      "outputs": []
    },
    {
      "cell_type": "code",
      "source": [
        "#https://medium.com/@dtuk81/confusion-matrix-visualization-fc31e3f30fea\n",
        "import seaborn as sns\n",
        "cf_matrix = confusion_matrix(y_cv, y_cv_pred)\n",
        "sns.heatmap(cf_matrix, annot=True)\n",
        "plt.title('Confusion Matrix :Logistic Regression')"
      ],
      "metadata": {
        "colab": {
          "base_uri": "https://localhost:8080/",
          "height": 298
        },
        "id": "wJKpJssgUPl3",
        "outputId": "a21f6ebe-eef6-4753-a60e-a5abe5f89570"
      },
      "execution_count": null,
      "outputs": [
        {
          "output_type": "execute_result",
          "data": {
            "text/plain": [
              "Text(0.5, 1.0, 'Confusion Matrix :Logistic Regression')"
            ]
          },
          "metadata": {},
          "execution_count": 115
        },
        {
          "output_type": "display_data",
          "data": {
            "image/png": "[encoded data removed]",
            "text/plain": [
              "<Figure size 432x288 with 2 Axes>"
            ]
          },
          "metadata": {
            "needs_background": "light"
          }
        }
      ]
    },
    {
      "cell_type": "code",
      "source": [
        "from sklearn.metrics import f1_score\n",
        "f1_LR_ = f1_score(y_cv, y_cv_pred, average='macro')\n",
        "f1_LR_"
      ],
      "metadata": {
        "colab": {
          "base_uri": "https://localhost:8080/"
        },
        "id": "R6GYZQU4Udxs",
        "outputId": "687f217e-8bef-4311-ba73-9210898f4f94"
      },
      "execution_count": null,
      "outputs": [
        {
          "output_type": "execute_result",
          "data": {
            "text/plain": [
              "0.6040204376548308"
            ]
          },
          "metadata": {},
          "execution_count": 116
        }
      ]
    },
    {
      "cell_type": "markdown",
      "source": [
        "####Random Forest with upsampled data"
      ],
      "metadata": {
        "id": "HVjta-fkUk9-"
      }
    },
    {
      "cell_type": "code",
      "source": [
        "from sklearn import tree\n",
        "clf = RandomForestClassifier(max_depth=2, random_state=0)\n",
        "pipe = make_pipeline(StandardScaler(), clf)\n",
        "pipe.fit(X_train, y_train)\n",
        "y_cv_pred = pipe.predict(X_cv)\n",
        "y_cv_pred_prob = pipe.predict_proba(X_cv)\n",
        "#https://medium.com/@dtuk81/confusion-matrix-visualization-fc31e3f30fea\n",
        "import seaborn as sns\n",
        "cf_matrix = confusion_matrix(y_cv, y_cv_pred)\n",
        "sns.heatmap(cf_matrix, annot=True)\n",
        "plt.title('Confusion Matrix : Random Forest')"
      ],
      "metadata": {
        "colab": {
          "base_uri": "https://localhost:8080/",
          "height": 298
        },
        "id": "MSh-Ugp3UhAF",
        "outputId": "8e316f9d-21be-400c-df44-8f277d4f87b0"
      },
      "execution_count": null,
      "outputs": [
        {
          "output_type": "execute_result",
          "data": {
            "text/plain": [
              "Text(0.5, 1.0, 'Confusion Matrix : Random Forest')"
            ]
          },
          "metadata": {},
          "execution_count": 117
        },
        {
          "output_type": "display_data",
          "data": {
            "image/png": "[encoded data removed]",
            "text/plain": [
              "<Figure size 432x288 with 2 Axes>"
            ]
          },
          "metadata": {
            "needs_background": "light"
          }
        }
      ]
    },
    {
      "cell_type": "code",
      "source": [
        "from sklearn.metrics import f1_score\n",
        "f1_RF_ = f1_score(y_cv, y_cv_pred, average='macro')\n",
        "f1_RF_"
      ],
      "metadata": {
        "colab": {
          "base_uri": "https://localhost:8080/"
        },
        "id": "-UTofGo5VCDD",
        "outputId": "47ca9a75-2b08-494c-92a3-1a7400a7ab10"
      },
      "execution_count": null,
      "outputs": [
        {
          "output_type": "execute_result",
          "data": {
            "text/plain": [
              "0.5964469994149824"
            ]
          },
          "metadata": {},
          "execution_count": 118
        }
      ]
    },
    {
      "cell_type": "markdown",
      "source": [
        "####XGBoost with upsampled data"
      ],
      "metadata": {
        "id": "auvvgyf2VSZz"
      }
    },
    {
      "cell_type": "code",
      "source": [
        "from sklearn import tree\n",
        "clf = XGBClassifier()\n",
        "pipe = make_pipeline(StandardScaler(), clf)\n",
        "pipe.fit(X_train, y_train)\n",
        "y_cv_pred = pipe.predict(X_cv)\n",
        "y_cv_pred_prob = pipe.predict_proba(X_cv)\n",
        "#https://medium.com/@dtuk81/confusion-matrix-visualization-fc31e3f30fea\n",
        "import seaborn as sns\n",
        "cf_matrix = confusion_matrix(y_cv, y_cv_pred)\n",
        "sns.heatmap(cf_matrix, annot=True)\n",
        "plt.title('Confusion Matrix : Random Forest')"
      ],
      "metadata": {
        "id": "sIICj9Y8VQAO"
      },
      "execution_count": null,
      "outputs": []
    },
    {
      "cell_type": "code",
      "source": [
        ""
      ],
      "metadata": {
        "colab": {
          "base_uri": "https://localhost:8080/"
        },
        "id": "HVHhEZD20NWL",
        "outputId": "0647f2bb-796b-4de3-8319-68636392302e"
      },
      "execution_count": null,
      "outputs": [
        {
          "output_type": "execute_result",
          "data": {
            "text/plain": [
              "<bound method Pipeline.get_params of Pipeline(steps=[('standardscaler', StandardScaler()),\n",
              "                ('xgbclassifier', XGBClassifier())])>"
            ]
          },
          "metadata": {},
          "execution_count": 257
        }
      ]
    },
    {
      "cell_type": "code",
      "source": [
        "from sklearn.metrics import f1_score\n",
        "f1_XGB_ = f1_score(y_cv, y_cv_pred, average='macro')\n",
        "f1_XGB_"
      ],
      "metadata": {
        "colab": {
          "base_uri": "https://localhost:8080/"
        },
        "id": "V0F9SiCfVbx4",
        "outputId": "8d215d79-0fca-406a-bda9-7daa82b3803a"
      },
      "execution_count": null,
      "outputs": [
        {
          "output_type": "execute_result",
          "data": {
            "text/plain": [
              "0.6198269238265393"
            ]
          },
          "metadata": {},
          "execution_count": 254
        }
      ]
    },
    {
      "cell_type": "code",
      "source": [
        "y_test_pred = pipe.predict(test)\n",
        "output1 = pd.DataFrame(np.column_stack([test_id,y_test_pred]), columns = ('ID','Is_Churn'))\n",
        "output1.to_csv('ChurnSub11.csv',index = False)\n",
        "files.download('ChurnSub11.csv')"
      ],
      "metadata": {
        "colab": {
          "base_uri": "https://localhost:8080/",
          "height": 17
        },
        "id": "1y34SFjpyhay",
        "outputId": "b0d6affb-7446-4b08-8625-a0939a23b3b0"
      },
      "execution_count": null,
      "outputs": [
        {
          "output_type": "display_data",
          "data": {
            "application/javascript": [
              "\n",
              "    async function download(id, filename, size) {\n",
              "      if (!google.colab.kernel.accessAllowed) {\n",
              "        return;\n",
              "      }\n",
              "      const div = document.createElement('div');\n",
              "      const label = document.createElement('label');\n",
              "      label.textContent = `Downloading \"${filename}\": `;\n",
              "      div.appendChild(label);\n",
              "      const progress = document.createElement('progress');\n",
              "      progress.max = size;\n",
              "      div.appendChild(progress);\n",
              "      document.body.appendChild(div);\n",
              "\n",
              "      const buffers = [];\n",
              "      let downloaded = 0;\n",
              "\n",
              "      const channel = await google.colab.kernel.comms.open(id);\n",
              "      // Send a message to notify the kernel that we're ready.\n",
              "      channel.send({})\n",
              "\n",
              "      for await (const message of channel.messages) {\n",
              "        // Send a message to notify the kernel that we're ready.\n",
              "        channel.send({})\n",
              "        if (message.buffers) {\n",
              "          for (const buffer of message.buffers) {\n",
              "            buffers.push(buffer);\n",
              "            downloaded += buffer.byteLength;\n",
              "            progress.value = downloaded;\n",
              "          }\n",
              "        }\n",
              "      }\n",
              "      const blob = new Blob(buffers, {type: 'application/binary'});\n",
              "      const a = document.createElement('a');\n",
              "      a.href = window.URL.createObjectURL(blob);\n",
              "      a.download = filename;\n",
              "      div.appendChild(a);\n",
              "      a.click();\n",
              "      div.remove();\n",
              "    }\n",
              "  "
            ],
            "text/plain": [
              "<IPython.core.display.Javascript object>"
            ]
          },
          "metadata": {}
        },
        {
          "output_type": "display_data",
          "data": {
            "application/javascript": [
              "download(\"download_57602509-34d2-4444-ba40-24621ddbb654\", \"ChurnSub11.csv\", 31373)"
            ],
            "text/plain": [
              "<IPython.core.display.Javascript object>"
            ]
          },
          "metadata": {}
        }
      ]
    },
    {
      "cell_type": "markdown",
      "source": [
        "XGB Hyperparameter tuning"
      ],
      "metadata": {
        "id": "pWmbPQQ3zUe7"
      }
    },
    {
      "cell_type": "markdown",
      "source": [
        "*, loss='deviance', learning_rate=0.1, n_estimators=100, subsample=1.0, criterion='friedman_mse', min_samples_split=2, min_samples_leaf=1, min_weight_fraction_leaf=0.0, max_depth=3, min_impurity_decrease=0.0, init=None, random_state=None, max_features=None, verbose=0, max_leaf_nodes=None, warm_start=False, validation_fraction=0.1, n_iter_no_change=None, tol=0.0001, ccp_alpha=0.0"
      ],
      "metadata": {
        "id": "3yVuJgGj2JDs"
      }
    },
    {
      "cell_type": "code",
      "source": [
        "estimator = XGBClassifier(learning_rate =0.1, n_estimators=3, max_depth=5,\n",
        " min_child_weight=1, gamma=0, subsample=0.8, colsample_bytree=0.8,\n",
        " objective= 'binary:logistic', nthread=4, scale_pos_weight=1, seed=27)\n",
        "\n",
        "\n",
        "parameter = {'min_samples_leaf':[1],'min_samples_split':[2]}\n",
        "clf = GridSearchCV(estimator,parameter)\n",
        "train = np.array(X_train)\n",
        "cv = np.array(X_cv)\n",
        "clf.fit(train,y_train)\n",
        "y_cv_pred = clf.predict(cv)\n",
        "#y_cv_pred_prob = pipe.predict_proba(cv)\n",
        "#https://medium.com/@dtuk81/confusion-matrix-visualization-fc31e3f30fea\n",
        "import seaborn as sns\n",
        "cf_matrix = confusion_matrix(y_cv, y_cv_pred)\n",
        "sns.heatmap(cf_matrix, annot=True)\n",
        "plt.title('Confusion Matrix : Random Forest')\n",
        "from sklearn.metrics import f1_score\n",
        "f1_DT_ = f1_score(y_cv, y_cv_pred, average='macro')\n",
        "print(f1_DT_)"
      ],
      "metadata": {
        "colab": {
          "base_uri": "https://localhost:8080/",
          "height": 298
        },
        "id": "3xcckWFhzXkX",
        "outputId": "046383fd-2e43-47d9-c007-f5854e6862f2"
      },
      "execution_count": null,
      "outputs": [
        {
          "output_type": "stream",
          "name": "stdout",
          "text": [
            "0.5986370875152772\n"
          ]
        },
        {
          "output_type": "display_data",
          "data": {
            "image/png": "[encoded data removed]",
            "text/plain": [
              "<Figure size 432x288 with 2 Axes>"
            ]
          },
          "metadata": {
            "needs_background": "light"
          }
        }
      ]
    },
    {
      "cell_type": "markdown",
      "source": [
        "n_estimators:27"
      ],
      "metadata": {
        "id": "oS0bmuFH3cpq"
      }
    },
    {
      "cell_type": "code",
      "source": [
        "clf.best_params_"
      ],
      "metadata": {
        "colab": {
          "base_uri": "https://localhost:8080/"
        },
        "id": "hlzSf5-V2wRZ",
        "outputId": "944d5955-c3b1-48d7-d4d9-50a46570d641"
      },
      "execution_count": null,
      "outputs": [
        {
          "output_type": "execute_result",
          "data": {
            "text/plain": [
              "{'min_samples_leaf': 1, 'min_samples_split': 2}"
            ]
          },
          "metadata": {},
          "execution_count": 279
        }
      ]
    },
    {
      "cell_type": "code",
      "source": [
        "y_test_pred = pipe.predict(test)\n",
        "output1 = pd.DataFrame(np.column_stack([test_id,y_test_pred]), columns = ('ID','Is_Churn'))\n",
        "output1.to_csv('ChurnSub17.csv',index = False)\n",
        "files.download('ChurnSub17.csv')"
      ],
      "metadata": {
        "colab": {
          "base_uri": "https://localhost:8080/",
          "height": 17
        },
        "id": "yre6MskEzq37",
        "outputId": "a810b3b4-e412-4f75-ec6c-2e5f6d340abd"
      },
      "execution_count": null,
      "outputs": [
        {
          "output_type": "display_data",
          "data": {
            "application/javascript": [
              "\n",
              "    async function download(id, filename, size) {\n",
              "      if (!google.colab.kernel.accessAllowed) {\n",
              "        return;\n",
              "      }\n",
              "      const div = document.createElement('div');\n",
              "      const label = document.createElement('label');\n",
              "      label.textContent = `Downloading \"${filename}\": `;\n",
              "      div.appendChild(label);\n",
              "      const progress = document.createElement('progress');\n",
              "      progress.max = size;\n",
              "      div.appendChild(progress);\n",
              "      document.body.appendChild(div);\n",
              "\n",
              "      const buffers = [];\n",
              "      let downloaded = 0;\n",
              "\n",
              "      const channel = await google.colab.kernel.comms.open(id);\n",
              "      // Send a message to notify the kernel that we're ready.\n",
              "      channel.send({})\n",
              "\n",
              "      for await (const message of channel.messages) {\n",
              "        // Send a message to notify the kernel that we're ready.\n",
              "        channel.send({})\n",
              "        if (message.buffers) {\n",
              "          for (const buffer of message.buffers) {\n",
              "            buffers.push(buffer);\n",
              "            downloaded += buffer.byteLength;\n",
              "            progress.value = downloaded;\n",
              "          }\n",
              "        }\n",
              "      }\n",
              "      const blob = new Blob(buffers, {type: 'application/binary'});\n",
              "      const a = document.createElement('a');\n",
              "      a.href = window.URL.createObjectURL(blob);\n",
              "      a.download = filename;\n",
              "      div.appendChild(a);\n",
              "      a.click();\n",
              "      div.remove();\n",
              "    }\n",
              "  "
            ],
            "text/plain": [
              "<IPython.core.display.Javascript object>"
            ]
          },
          "metadata": {}
        },
        {
          "output_type": "display_data",
          "data": {
            "application/javascript": [
              "download(\"download_1e3ebdf9-f489-452a-b1b2-580345636151\", \"ChurnSub17.csv\", 31373)"
            ],
            "text/plain": [
              "<IPython.core.display.Javascript object>"
            ]
          },
          "metadata": {}
        }
      ]
    },
    {
      "cell_type": "markdown",
      "source": [
        "We can observe that Decesion Tree performs better than remaining models even with upsampled data"
      ],
      "metadata": {
        "id": "AlZOI0EdVoCn"
      }
    },
    {
      "cell_type": "markdown",
      "source": [
        "####Summary : upsampled Data"
      ],
      "metadata": {
        "id": "X_P7zjQcWV9S"
      }
    },
    {
      "cell_type": "code",
      "source": [
        "from prettytable import PrettyTable\n",
        "\n",
        "x = PrettyTable()\n",
        "\n",
        "x.field_names = [\"Model\", \"ROC_test\"]\n",
        "x.add_row([\"Logistic Regression \",f1_LR_])\n",
        "x.add_row([\"Decision Tree       \",f1_DT_])\n",
        "#x.add_row([\"SVC                 \",f1_SVC])\n",
        "x.add_row([\"Random Forest       \",f1_RF_])\n",
        "x.add_row([\"XGBoost             \",f1_XGB_])\n",
        "print(x)"
      ],
      "metadata": {
        "colab": {
          "base_uri": "https://localhost:8080/"
        },
        "id": "UuCCUIZ5Vjmv",
        "outputId": "7d605e67-31af-43b2-a874-acbd204e445c"
      },
      "execution_count": null,
      "outputs": [
        {
          "output_type": "stream",
          "name": "stdout",
          "text": [
            "+----------------------+--------------------+\n",
            "|        Model         |      ROC_test      |\n",
            "+----------------------+--------------------+\n",
            "| Logistic Regression  | 0.6040204376548308 |\n",
            "| Decision Tree        | 0.8473501151126558 |\n",
            "| Random Forest        | 0.5964469994149824 |\n",
            "| XGBoost              | 0.6198269238265393 |\n",
            "+----------------------+--------------------+\n"
          ]
        }
      ]
    },
    {
      "cell_type": "markdown",
      "source": [
        "####Forward Feature Selection"
      ],
      "metadata": {
        "id": "fKBKmFuGlqYo"
      }
    },
    {
      "cell_type": "code",
      "source": [
        "columns = df_upsampled.columns\n",
        "for i in range(1,9):\n",
        "  train = np.array(X_train.iloc[:,i]).reshape(-1,1)\n",
        "  cv = np.array(X_cv.iloc[:,i]).reshape(-1,1)\n",
        "  clf = tree.DecisionTreeClassifier()\n",
        "  pipe = make_pipeline(StandardScaler(), clf)\n",
        "  pipe.fit(train, y_train)\n",
        "  y_cv_pred = pipe.predict(cv)\n",
        "  y_cv_pred_prob = pipe.predict_proba(cv)\n",
        "  from sklearn.metrics import f1_score\n",
        "  f1_DT_ = f1_score(y_cv, y_cv_pred, average='macro')\n",
        "  print(columns[i],f1_DT_)\n"
      ],
      "metadata": {
        "colab": {
          "base_uri": "https://localhost:8080/"
        },
        "id": "h8dmToLSYbKx",
        "outputId": "23f6430a-7635-4d1f-d17c-6e5fa3fb05fd"
      },
      "execution_count": null,
      "outputs": [
        {
          "output_type": "stream",
          "name": "stdout",
          "text": [
            "Gender 0.522784507008897\n",
            "Income 0.4714053786081942\n",
            "Balance 0.8394784709959239\n",
            "Vintage 0.4885650642078079\n",
            "Transaction_Status 0.5573433863715342\n",
            "Product_Holdings 0.5224736534692138\n",
            "Credit_Card 0.3307163886162905\n",
            "Credit_Category 0.4750696435059954\n"
          ]
        }
      ]
    },
    {
      "cell_type": "markdown",
      "source": [
        "We can see that Balance gives Good F1 score , next comes Transaction_Status"
      ],
      "metadata": {
        "id": "bpZqg8KKcY45"
      }
    },
    {
      "cell_type": "code",
      "source": [
        "columns = df_upsampled.columns\n",
        "l = [0,1,2,4,5,6,7,8]\n",
        "for i in range(len(l)):\n",
        "  train = np.array(X_train.loc[:,('Balance',columns[l[i]])])\n",
        "  cv = np.array(X_cv.loc[:,('Balance',columns[l[i]])])\n",
        "  clf = tree.DecisionTreeClassifier()\n",
        "  pipe = make_pipeline(StandardScaler(), clf)\n",
        "  pipe.fit(train,y_train)\n",
        "  y_cv_pred = pipe.predict(cv)\n",
        "  y_cv_pred_prob = pipe.predict_proba(cv)\n",
        "  from sklearn.metrics import f1_score\n",
        "  f1_DT_ = f1_score(y_cv, y_cv_pred, average='macro')\n",
        "  print(columns[l[i]],f1_DT_)\n"
      ],
      "metadata": {
        "colab": {
          "base_uri": "https://localhost:8080/"
        },
        "id": "BSl9F5njaOi-",
        "outputId": "2a62e6bd-99de-49cf-ebe4-36b4117c5837"
      },
      "execution_count": null,
      "outputs": [
        {
          "output_type": "stream",
          "name": "stdout",
          "text": [
            "Age 0.8417677771988219\n",
            "Gender 0.843461210682295\n",
            "Income 0.839789874413807\n",
            "Vintage 0.8487856011129575\n",
            "Transaction_Status 0.8403682609034876\n",
            "Product_Holdings 0.8265478443101589\n",
            "Credit_Card 0.8474420566536787\n",
            "Credit_Category 0.8437787537404025\n"
          ]
        }
      ]
    },
    {
      "cell_type": "markdown",
      "source": [
        "We can see that 'Balance' and 'Credit_Category' are giving better results, lets check the third feature"
      ],
      "metadata": {
        "id": "8w7GOJC3fx_v"
      }
    },
    {
      "cell_type": "code",
      "source": [
        "columns = df_upsampled.columns\n",
        "l = [0,1,2,5,6,7,8]\n",
        "for i in range(len(l)):\n",
        "  train = np.array(X_train.loc[:,('Balance','Vintage',columns[l[i]])])\n",
        "  cv = np.array(X_cv.loc[:,('Balance','Vintage',columns[l[i]])])\n",
        "  clf = tree.DecisionTreeClassifier()\n",
        "  pipe = make_pipeline(StandardScaler(), clf)\n",
        "  pipe.fit(train,y_train)\n",
        "  y_cv_pred = pipe.predict(cv)\n",
        "  y_cv_pred_prob = pipe.predict_proba(cv)\n",
        "  from sklearn.metrics import f1_score\n",
        "  f1_DT_ = f1_score(y_cv, y_cv_pred, average='macro')\n",
        "  print(l[i])\n",
        "  print(columns[l[i]],f1_DT_)\n"
      ],
      "metadata": {
        "colab": {
          "base_uri": "https://localhost:8080/"
        },
        "id": "O_0JtuqseBmy",
        "outputId": "d5b0c68f-0154-45fa-9001-2fb2432f17f4"
      },
      "execution_count": null,
      "outputs": [
        {
          "output_type": "stream",
          "name": "stdout",
          "text": [
            "0\n",
            "Age 0.8438760814571333\n",
            "1\n",
            "Gender 0.8426892072902412\n",
            "2\n",
            "Income 0.8421773859500601\n",
            "5\n",
            "Transaction_Status 0.8481142867920641\n",
            "6\n",
            "Product_Holdings 0.8438760814571333\n",
            "7\n",
            "Credit_Card 0.8337121311075699\n",
            "8\n",
            "Credit_Category 0.839789874413807\n"
          ]
        }
      ]
    },
    {
      "cell_type": "markdown",
      "source": [
        "We can see that Credit_Card is giving good result"
      ],
      "metadata": {
        "id": "oCVPTn7yhEjE"
      }
    },
    {
      "cell_type": "code",
      "source": [
        "columns = df_upsampled.columns\n",
        "l = [0,1,2,4,7,6]\n",
        "for i in range(len(l)):\n",
        "  train = np.array(X_train.loc[:,('Balance','Credit_Category','Transaction_Status',columns[l[i]])])\n",
        "  cv = np.array(X_cv.loc[:,('Balance','Credit_Category','Transaction_Status',columns[l[i]])])\n",
        "  clf = tree.DecisionTreeClassifier()\n",
        "  pipe = make_pipeline(StandardScaler(), clf)\n",
        "  pipe.fit(train,y_train)\n",
        "  y_cv_pred = pipe.predict(cv)\n",
        "  y_cv_pred_prob = pipe.predict_proba(cv)\n",
        "  from sklearn.metrics import f1_score\n",
        "  f1_DT_ = f1_score(y_cv, y_cv_pred, average='macro')\n",
        "  print(l[i])\n",
        "  print(columns[l[i]],f1_DT_)\n"
      ],
      "metadata": {
        "colab": {
          "base_uri": "https://localhost:8080/"
        },
        "id": "Dlc882xCgN-x",
        "outputId": "e039fc65-edc5-4e03-9cff-1aa06e415086"
      },
      "execution_count": null,
      "outputs": [
        {
          "output_type": "stream",
          "name": "stdout",
          "text": [
            "0\n",
            "Age 0.8466797781490765\n",
            "1\n",
            "Gender 0.8478285857240413\n",
            "2\n",
            "Income 0.8310665972226761\n",
            "4\n",
            "Vintage 0.8404975765176423\n",
            "7\n",
            "Credit_Card 0.8385893349259927\n",
            "6\n",
            "Product_Holdings 0.8390298848359834\n"
          ]
        }
      ]
    },
    {
      "cell_type": "code",
      "source": [
        "for i in range(9):\n",
        "  print(i,df_upsampled.columns[i])"
      ],
      "metadata": {
        "colab": {
          "base_uri": "https://localhost:8080/"
        },
        "id": "Vz7onglHhxj6",
        "outputId": "2b36a02e-3401-4334-e5c5-3a6a87c6bc64"
      },
      "execution_count": null,
      "outputs": [
        {
          "output_type": "stream",
          "name": "stdout",
          "text": [
            "0 Age\n",
            "1 Gender\n",
            "2 Income\n",
            "3 Balance\n",
            "4 Vintage\n",
            "5 Transaction_Status\n",
            "6 Product_Holdings\n",
            "7 Credit_Card\n",
            "8 Credit_Category\n"
          ]
        }
      ]
    },
    {
      "cell_type": "code",
      "source": [
        "columns = df_upsampled.columns\n",
        "l = [0,2,4,6,7]\n",
        "for i in range(len(l)):\n",
        "  train = np.array(X_train.loc[:,('Balance','Credit_Category','Transaction_Status','Gender',columns[l[i]])])\n",
        "  cv = np.array(X_cv.loc[:,('Balance','Credit_Category','Transaction_Status','Gender',columns[l[i]])])\n",
        "  clf = tree.DecisionTreeClassifier()\n",
        "  pipe = make_pipeline(StandardScaler(), clf)\n",
        "  pipe.fit(train,y_train)\n",
        "  y_cv_pred = pipe.predict(cv)\n",
        "  y_cv_pred_prob = pipe.predict_proba(cv)\n",
        "  from sklearn.metrics import f1_score\n",
        "  f1_DT_ = f1_score(y_cv, y_cv_pred, average='macro')\n",
        "  print(l[i])\n",
        "  print(columns[l[i]],f1_DT_)\n"
      ],
      "metadata": {
        "colab": {
          "base_uri": "https://localhost:8080/"
        },
        "id": "zBpLXlSwhN9T",
        "outputId": "6dfa31a6-468e-49a1-d14c-1200deb18303"
      },
      "execution_count": null,
      "outputs": [
        {
          "output_type": "stream",
          "name": "stdout",
          "text": [
            "0\n",
            "Age 0.8502835357968019\n",
            "2\n",
            "Income 0.8502835357968019\n",
            "4\n",
            "Vintage 0.8384039740747058\n",
            "6\n",
            "Product_Holdings 0.8310276471635349\n",
            "7\n",
            "Credit_Card 0.8451793799758098\n"
          ]
        }
      ]
    },
    {
      "cell_type": "code",
      "source": [
        "columns = df_upsampled.columns\n",
        "l = [0,4,6,7]\n",
        "for i in range(len(l)):\n",
        "  train = np.array(X_train.loc[:,('Balance','Credit_Category','Transaction_Status','Gender','Income',columns[l[i]])])\n",
        "  cv = np.array(X_cv.loc[:,('Balance','Credit_Category','Transaction_Status','Gender','Income',columns[l[i]])])\n",
        "  clf = tree.DecisionTreeClassifier()\n",
        "  pipe = make_pipeline(StandardScaler(), clf)\n",
        "  pipe.fit(train,y_train)\n",
        "  y_cv_pred = pipe.predict(cv)\n",
        "  y_cv_pred_prob = pipe.predict_proba(cv)\n",
        "  from sklearn.metrics import f1_score\n",
        "  f1_DT_ = f1_score(y_cv, y_cv_pred, average='macro')\n",
        "  print(l[i])\n",
        "  print(columns[l[i]],f1_DT_)\n"
      ],
      "metadata": {
        "colab": {
          "base_uri": "https://localhost:8080/"
        },
        "id": "aoS75YZLhely",
        "outputId": "dad8ef6a-3037-489a-da7b-2e7ccfff508c"
      },
      "execution_count": null,
      "outputs": [
        {
          "output_type": "stream",
          "name": "stdout",
          "text": [
            "0\n",
            "Age 0.8528874411871155\n",
            "4\n",
            "Vintage 0.8323763816172193\n",
            "6\n",
            "Product_Holdings 0.8322957326773395\n",
            "7\n",
            "Credit_Card 0.8562129007157404\n"
          ]
        }
      ]
    },
    {
      "cell_type": "code",
      "source": [
        "columns = df_upsampled.columns\n",
        "l = [0,4,6]\n",
        "for i in range(len(l)):\n",
        "  train = np.array(X_train.loc[:,('Balance','Credit_Category','Transaction_Status','Gender','Income','Credit_Card',columns[l[i]])])\n",
        "  cv = np.array(X_cv.loc[:,('Balance','Credit_Category','Transaction_Status','Gender','Income','Credit_Card',columns[l[i]])])\n",
        "  clf = tree.DecisionTreeClassifier()\n",
        "  pipe = make_pipeline(StandardScaler(), clf)\n",
        "  pipe.fit(train,y_train)\n",
        "  y_cv_pred = pipe.predict(cv)\n",
        "  y_cv_pred_prob = pipe.predict_proba(cv)\n",
        "  from sklearn.metrics import f1_score\n",
        "  f1_DT_ = f1_score(y_cv, y_cv_pred, average='macro')\n",
        "  print(l[i])\n",
        "  print(columns[l[i]],f1_DT_)\n"
      ],
      "metadata": {
        "colab": {
          "base_uri": "https://localhost:8080/"
        },
        "id": "sDN8NLz_jyDu",
        "outputId": "8b664a89-1477-4eb8-ae19-390c48a7af51"
      },
      "execution_count": null,
      "outputs": [
        {
          "output_type": "stream",
          "name": "stdout",
          "text": [
            "0\n",
            "Age 0.8514210330895241\n",
            "4\n",
            "Vintage 0.8397961555906307\n",
            "6\n",
            "Product_Holdings 0.8351049063767675\n"
          ]
        }
      ]
    },
    {
      "cell_type": "code",
      "source": [
        "columns = df_upsampled.columns\n",
        "l = [4,6]\n",
        "for i in range(len(l)):\n",
        "  train = np.array(X_train.loc[:,('Balance','Credit_Category','Transaction_Status','Gender','Income','Credit_Card','Age',columns[l[i]])])\n",
        "  cv = np.array(X_cv.loc[:,('Balance','Credit_Category','Transaction_Status','Gender','Income','Credit_Card','Age',columns[l[i]])])\n",
        "  clf = tree.DecisionTreeClassifier()\n",
        "  pipe = make_pipeline(StandardScaler(), clf)\n",
        "  pipe.fit(train,y_train)\n",
        "  y_cv_pred = pipe.predict(cv)\n",
        "  y_cv_pred_prob = pipe.predict_proba(cv)\n",
        "  from sklearn.metrics import f1_score\n",
        "  f1_DT_ = f1_score(y_cv, y_cv_pred, average='macro')\n",
        "  print(l[i])\n",
        "  print(columns[l[i]],f1_DT_)\n"
      ],
      "metadata": {
        "colab": {
          "base_uri": "https://localhost:8080/"
        },
        "id": "BZJrNCjpj8RJ",
        "outputId": "ca966bbd-2de4-484c-be5b-f9393391de6d"
      },
      "execution_count": null,
      "outputs": [
        {
          "output_type": "stream",
          "name": "stdout",
          "text": [
            "4\n",
            "Vintage 0.8459761129207383\n",
            "6\n",
            "Product_Holdings 0.8539317279111341\n"
          ]
        }
      ]
    },
    {
      "cell_type": "code",
      "source": [
        "columns = df_upsampled.columns\n",
        "l = [4]\n",
        "for i in range(len(l)):\n",
        "  train = np.array(X_train.loc[:,('Balance','Credit_Category','Transaction_Status','Gender','Income','Credit_Card','Age','Product_Holdings',columns[l[i]])])\n",
        "  cv = np.array(X_cv.loc[:,('Balance','Credit_Category','Transaction_Status','Gender','Income','Credit_Card','Age','Product_Holdings',columns[l[i]])])\n",
        "  clf = tree.DecisionTreeClassifier()\n",
        "  pipe = make_pipeline(StandardScaler(), clf)\n",
        "  pipe.fit(train,y_train)\n",
        "  y_cv_pred = pipe.predict(cv)\n",
        "  y_cv_pred_prob = pipe.predict_proba(cv)\n",
        "  from sklearn.metrics import f1_score\n",
        "  f1_DT_ = f1_score(y_cv, y_cv_pred, average='macro')\n",
        "  print(l[i])\n",
        "  print(columns[l[i]],f1_DT_)\n"
      ],
      "metadata": {
        "colab": {
          "base_uri": "https://localhost:8080/"
        },
        "id": "WWPlymsykIOB",
        "outputId": "e0854c5e-60f9-45e0-991a-1a6c2b358473"
      },
      "execution_count": null,
      "outputs": [
        {
          "output_type": "stream",
          "name": "stdout",
          "text": [
            "4\n",
            "Vintage 0.8484888613906165\n"
          ]
        }
      ]
    },
    {
      "cell_type": "markdown",
      "source": [
        "By Forward Feature Selection , we got to know that Vintage Feature is reducing the score , there for removing it"
      ],
      "metadata": {
        "id": "my1xtxFZNxW3"
      }
    },
    {
      "cell_type": "markdown",
      "source": [
        "DT with feature selected Model"
      ],
      "metadata": {
        "id": "t9A6xkjHmOfZ"
      }
    },
    {
      "cell_type": "code",
      "source": [
        "train = np.array(X_train.loc[:,('Balance','Credit_Category','Transaction_Status','Gender','Income','Credit_Card','Age','Product_Holdings')])\n",
        "cv = np.array(X_cv.loc[:,('Balance','Credit_Category','Transaction_Status','Gender','Income','Credit_Card','Age','Product_Holdings')])\n",
        "clf = tree.DecisionTreeClassifier()\n",
        "pipe = make_pipeline(StandardScaler(), clf)\n",
        "pipe.fit(train,y_train)\n",
        "y_cv_pred = pipe.predict(cv)\n",
        "y_cv_pred_prob = pipe.predict_proba(cv)\n",
        "#https://medium.com/@dtuk81/confusion-matrix-visualization-fc31e3f30fea\n",
        "import seaborn as sns\n",
        "cf_matrix = confusion_matrix(y_cv, y_cv_pred)\n",
        "sns.heatmap(cf_matrix, annot=True)\n",
        "plt.title('Confusion Matrix : Random Forest')\n",
        "from sklearn.metrics import f1_score\n",
        "f1_DT_ = f1_score(y_cv, y_cv_pred, average='macro')\n",
        "print(f1_DT_)"
      ],
      "metadata": {
        "colab": {
          "base_uri": "https://localhost:8080/",
          "height": 298
        },
        "id": "a80sOTLFk3er",
        "outputId": "e45a20c7-a00b-4524-8e04-2b67f62c66ba"
      },
      "execution_count": null,
      "outputs": [
        {
          "output_type": "stream",
          "name": "stdout",
          "text": [
            "0.8559332824038707\n"
          ]
        },
        {
          "output_type": "display_data",
          "data": {
            "image/png": "[encoded data removed]",
            "text/plain": [
              "<Figure size 432x288 with 2 Axes>"
            ]
          },
          "metadata": {
            "needs_background": "light"
          }
        }
      ]
    },
    {
      "cell_type": "code",
      "source": [
        "y_test_pred = pipe.predict(test.loc[:,('Balance','Credit_Category','Transaction_Status','Gender','Income','Credit_Card','Age','Product_Holdings')])\n",
        "output1 = pd.DataFrame(np.column_stack([test_id,y_test_pred]), columns = ('ID','Is_Churn'))\n",
        "output1.to_csv('ChurnSub5.csv',index = False)\n",
        "files.download('ChurnSub5.csv')"
      ],
      "metadata": {
        "colab": {
          "base_uri": "https://localhost:8080/",
          "height": 72
        },
        "id": "93T5C5UalNK0",
        "outputId": "e258d091-0782-48bc-a708-90f052c1ca80"
      },
      "execution_count": null,
      "outputs": [
        {
          "output_type": "stream",
          "name": "stderr",
          "text": [
            "/usr/local/lib/python3.7/dist-packages/sklearn/base.py:444: UserWarning: X has feature names, but StandardScaler was fitted without feature names\n",
            "  f\"X has feature names, but {self.__class__.__name__} was fitted without\"\n"
          ]
        },
        {
          "output_type": "display_data",
          "data": {
            "application/javascript": [
              "\n",
              "    async function download(id, filename, size) {\n",
              "      if (!google.colab.kernel.accessAllowed) {\n",
              "        return;\n",
              "      }\n",
              "      const div = document.createElement('div');\n",
              "      const label = document.createElement('label');\n",
              "      label.textContent = `Downloading \"${filename}\": `;\n",
              "      div.appendChild(label);\n",
              "      const progress = document.createElement('progress');\n",
              "      progress.max = size;\n",
              "      div.appendChild(progress);\n",
              "      document.body.appendChild(div);\n",
              "\n",
              "      const buffers = [];\n",
              "      let downloaded = 0;\n",
              "\n",
              "      const channel = await google.colab.kernel.comms.open(id);\n",
              "      // Send a message to notify the kernel that we're ready.\n",
              "      channel.send({})\n",
              "\n",
              "      for await (const message of channel.messages) {\n",
              "        // Send a message to notify the kernel that we're ready.\n",
              "        channel.send({})\n",
              "        if (message.buffers) {\n",
              "          for (const buffer of message.buffers) {\n",
              "            buffers.push(buffer);\n",
              "            downloaded += buffer.byteLength;\n",
              "            progress.value = downloaded;\n",
              "          }\n",
              "        }\n",
              "      }\n",
              "      const blob = new Blob(buffers, {type: 'application/binary'});\n",
              "      const a = document.createElement('a');\n",
              "      a.href = window.URL.createObjectURL(blob);\n",
              "      a.download = filename;\n",
              "      div.appendChild(a);\n",
              "      a.click();\n",
              "      div.remove();\n",
              "    }\n",
              "  "
            ],
            "text/plain": [
              "<IPython.core.display.Javascript object>"
            ]
          },
          "metadata": {}
        },
        {
          "output_type": "display_data",
          "data": {
            "application/javascript": [
              "download(\"download_c19caf26-46a4-4ae7-9afe-2ff15db01a54\", \"ChurnSub5.csv\", 31373)"
            ],
            "text/plain": [
              "<IPython.core.display.Javascript object>"
            ]
          },
          "metadata": {}
        }
      ]
    },
    {
      "cell_type": "markdown",
      "source": [
        "KNN with FFS"
      ],
      "metadata": {
        "id": "-R4rVvqwPhcI"
      }
    },
    {
      "cell_type": "code",
      "source": [
        "from sklearn.neighbors import KNeighborsClassifier\n",
        "train = np.array(X_train.loc[:,('Balance','Credit_Category','Transaction_Status','Gender','Income','Credit_Card','Age','Product_Holdings')])\n",
        "cv = np.array(X_cv.loc[:,('Balance','Credit_Category','Transaction_Status','Gender','Income','Credit_Card','Age','Product_Holdings')])\n",
        "clf = KNeighborsClassifier(n_neighbors=5,leaf_size = 48,p=2)\n",
        "pipe = make_pipeline(StandardScaler(), clf)\n",
        "pipe.fit(train,y_train)\n",
        "y_cv_pred = pipe.predict(cv)\n",
        "y_cv_pred_prob = pipe.predict_proba(cv)\n",
        "#https://medium.com/@dtuk81/confusion-matrix-visualization-fc31e3f30fea\n",
        "import seaborn as sns\n",
        "cf_matrix = confusion_matrix(y_cv, y_cv_pred)\n",
        "sns.heatmap(cf_matrix, annot=True)\n",
        "plt.title('Confusion Matrix : Random Forest')\n",
        "from sklearn.metrics import f1_score\n",
        "f1_DT_ = f1_score(y_cv, y_cv_pred, average='macro')\n",
        "print(f1_DT_)"
      ],
      "metadata": {
        "id": "unLx5lucm1Lp",
        "colab": {
          "base_uri": "https://localhost:8080/",
          "height": 298
        },
        "outputId": "7fdb3823-de2c-4c83-cf92-cc97cf2f3aca"
      },
      "execution_count": null,
      "outputs": [
        {
          "output_type": "stream",
          "name": "stdout",
          "text": [
            "0.7080977734110492\n"
          ]
        },
        {
          "output_type": "display_data",
          "data": {
            "image/png": "[encoded data removed]",
            "text/plain": [
              "<Figure size 432x288 with 2 Axes>"
            ]
          },
          "metadata": {
            "needs_background": "light"
          }
        }
      ]
    },
    {
      "cell_type": "code",
      "source": [
        "y_test_pred = pipe.predict(test.loc[:,('Balance','Credit_Category','Transaction_Status','Gender','Income','Credit_Card','Age','Product_Holdings')])\n",
        "output1 = pd.DataFrame(np.column_stack([test_id,y_test_pred]), columns = ('ID','Is_Churn'))\n",
        "output1.to_csv('ChurnSub6.csv',index = False)\n",
        "files.download('ChurnSub6.csv')"
      ],
      "metadata": {
        "colab": {
          "base_uri": "https://localhost:8080/",
          "height": 72
        },
        "id": "-rgdZD-bO8V9",
        "outputId": "2d2b8ada-0455-408b-ec5d-6fb0a78d114e"
      },
      "execution_count": null,
      "outputs": [
        {
          "output_type": "stream",
          "name": "stderr",
          "text": [
            "/usr/local/lib/python3.7/dist-packages/sklearn/base.py:444: UserWarning: X has feature names, but StandardScaler was fitted without feature names\n",
            "  f\"X has feature names, but {self.__class__.__name__} was fitted without\"\n"
          ]
        },
        {
          "output_type": "display_data",
          "data": {
            "application/javascript": [
              "\n",
              "    async function download(id, filename, size) {\n",
              "      if (!google.colab.kernel.accessAllowed) {\n",
              "        return;\n",
              "      }\n",
              "      const div = document.createElement('div');\n",
              "      const label = document.createElement('label');\n",
              "      label.textContent = `Downloading \"${filename}\": `;\n",
              "      div.appendChild(label);\n",
              "      const progress = document.createElement('progress');\n",
              "      progress.max = size;\n",
              "      div.appendChild(progress);\n",
              "      document.body.appendChild(div);\n",
              "\n",
              "      const buffers = [];\n",
              "      let downloaded = 0;\n",
              "\n",
              "      const channel = await google.colab.kernel.comms.open(id);\n",
              "      // Send a message to notify the kernel that we're ready.\n",
              "      channel.send({})\n",
              "\n",
              "      for await (const message of channel.messages) {\n",
              "        // Send a message to notify the kernel that we're ready.\n",
              "        channel.send({})\n",
              "        if (message.buffers) {\n",
              "          for (const buffer of message.buffers) {\n",
              "            buffers.push(buffer);\n",
              "            downloaded += buffer.byteLength;\n",
              "            progress.value = downloaded;\n",
              "          }\n",
              "        }\n",
              "      }\n",
              "      const blob = new Blob(buffers, {type: 'application/binary'});\n",
              "      const a = document.createElement('a');\n",
              "      a.href = window.URL.createObjectURL(blob);\n",
              "      a.download = filename;\n",
              "      div.appendChild(a);\n",
              "      a.click();\n",
              "      div.remove();\n",
              "    }\n",
              "  "
            ],
            "text/plain": [
              "<IPython.core.display.Javascript object>"
            ]
          },
          "metadata": {}
        },
        {
          "output_type": "display_data",
          "data": {
            "application/javascript": [
              "download(\"download_48394974-9ed9-4d57-821c-635208ea94d6\", \"ChurnSub6.csv\", 31373)"
            ],
            "text/plain": [
              "<IPython.core.display.Javascript object>"
            ]
          },
          "metadata": {}
        }
      ]
    },
    {
      "cell_type": "markdown",
      "source": [
        ""
      ],
      "metadata": {
        "id": "Fw8jW81EPgBP"
      }
    },
    {
      "cell_type": "markdown",
      "source": [
        "XGBoost with FFS"
      ],
      "metadata": {
        "id": "WKbInODSQEGS"
      }
    },
    {
      "cell_type": "code",
      "source": [
        "from sklearn.neighbors import KNeighborsClassifier\n",
        "train = np.array(X_train.loc[:,('Balance','Credit_Category','Transaction_Status','Gender','Income','Credit_Card','Age','Product_Holdings')])\n",
        "cv = np.array(X_cv.loc[:,('Balance','Credit_Category','Transaction_Status','Gender','Income','Credit_Card','Age','Product_Holdings')])\n",
        "clf = XGBClassifier()\n",
        "pipe = make_pipeline(StandardScaler(), clf)\n",
        "pipe.fit(train,y_train)\n",
        "y_cv_pred = pipe.predict(cv)\n",
        "y_cv_pred_prob = pipe.predict_proba(cv)\n",
        "#https://medium.com/@dtuk81/confusion-matrix-visualization-fc31e3f30fea\n",
        "import seaborn as sns\n",
        "cf_matrix = confusion_matrix(y_cv, y_cv_pred)\n",
        "sns.heatmap(cf_matrix, annot=True)\n",
        "plt.title('Confusion Matrix : Random Forest')\n",
        "from sklearn.metrics import f1_score\n",
        "f1_DT_ = f1_score(y_cv, y_cv_pred, average='macro')\n",
        "print(f1_DT_)"
      ],
      "metadata": {
        "colab": {
          "base_uri": "https://localhost:8080/",
          "height": 298
        },
        "id": "ZJeDSghjPE4U",
        "outputId": "8fdac369-404d-41d5-f8c0-cdbaeb053b79"
      },
      "execution_count": null,
      "outputs": [
        {
          "output_type": "stream",
          "name": "stdout",
          "text": [
            "0.6280028478250885\n"
          ]
        },
        {
          "output_type": "display_data",
          "data": {
            "image/png": "[encoded data removed]",
            "text/plain": [
              "<Figure size 432x288 with 2 Axes>"
            ]
          },
          "metadata": {
            "needs_background": "light"
          }
        }
      ]
    },
    {
      "cell_type": "code",
      "source": [
        "y_test_pred = pipe.predict(test.loc[:,('Balance','Credit_Category','Transaction_Status','Gender','Income','Credit_Card','Age','Product_Holdings')])\n",
        "output1 = pd.DataFrame(np.column_stack([test_id,y_test_pred]), columns = ('ID','Is_Churn'))\n",
        "output1.to_csv('ChurnSub7.csv',index = False)\n",
        "files.download('ChurnSub7.csv')"
      ],
      "metadata": {
        "colab": {
          "base_uri": "https://localhost:8080/",
          "height": 72
        },
        "id": "4yBDIMdTQQY8",
        "outputId": "96bc0ae6-cb32-4bb5-c80d-aeb648cbf161"
      },
      "execution_count": null,
      "outputs": [
        {
          "output_type": "stream",
          "name": "stderr",
          "text": [
            "/usr/local/lib/python3.7/dist-packages/sklearn/base.py:444: UserWarning: X has feature names, but StandardScaler was fitted without feature names\n",
            "  f\"X has feature names, but {self.__class__.__name__} was fitted without\"\n"
          ]
        },
        {
          "output_type": "display_data",
          "data": {
            "application/javascript": [
              "\n",
              "    async function download(id, filename, size) {\n",
              "      if (!google.colab.kernel.accessAllowed) {\n",
              "        return;\n",
              "      }\n",
              "      const div = document.createElement('div');\n",
              "      const label = document.createElement('label');\n",
              "      label.textContent = `Downloading \"${filename}\": `;\n",
              "      div.appendChild(label);\n",
              "      const progress = document.createElement('progress');\n",
              "      progress.max = size;\n",
              "      div.appendChild(progress);\n",
              "      document.body.appendChild(div);\n",
              "\n",
              "      const buffers = [];\n",
              "      let downloaded = 0;\n",
              "\n",
              "      const channel = await google.colab.kernel.comms.open(id);\n",
              "      // Send a message to notify the kernel that we're ready.\n",
              "      channel.send({})\n",
              "\n",
              "      for await (const message of channel.messages) {\n",
              "        // Send a message to notify the kernel that we're ready.\n",
              "        channel.send({})\n",
              "        if (message.buffers) {\n",
              "          for (const buffer of message.buffers) {\n",
              "            buffers.push(buffer);\n",
              "            downloaded += buffer.byteLength;\n",
              "            progress.value = downloaded;\n",
              "          }\n",
              "        }\n",
              "      }\n",
              "      const blob = new Blob(buffers, {type: 'application/binary'});\n",
              "      const a = document.createElement('a');\n",
              "      a.href = window.URL.createObjectURL(blob);\n",
              "      a.download = filename;\n",
              "      div.appendChild(a);\n",
              "      a.click();\n",
              "      div.remove();\n",
              "    }\n",
              "  "
            ],
            "text/plain": [
              "<IPython.core.display.Javascript object>"
            ]
          },
          "metadata": {}
        },
        {
          "output_type": "display_data",
          "data": {
            "application/javascript": [
              "download(\"download_cb5d58b4-6828-464b-9de0-b17249caf10d\", \"ChurnSub7.csv\", 31373)"
            ],
            "text/plain": [
              "<IPython.core.display.Javascript object>"
            ]
          },
          "metadata": {}
        }
      ]
    },
    {
      "cell_type": "markdown",
      "source": [
        "LR with FFS"
      ],
      "metadata": {
        "id": "TnYGrXb7QgPn"
      }
    },
    {
      "cell_type": "code",
      "source": [
        "from sklearn.neighbors import KNeighborsClassifier\n",
        "train = np.array(X_train.loc[:,('Balance','Credit_Category','Transaction_Status','Gender','Income','Credit_Card','Age','Product_Holdings')])\n",
        "cv = np.array(X_cv.loc[:,('Balance','Credit_Category','Transaction_Status','Gender','Income','Credit_Card','Age','Product_Holdings')])\n",
        "clf = LogisticRegression()\n",
        "pipe = make_pipeline(StandardScaler(), clf)\n",
        "pipe.fit(train,y_train)\n",
        "y_cv_pred = pipe.predict(cv)\n",
        "y_cv_pred_prob = pipe.predict_proba(cv)\n",
        "#https://medium.com/@dtuk81/confusion-matrix-visualization-fc31e3f30fea\n",
        "import seaborn as sns\n",
        "cf_matrix = confusion_matrix(y_cv, y_cv_pred)\n",
        "sns.heatmap(cf_matrix, annot=True)\n",
        "plt.title('Confusion Matrix : Random Forest')\n",
        "from sklearn.metrics import f1_score\n",
        "f1_DT_ = f1_score(y_cv, y_cv_pred, average='macro')\n",
        "print(f1_DT_)"
      ],
      "metadata": {
        "colab": {
          "base_uri": "https://localhost:8080/",
          "height": 298
        },
        "id": "Y_nWV61jQiGZ",
        "outputId": "b0640cb4-041e-4bce-8647-02d545e8c0db"
      },
      "execution_count": null,
      "outputs": [
        {
          "output_type": "stream",
          "name": "stdout",
          "text": [
            "0.6045148765612773\n"
          ]
        },
        {
          "output_type": "display_data",
          "data": {
            "image/png": "[encoded data removed]",
            "text/plain": [
              "<Figure size 432x288 with 2 Axes>"
            ]
          },
          "metadata": {
            "needs_background": "light"
          }
        }
      ]
    },
    {
      "cell_type": "code",
      "source": [
        "y_test_pred = pipe.predict(test.loc[:,('Balance','Credit_Category','Transaction_Status','Gender','Income','Credit_Card','Age','Product_Holdings')])\n",
        "output1 = pd.DataFrame(np.column_stack([test_id,y_test_pred]), columns = ('ID','Is_Churn'))\n",
        "output1.to_csv('ChurnSub8.csv',index = False)\n",
        "files.download('ChurnSub8.csv')"
      ],
      "metadata": {
        "colab": {
          "base_uri": "https://localhost:8080/",
          "height": 72
        },
        "id": "5QhPwbgbQt86",
        "outputId": "f94e1b7a-bba0-46ff-8c78-530c9e29a478"
      },
      "execution_count": null,
      "outputs": [
        {
          "output_type": "stream",
          "name": "stderr",
          "text": [
            "/usr/local/lib/python3.7/dist-packages/sklearn/base.py:444: UserWarning: X has feature names, but StandardScaler was fitted without feature names\n",
            "  f\"X has feature names, but {self.__class__.__name__} was fitted without\"\n"
          ]
        },
        {
          "output_type": "display_data",
          "data": {
            "application/javascript": [
              "\n",
              "    async function download(id, filename, size) {\n",
              "      if (!google.colab.kernel.accessAllowed) {\n",
              "        return;\n",
              "      }\n",
              "      const div = document.createElement('div');\n",
              "      const label = document.createElement('label');\n",
              "      label.textContent = `Downloading \"${filename}\": `;\n",
              "      div.appendChild(label);\n",
              "      const progress = document.createElement('progress');\n",
              "      progress.max = size;\n",
              "      div.appendChild(progress);\n",
              "      document.body.appendChild(div);\n",
              "\n",
              "      const buffers = [];\n",
              "      let downloaded = 0;\n",
              "\n",
              "      const channel = await google.colab.kernel.comms.open(id);\n",
              "      // Send a message to notify the kernel that we're ready.\n",
              "      channel.send({})\n",
              "\n",
              "      for await (const message of channel.messages) {\n",
              "        // Send a message to notify the kernel that we're ready.\n",
              "        channel.send({})\n",
              "        if (message.buffers) {\n",
              "          for (const buffer of message.buffers) {\n",
              "            buffers.push(buffer);\n",
              "            downloaded += buffer.byteLength;\n",
              "            progress.value = downloaded;\n",
              "          }\n",
              "        }\n",
              "      }\n",
              "      const blob = new Blob(buffers, {type: 'application/binary'});\n",
              "      const a = document.createElement('a');\n",
              "      a.href = window.URL.createObjectURL(blob);\n",
              "      a.download = filename;\n",
              "      div.appendChild(a);\n",
              "      a.click();\n",
              "      div.remove();\n",
              "    }\n",
              "  "
            ],
            "text/plain": [
              "<IPython.core.display.Javascript object>"
            ]
          },
          "metadata": {}
        },
        {
          "output_type": "display_data",
          "data": {
            "application/javascript": [
              "download(\"download_c1f2b65f-1d3d-4005-bcf1-3d59f78c3fc7\", \"ChurnSub8.csv\", 31373)"
            ],
            "text/plain": [
              "<IPython.core.display.Javascript object>"
            ]
          },
          "metadata": {}
        }
      ]
    },
    {
      "cell_type": "markdown",
      "source": [
        "SVC with FFS"
      ],
      "metadata": {
        "id": "mbraNlg2RHL4"
      }
    },
    {
      "cell_type": "code",
      "source": [
        "from sklearn.neighbors import KNeighborsClassifier\n",
        "train = np.array(X_train.loc[:,('Balance','Credit_Category','Transaction_Status','Gender','Income','Credit_Card','Age','Product_Holdings')])\n",
        "cv = np.array(X_cv.loc[:,('Balance','Credit_Category','Transaction_Status','Gender','Income','Credit_Card','Age','Product_Holdings')])\n",
        "clf = SVC()\n",
        "pipe = make_pipeline(StandardScaler(), clf)\n",
        "pipe.fit(train,y_train)\n",
        "y_cv_pred = pipe.predict(cv)\n",
        "#y_cv_pred_prob = pipe.predict_proba(cv)\n",
        "#https://medium.com/@dtuk81/confusion-matrix-visualization-fc31e3f30fea\n",
        "import seaborn as sns\n",
        "cf_matrix = confusion_matrix(y_cv, y_cv_pred)\n",
        "sns.heatmap(cf_matrix, annot=True)\n",
        "plt.title('Confusion Matrix : Random Forest')\n",
        "from sklearn.metrics import f1_score\n",
        "f1_DT_ = f1_score(y_cv, y_cv_pred, average='macro')\n",
        "print(f1_DT_)"
      ],
      "metadata": {
        "colab": {
          "base_uri": "https://localhost:8080/",
          "height": 298
        },
        "id": "el5dsRx7RIuk",
        "outputId": "58731f23-d579-4719-bba0-c0d2282371c6"
      },
      "execution_count": null,
      "outputs": [
        {
          "output_type": "stream",
          "name": "stdout",
          "text": [
            "0.6246033418924616\n"
          ]
        },
        {
          "output_type": "display_data",
          "data": {
            "image/png": "[encoded data removed]",
            "text/plain": [
              "<Figure size 432x288 with 2 Axes>"
            ]
          },
          "metadata": {
            "needs_background": "light"
          }
        }
      ]
    },
    {
      "cell_type": "code",
      "source": [
        "y_test_pred = pipe.predict(test.loc[:,('Balance','Credit_Category','Transaction_Status','Gender','Income','Credit_Card','Age','Product_Holdings')])\n",
        "output1 = pd.DataFrame(np.column_stack([test_id,y_test_pred]), columns = ('ID','Is_Churn'))\n",
        "output1.to_csv('ChurnSub_svcffs.csv',index = False)\n",
        "files.download('ChurnSub_svcffs.csv')"
      ],
      "metadata": {
        "colab": {
          "base_uri": "https://localhost:8080/",
          "height": 72
        },
        "id": "At9Pp_7eRYEm",
        "outputId": "ab13f1eb-b616-4778-efe7-87ef09d34864"
      },
      "execution_count": null,
      "outputs": [
        {
          "output_type": "stream",
          "name": "stderr",
          "text": [
            "/usr/local/lib/python3.7/dist-packages/sklearn/base.py:444: UserWarning: X has feature names, but StandardScaler was fitted without feature names\n",
            "  f\"X has feature names, but {self.__class__.__name__} was fitted without\"\n"
          ]
        },
        {
          "output_type": "display_data",
          "data": {
            "application/javascript": [
              "\n",
              "    async function download(id, filename, size) {\n",
              "      if (!google.colab.kernel.accessAllowed) {\n",
              "        return;\n",
              "      }\n",
              "      const div = document.createElement('div');\n",
              "      const label = document.createElement('label');\n",
              "      label.textContent = `Downloading \"${filename}\": `;\n",
              "      div.appendChild(label);\n",
              "      const progress = document.createElement('progress');\n",
              "      progress.max = size;\n",
              "      div.appendChild(progress);\n",
              "      document.body.appendChild(div);\n",
              "\n",
              "      const buffers = [];\n",
              "      let downloaded = 0;\n",
              "\n",
              "      const channel = await google.colab.kernel.comms.open(id);\n",
              "      // Send a message to notify the kernel that we're ready.\n",
              "      channel.send({})\n",
              "\n",
              "      for await (const message of channel.messages) {\n",
              "        // Send a message to notify the kernel that we're ready.\n",
              "        channel.send({})\n",
              "        if (message.buffers) {\n",
              "          for (const buffer of message.buffers) {\n",
              "            buffers.push(buffer);\n",
              "            downloaded += buffer.byteLength;\n",
              "            progress.value = downloaded;\n",
              "          }\n",
              "        }\n",
              "      }\n",
              "      const blob = new Blob(buffers, {type: 'application/binary'});\n",
              "      const a = document.createElement('a');\n",
              "      a.href = window.URL.createObjectURL(blob);\n",
              "      a.download = filename;\n",
              "      div.appendChild(a);\n",
              "      a.click();\n",
              "      div.remove();\n",
              "    }\n",
              "  "
            ],
            "text/plain": [
              "<IPython.core.display.Javascript object>"
            ]
          },
          "metadata": {}
        },
        {
          "output_type": "display_data",
          "data": {
            "application/javascript": [
              "download(\"download_f1bae157-778b-4921-b5cc-470e48abafd3\", \"ChurnSub_svcffs.csv\", 31373)"
            ],
            "text/plain": [
              "<IPython.core.display.Javascript object>"
            ]
          },
          "metadata": {}
        }
      ]
    },
    {
      "cell_type": "markdown",
      "source": [
        "We got test score of 0.58 for Logistic Regression , there for proceeding with LR , Decision Tree is overfitting in nature"
      ],
      "metadata": {
        "id": "yycKfw1ITMyl"
      }
    },
    {
      "cell_type": "markdown",
      "source": [
        "SVC hyperparameter tuning"
      ],
      "metadata": {
        "id": "b916BM-3xFyU"
      }
    },
    {
      "cell_type": "code",
      "source": [
        "estimator = LogisticRegression()\n",
        "parameter = {'C':[6,7,8,9,10],'max_iter':[1000]}\n",
        "clf = GridSearchCV(estimator,parameter)\n",
        "train = np.array(X_train.loc[:,('Balance','Credit_Category','Transaction_Status','Gender','Income','Credit_Card','Age','Product_Holdings')])\n",
        "cv = np.array(X_cv.loc[:,('Balance','Credit_Category','Transaction_Status','Gender','Income','Credit_Card','Age','Product_Holdings')])\n",
        "clf.fit(train,y_train)\n",
        "y_cv_pred = clf.predict(cv)\n",
        "#y_cv_pred_prob = pipe.predict_proba(cv)\n",
        "#https://medium.com/@dtuk81/confusion-matrix-visualization-fc31e3f30fea\n",
        "import seaborn as sns\n",
        "cf_matrix = confusion_matrix(y_cv, y_cv_pred)\n",
        "sns.heatmap(cf_matrix, annot=True)\n",
        "plt.title('Confusion Matrix : Random Forest')\n",
        "from sklearn.metrics import f1_score\n",
        "f1_DT_ = f1_score(y_cv, y_cv_pred, average='macro')\n",
        "print(f1_DT_)"
      ],
      "metadata": {
        "id": "_96LX8XJxJDe"
      },
      "execution_count": null,
      "outputs": []
    },
    {
      "cell_type": "markdown",
      "source": [
        "###Logistic Regression Hyperparameter Tuning"
      ],
      "metadata": {
        "id": "5RuZEJsmTX9-"
      }
    },
    {
      "cell_type": "code",
      "source": [
        "estimator = LogisticRegression()\n",
        "parameter = {'C':[6,7,8,9,10],'max_iter':[1000]}\n",
        "clf = GridSearchCV(estimator,parameter)\n",
        "train = np.array(X_train.loc[:,('Balance','Credit_Category','Transaction_Status','Gender','Income','Credit_Card','Age','Product_Holdings')])\n",
        "cv = np.array(X_cv.loc[:,('Balance','Credit_Category','Transaction_Status','Gender','Income','Credit_Card','Age','Product_Holdings')])\n",
        "clf.fit(train,y_train)\n",
        "y_cv_pred = clf.predict(cv)\n",
        "#y_cv_pred_prob = pipe.predict_proba(cv)\n",
        "#https://medium.com/@dtuk81/confusion-matrix-visualization-fc31e3f30fea\n",
        "import seaborn as sns\n",
        "cf_matrix = confusion_matrix(y_cv, y_cv_pred)\n",
        "sns.heatmap(cf_matrix, annot=True)\n",
        "plt.title('Confusion Matrix : Random Forest')\n",
        "from sklearn.metrics import f1_score\n",
        "f1_DT_ = f1_score(y_cv, y_cv_pred, average='macro')\n",
        "print(f1_DT_)"
      ],
      "metadata": {
        "colab": {
          "base_uri": "https://localhost:8080/",
          "height": 298
        },
        "id": "QWFjZmEfRUvv",
        "outputId": "abafe734-25b7-406d-e492-9f51e942cc15"
      },
      "execution_count": null,
      "outputs": [
        {
          "output_type": "stream",
          "name": "stdout",
          "text": [
            "0.6049981649692633\n"
          ]
        },
        {
          "output_type": "display_data",
          "data": {
            "image/png": "[encoded data removed]",
            "text/plain": [
              "<Figure size 432x288 with 2 Axes>"
            ]
          },
          "metadata": {
            "needs_background": "light"
          }
        }
      ]
    },
    {
      "cell_type": "code",
      "source": [
        "clf.best_params_"
      ],
      "metadata": {
        "colab": {
          "base_uri": "https://localhost:8080/"
        },
        "id": "KtOVGHI6VW0_",
        "outputId": "6397f821-3b55-493e-ba71-082f63830b87"
      },
      "execution_count": null,
      "outputs": [
        {
          "output_type": "execute_result",
          "data": {
            "text/plain": [
              "{'C': 7, 'max_iter': 1000}"
            ]
          },
          "metadata": {},
          "execution_count": 230
        }
      ]
    },
    {
      "cell_type": "code",
      "source": [
        "from sklearn.neighbors import KNeighborsClassifier\n",
        "train = np.array(X_train.loc[:,('Balance','Credit_Category','Transaction_Status','Gender','Income','Credit_Card','Age','Product_Holdings')])\n",
        "cv = np.array(X_cv.loc[:,('Balance','Credit_Category','Transaction_Status','Gender','Income','Credit_Card','Age','Product_Holdings')])\n",
        "clf = LogisticRegression(C = 7,max_iter = 1000)\n",
        "pipe = make_pipeline(StandardScaler(), clf)\n",
        "pipe.fit(train,y_train)\n",
        "y_cv_pred = pipe.predict(cv)\n",
        "y_cv_pred_prob = pipe.predict_proba(cv)\n",
        "#https://medium.com/@dtuk81/confusion-matrix-visualization-fc31e3f30fea\n",
        "import seaborn as sns\n",
        "cf_matrix = confusion_matrix(y_cv, y_cv_pred)\n",
        "sns.heatmap(cf_matrix, annot=True)\n",
        "plt.title('Confusion Matrix : Random Forest')\n",
        "from sklearn.metrics import f1_score\n",
        "f1_DT_ = f1_score(y_cv, y_cv_pred, average='macro')\n",
        "print(f1_DT_)"
      ],
      "metadata": {
        "colab": {
          "base_uri": "https://localhost:8080/",
          "height": 298
        },
        "id": "WjxIPK_5VjoY",
        "outputId": "91e619dd-12d5-4490-cfe3-d0b0af8ab466"
      },
      "execution_count": null,
      "outputs": [
        {
          "output_type": "stream",
          "name": "stdout",
          "text": [
            "0.6045148765612773\n"
          ]
        },
        {
          "output_type": "display_data",
          "data": {
            "image/png": "[encoded data removed]",
            "text/plain": [
              "<Figure size 432x288 with 2 Axes>"
            ]
          },
          "metadata": {
            "needs_background": "light"
          }
        }
      ]
    },
    {
      "cell_type": "code",
      "source": [
        "y_test_pred = pipe.predict(test.loc[:,('Balance','Credit_Category','Transaction_Status','Gender','Income','Credit_Card','Age','Product_Holdings')])\n",
        "output1 = pd.DataFrame(np.column_stack([test_id,y_test_pred]), columns = ('ID','Is_Churn'))\n",
        "output1.to_csv('ChurnSub10.csv',index = False)\n",
        "files.download('ChurnSub10.csv')"
      ],
      "metadata": {
        "colab": {
          "base_uri": "https://localhost:8080/",
          "height": 72
        },
        "id": "6ZJPQ0waWKzd",
        "outputId": "dfb5662c-e19c-4844-9442-c449f3ab8a46"
      },
      "execution_count": null,
      "outputs": [
        {
          "output_type": "stream",
          "name": "stderr",
          "text": [
            "/usr/local/lib/python3.7/dist-packages/sklearn/base.py:444: UserWarning: X has feature names, but StandardScaler was fitted without feature names\n",
            "  f\"X has feature names, but {self.__class__.__name__} was fitted without\"\n"
          ]
        },
        {
          "output_type": "display_data",
          "data": {
            "application/javascript": [
              "\n",
              "    async function download(id, filename, size) {\n",
              "      if (!google.colab.kernel.accessAllowed) {\n",
              "        return;\n",
              "      }\n",
              "      const div = document.createElement('div');\n",
              "      const label = document.createElement('label');\n",
              "      label.textContent = `Downloading \"${filename}\": `;\n",
              "      div.appendChild(label);\n",
              "      const progress = document.createElement('progress');\n",
              "      progress.max = size;\n",
              "      div.appendChild(progress);\n",
              "      document.body.appendChild(div);\n",
              "\n",
              "      const buffers = [];\n",
              "      let downloaded = 0;\n",
              "\n",
              "      const channel = await google.colab.kernel.comms.open(id);\n",
              "      // Send a message to notify the kernel that we're ready.\n",
              "      channel.send({})\n",
              "\n",
              "      for await (const message of channel.messages) {\n",
              "        // Send a message to notify the kernel that we're ready.\n",
              "        channel.send({})\n",
              "        if (message.buffers) {\n",
              "          for (const buffer of message.buffers) {\n",
              "            buffers.push(buffer);\n",
              "            downloaded += buffer.byteLength;\n",
              "            progress.value = downloaded;\n",
              "          }\n",
              "        }\n",
              "      }\n",
              "      const blob = new Blob(buffers, {type: 'application/binary'});\n",
              "      const a = document.createElement('a');\n",
              "      a.href = window.URL.createObjectURL(blob);\n",
              "      a.download = filename;\n",
              "      div.appendChild(a);\n",
              "      a.click();\n",
              "      div.remove();\n",
              "    }\n",
              "  "
            ],
            "text/plain": [
              "<IPython.core.display.Javascript object>"
            ]
          },
          "metadata": {}
        },
        {
          "output_type": "display_data",
          "data": {
            "application/javascript": [
              "download(\"download_6fe77d0d-f890-4c9d-9537-d939d244414c\", \"ChurnSub10.csv\", 31373)"
            ],
            "text/plain": [
              "<IPython.core.display.Javascript object>"
            ]
          },
          "metadata": {}
        }
      ]
    },
    {
      "cell_type": "code",
      "source": [
        "from sklearn.neighbors import KNeighborsClassifier\n",
        "train = np.array(X_train.loc[:,('Balance','Credit_Category','Transaction_Status','Gender','Income','Credit_Card','Age','Product_Holdings')])\n",
        "cv = np.array(X_cv.loc[:,('Balance','Credit_Category','Transaction_Status','Gender','Income','Credit_Card','Age','Product_Holdings')])\n",
        "clf = LogisticRegression(penalty='elasticnet', dual=False, tol=0.0001, C=7, fit_intercept=True, intercept_scaling=1, class_weight=None,\n",
        "                         random_state=None, solver='saga', \n",
        "                         max_iter=1000, multi_class='auto', verbose=0, warm_start=False, n_jobs=None, l1_ratio=0.7)\n",
        "pipe = make_pipeline(StandardScaler(), clf)\n",
        "pipe.fit(train,y_train)\n",
        "y_cv_pred = pipe.predict(cv)\n",
        "y_cv_pred_prob = pipe.predict_proba(cv)\n",
        "#https://medium.com/@dtuk81/confusion-matrix-visualization-fc31e3f30fea\n",
        "import seaborn as sns\n",
        "cf_matrix = confusion_matrix(y_cv, y_cv_pred)\n",
        "sns.heatmap(cf_matrix, annot=True)\n",
        "plt.title('Confusion Matrix : Random Forest')\n",
        "from sklearn.metrics import f1_score\n",
        "f1_DT_ = f1_score(y_cv, y_cv_pred, average='macro')\n",
        "print(f1_DT_)"
      ],
      "metadata": {
        "colab": {
          "base_uri": "https://localhost:8080/",
          "height": 298
        },
        "id": "-REP22uNWR7V",
        "outputId": "61927b73-ba78-41b8-8d6d-e3497ae48156"
      },
      "execution_count": null,
      "outputs": [
        {
          "output_type": "stream",
          "name": "stdout",
          "text": [
            "0.6045148765612773\n"
          ]
        },
        {
          "output_type": "display_data",
          "data": {
            "image/png": "[encoded data removed]",
            "text/plain": [
              "<Figure size 432x288 with 2 Axes>"
            ]
          },
          "metadata": {
            "needs_background": "light"
          }
        }
      ]
    },
    {
      "cell_type": "code",
      "source": [
        "y_test_pred = pipe.predict(test.loc[:,('Balance','Credit_Category','Transaction_Status','Gender','Income','Credit_Card','Age','Product_Holdings')])\n",
        "output1 = pd.DataFrame(np.column_stack([test_id,y_test_pred]), columns = ('ID','Is_Churn'))\n",
        "output1.to_csv('ChurnSub11.csv',index = False)\n",
        "files.download('ChurnSub11.csv')"
      ],
      "metadata": {
        "colab": {
          "base_uri": "https://localhost:8080/",
          "height": 52
        },
        "id": "8TXyeT0VYnPg",
        "outputId": "61c57ab8-7a68-4702-f3d1-a1d2d6efaf08"
      },
      "execution_count": null,
      "outputs": [
        {
          "output_type": "stream",
          "name": "stderr",
          "text": [
            "/usr/local/lib/python3.7/dist-packages/sklearn/base.py:444: UserWarning: X has feature names, but StandardScaler was fitted without feature names\n",
            "  f\"X has feature names, but {self.__class__.__name__} was fitted without\"\n"
          ]
        },
        {
          "output_type": "display_data",
          "data": {
            "application/javascript": [
              "\n",
              "    async function download(id, filename, size) {\n",
              "      if (!google.colab.kernel.accessAllowed) {\n",
              "        return;\n",
              "      }\n",
              "      const div = document.createElement('div');\n",
              "      const label = document.createElement('label');\n",
              "      label.textContent = `Downloading \"${filename}\": `;\n",
              "      div.appendChild(label);\n",
              "      const progress = document.createElement('progress');\n",
              "      progress.max = size;\n",
              "      div.appendChild(progress);\n",
              "      document.body.appendChild(div);\n",
              "\n",
              "      const buffers = [];\n",
              "      let downloaded = 0;\n",
              "\n",
              "      const channel = await google.colab.kernel.comms.open(id);\n",
              "      // Send a message to notify the kernel that we're ready.\n",
              "      channel.send({})\n",
              "\n",
              "      for await (const message of channel.messages) {\n",
              "        // Send a message to notify the kernel that we're ready.\n",
              "        channel.send({})\n",
              "        if (message.buffers) {\n",
              "          for (const buffer of message.buffers) {\n",
              "            buffers.push(buffer);\n",
              "            downloaded += buffer.byteLength;\n",
              "            progress.value = downloaded;\n",
              "          }\n",
              "        }\n",
              "      }\n",
              "      const blob = new Blob(buffers, {type: 'application/binary'});\n",
              "      const a = document.createElement('a');\n",
              "      a.href = window.URL.createObjectURL(blob);\n",
              "      a.download = filename;\n",
              "      div.appendChild(a);\n",
              "      a.click();\n",
              "      div.remove();\n",
              "    }\n",
              "  "
            ],
            "text/plain": [
              "<IPython.core.display.Javascript object>"
            ]
          },
          "metadata": {}
        },
        {
          "output_type": "display_data",
          "data": {
            "application/javascript": [
              "download(\"download_865b2159-1a8a-40fc-ada5-1761d414a6dd\", \"ChurnSub11.csv\", 31373)"
            ],
            "text/plain": [
              "<IPython.core.display.Javascript object>"
            ]
          },
          "metadata": {}
        }
      ]
    },
    {
      "cell_type": "code",
      "source": [
        "estimator = XGBClassifier(learning_rate =0.1, n_estimators=3, max_depth=5,\n",
        " min_child_weight=1, gamma=0, subsample=0.8, colsample_bytree=0.8,\n",
        " objective= 'binary:logistic', nthread=4, scale_pos_weight=1, seed=27)\n",
        "\n",
        "train = np.array(X_train.loc[:,('Balance','Credit_Category','Transaction_Status','Gender','Income','Credit_Card','Age','Product_Holdings')])\n",
        "cv = np.array(X_cv.loc[:,('Balance','Credit_Category','Transaction_Status','Gender','Income','Credit_Card','Age','Product_Holdings')])\n",
        "\n",
        "parameter = {'min_samples_leaf':[1],'min_samples_split':[2]}\n",
        "clf = GridSearchCV(estimator,parameter)\n",
        "\n",
        "clf.fit(train,y_train)\n",
        "y_cv_pred = clf.predict(cv)\n",
        "#y_cv_pred_prob = pipe.predict_proba(cv)\n",
        "#https://medium.com/@dtuk81/confusion-matrix-visualization-fc31e3f30fea\n",
        "import seaborn as sns\n",
        "cf_matrix = confusion_matrix(y_cv, y_cv_pred)\n",
        "sns.heatmap(cf_matrix, annot=True)\n",
        "plt.title('Confusion Matrix : XGBoost')\n",
        "from sklearn.metrics import f1_score\n",
        "f1_DT_ = f1_score(y_cv, y_cv_pred, average='macro')\n",
        "print(f1_DT_)"
      ],
      "metadata": {
        "id": "-bIk1SFBZ-tw",
        "colab": {
          "base_uri": "https://localhost:8080/",
          "height": 298
        },
        "outputId": "2e22e4ba-fd4b-424a-994b-ca58b89511e2"
      },
      "execution_count": null,
      "outputs": [
        {
          "output_type": "stream",
          "name": "stdout",
          "text": [
            "0.6263653260719914\n"
          ]
        },
        {
          "output_type": "display_data",
          "data": {
            "image/png": "[encoded data removed]",
            "text/plain": [
              "<Figure size 432x288 with 2 Axes>"
            ]
          },
          "metadata": {
            "needs_background": "light"
          }
        }
      ]
    },
    {
      "cell_type": "code",
      "source": [
        "clf.best_params_"
      ],
      "metadata": {
        "colab": {
          "base_uri": "https://localhost:8080/"
        },
        "id": "v9Q0bKSBb2Vd",
        "outputId": "0830ed62-b10c-49dd-c9ec-dfc2e88de177"
      },
      "execution_count": null,
      "outputs": [
        {
          "output_type": "execute_result",
          "data": {
            "text/plain": [
              "{'min_samples_leaf': 1, 'min_samples_split': 2}"
            ]
          },
          "metadata": {},
          "execution_count": 300
        }
      ]
    },
    {
      "cell_type": "markdown",
      "source": [
        ""
      ],
      "metadata": {
        "id": "MzvSrogtbgLt"
      }
    },
    {
      "cell_type": "code",
      "source": [
        "from sklearn.neighbors import KNeighborsClassifier\n",
        "train = np.array(X_train.loc[:,('Balance','Credit_Category','Transaction_Status','Gender','Income','Credit_Card','Age','Product_Holdings')])\n",
        "cv = np.array(X_cv.loc[:,('Balance','Credit_Category','Transaction_Status','Gender','Income','Credit_Card','Age','Product_Holdings')])\n",
        "clf = XGBClassifier(min_samples_leaf = 1,min_samples_split = 2)\n",
        "pipe = make_pipeline(StandardScaler(), clf)\n",
        "pipe.fit(train,y_train)\n",
        "y_cv_pred = pipe.predict(cv)\n",
        "y_cv_pred_prob = pipe.predict_proba(cv)\n",
        "#https://medium.com/@dtuk81/confusion-matrix-visualization-fc31e3f30fea\n",
        "import seaborn as sns\n",
        "cf_matrix = confusion_matrix(y_cv, y_cv_pred)\n",
        "sns.heatmap(cf_matrix, annot=True)\n",
        "plt.title('Confusion Matrix : Random Forest')\n",
        "from sklearn.metrics import f1_score\n",
        "f1_DT_ = f1_score(y_cv, y_cv_pred, average='macro')\n",
        "print(f1_DT_)"
      ],
      "metadata": {
        "colab": {
          "base_uri": "https://localhost:8080/",
          "height": 298
        },
        "id": "SUXwuI_GcTr9",
        "outputId": "2b1cff41-e011-4fbe-ec32-6c0c5f6cf280"
      },
      "execution_count": null,
      "outputs": [
        {
          "output_type": "stream",
          "name": "stdout",
          "text": [
            "0.6280028478250885\n"
          ]
        },
        {
          "output_type": "display_data",
          "data": {
            "image/png": "[encoded data removed]",
            "text/plain": [
              "<Figure size 432x288 with 2 Axes>"
            ]
          },
          "metadata": {
            "needs_background": "light"
          }
        }
      ]
    },
    {
      "cell_type": "code",
      "source": [
        "y_test_pred = pipe.predict(test.loc[:,('Balance','Credit_Category','Transaction_Status','Gender','Income','Credit_Card','Age','Product_Holdings')])\n",
        "output1 = pd.DataFrame(np.column_stack([test_id,y_test_pred]), columns = ('ID','Is_Churn'))\n",
        "output1.to_csv('ChurnSub18.csv',index = False)\n",
        "files.download('ChurnSub18.csv')"
      ],
      "metadata": {
        "colab": {
          "base_uri": "https://localhost:8080/",
          "height": 52
        },
        "id": "HBnBDNyvcEMz",
        "outputId": "db1e7ba2-9cdd-40b2-e1ac-8b9f798c42f4"
      },
      "execution_count": null,
      "outputs": [
        {
          "output_type": "stream",
          "name": "stderr",
          "text": [
            "/usr/local/lib/python3.7/dist-packages/sklearn/base.py:444: UserWarning: X has feature names, but StandardScaler was fitted without feature names\n",
            "  f\"X has feature names, but {self.__class__.__name__} was fitted without\"\n"
          ]
        },
        {
          "output_type": "display_data",
          "data": {
            "application/javascript": [
              "\n",
              "    async function download(id, filename, size) {\n",
              "      if (!google.colab.kernel.accessAllowed) {\n",
              "        return;\n",
              "      }\n",
              "      const div = document.createElement('div');\n",
              "      const label = document.createElement('label');\n",
              "      label.textContent = `Downloading \"${filename}\": `;\n",
              "      div.appendChild(label);\n",
              "      const progress = document.createElement('progress');\n",
              "      progress.max = size;\n",
              "      div.appendChild(progress);\n",
              "      document.body.appendChild(div);\n",
              "\n",
              "      const buffers = [];\n",
              "      let downloaded = 0;\n",
              "\n",
              "      const channel = await google.colab.kernel.comms.open(id);\n",
              "      // Send a message to notify the kernel that we're ready.\n",
              "      channel.send({})\n",
              "\n",
              "      for await (const message of channel.messages) {\n",
              "        // Send a message to notify the kernel that we're ready.\n",
              "        channel.send({})\n",
              "        if (message.buffers) {\n",
              "          for (const buffer of message.buffers) {\n",
              "            buffers.push(buffer);\n",
              "            downloaded += buffer.byteLength;\n",
              "            progress.value = downloaded;\n",
              "          }\n",
              "        }\n",
              "      }\n",
              "      const blob = new Blob(buffers, {type: 'application/binary'});\n",
              "      const a = document.createElement('a');\n",
              "      a.href = window.URL.createObjectURL(blob);\n",
              "      a.download = filename;\n",
              "      div.appendChild(a);\n",
              "      a.click();\n",
              "      div.remove();\n",
              "    }\n",
              "  "
            ],
            "text/plain": [
              "<IPython.core.display.Javascript object>"
            ]
          },
          "metadata": {}
        },
        {
          "output_type": "display_data",
          "data": {
            "application/javascript": [
              "download(\"download_4a710d2f-1edc-4f50-a221-a2b203e5a1dc\", \"ChurnSub18.csv\", 31373)"
            ],
            "text/plain": [
              "<IPython.core.display.Javascript object>"
            ]
          },
          "metadata": {}
        }
      ]
    },
    {
      "cell_type": "code",
      "source": [
        ""
      ],
      "metadata": {
        "id": "z9QkpG_GYjZm"
      },
      "execution_count": null,
      "outputs": []
    }
  ]
}